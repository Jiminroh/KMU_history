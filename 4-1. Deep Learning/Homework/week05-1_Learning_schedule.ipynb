{
 "cells": [
  {
   "cell_type": "code",
   "execution_count": 8,
   "id": "d974073d",
   "metadata": {
    "executionInfo": {
     "elapsed": 5,
     "status": "ok",
     "timestamp": 1665147167241,
     "user": {
      "displayName": "노지민",
      "userId": "16008475171234108044"
     },
     "user_tz": -540
    },
    "id": "d974073d"
   },
   "outputs": [],
   "source": [
    "import torch\n",
    "import torch.nn as nn\n",
    "import torch.nn.functional as F\n",
    "import torch.optim as optim\n",
    "from torchvision import datasets, transforms\n",
    "from torch.utils.data import DataLoader\n",
    "\n",
    "import os\n",
    "import numpy as np\n",
    "import matplotlib.pyplot as plt\n",
    "%matplotlib inline"
   ]
  },
  {
   "cell_type": "markdown",
   "id": "658a2641",
   "metadata": {
    "id": "658a2641"
   },
   "source": [
    "## 모델을 클래스 형식으로 선언합니다."
   ]
  },
  {
   "cell_type": "code",
   "execution_count": 9,
   "id": "0b10ff65",
   "metadata": {
    "executionInfo": {
     "elapsed": 3,
     "status": "ok",
     "timestamp": 1665147167241,
     "user": {
      "displayName": "노지민",
      "userId": "16008475171234108044"
     },
     "user_tz": -540
    },
    "id": "0b10ff65"
   },
   "outputs": [],
   "source": [
    "class MyNet(nn.Module):\n",
    "    def __init__(self):\n",
    "        super(MyNet, self).__init__()\n",
    "        self.fc1 = nn.Linear(784,100)\n",
    "        self.fc2 = nn.Linear(100,100)\n",
    "        self.fc3 = nn.Linear(100,10)\n",
    "        \n",
    "    def forward(self, x):\n",
    "        x = self.fc1(x)\n",
    "        x = F.relu(x)\n",
    "        x = self.fc2(x)\n",
    "        x = F.relu(x)\n",
    "        x = self.fc3(x)\n",
    "        # F.cross_entropy = F.log_softmax + F.nll_loss\n",
    "        # 뒤에서 cross_entropy를 사용하려면, 여기서 softmax 빼야됩니다.\n",
    "        result = F.log_softmax(x, dim=1) \n",
    "        return result"
   ]
  },
  {
   "cell_type": "markdown",
   "id": "c9c7e3ff",
   "metadata": {
    "id": "c9c7e3ff"
   },
   "source": [
    "## train_dataset, test_dataset을 생성합니다."
   ]
  },
  {
   "cell_type": "code",
   "execution_count": 10,
   "id": "dfe324de",
   "metadata": {
    "executionInfo": {
     "elapsed": 558,
     "status": "ok",
     "timestamp": 1665147167797,
     "user": {
      "displayName": "노지민",
      "userId": "16008475171234108044"
     },
     "user_tz": -540
    },
    "id": "dfe324de"
   },
   "outputs": [],
   "source": [
    "data_path = 'data'\n",
    "if not os.path.exists(data_path):\n",
    "    os.makedirs(data_path)\n",
    "    \n",
    "transform = transforms.Compose([transforms.ToTensor(), # 이미지를 텐서로 변경하고\n",
    "                                transforms.Normalize((0.1307,), # 이미지를 0.1307, 0.3081값으로 normalize\n",
    "                                                     (0.3081,))\n",
    "                               ])\n",
    "\n",
    "trn_dset = datasets.MNIST(root=data_path, train=True, transform=transform, download=True)\n",
    "tst_dset = datasets.MNIST(root=data_path, train=False, transform=transform, download=False)"
   ]
  },
  {
   "cell_type": "markdown",
   "id": "c90f432c",
   "metadata": {
    "id": "c90f432c"
   },
   "source": [
    "## 위에서 생성된 dataset으로 dataloader를 만듭니다."
   ]
  },
  {
   "cell_type": "code",
   "execution_count": 11,
   "id": "25dfe965",
   "metadata": {
    "executionInfo": {
     "elapsed": 6,
     "status": "ok",
     "timestamp": 1665147167797,
     "user": {
      "displayName": "노지민",
      "userId": "16008475171234108044"
     },
     "user_tz": -540
    },
    "id": "25dfe965"
   },
   "outputs": [],
   "source": [
    "batch_size = 2**8 # 512\n",
    "trn_loader = DataLoader(trn_dset, batch_size = batch_size, shuffle=True, drop_last=False)\n",
    "tst_loader = DataLoader(tst_dset, batch_size = batch_size, shuffle=False, drop_last=False)"
   ]
  },
  {
   "cell_type": "markdown",
   "id": "5c23395b",
   "metadata": {
    "id": "5c23395b"
   },
   "source": [
    "## 모델을 생성하고 이 모델을 gpu에서 사용할지 cpu에서 사용할지 결정합니다."
   ]
  },
  {
   "cell_type": "code",
   "execution_count": 12,
   "id": "08928662",
   "metadata": {
    "colab": {
     "base_uri": "https://localhost:8080/"
    },
    "executionInfo": {
     "elapsed": 6,
     "status": "ok",
     "timestamp": 1665147167797,
     "user": {
      "displayName": "노지민",
      "userId": "16008475171234108044"
     },
     "user_tz": -540
    },
    "id": "08928662",
    "outputId": "89eadc6c-092b-4e35-e8ca-f26f5b68cd79"
   },
   "outputs": [
    {
     "name": "stdout",
     "output_type": "stream",
     "text": [
      "cuda:0\n"
     ]
    }
   ],
   "source": [
    "if torch.cuda.is_available():\n",
    "    device = torch.device('cuda:0')\n",
    "else:\n",
    "    device = torch.device('cpu')\n",
    "print(device)\n",
    "\n",
    "model = MyNet()\n",
    "model = model.to(device)"
   ]
  },
  {
   "cell_type": "markdown",
   "id": "6d7df4a7",
   "metadata": {
    "id": "6d7df4a7"
   },
   "source": [
    "## optimizer를 설정합니다."
   ]
  },
  {
   "cell_type": "code",
   "execution_count": 13,
   "id": "ad9b7867",
   "metadata": {
    "executionInfo": {
     "elapsed": 4,
     "status": "ok",
     "timestamp": 1665147167797,
     "user": {
      "displayName": "노지민",
      "userId": "16008475171234108044"
     },
     "user_tz": -540
    },
    "id": "ad9b7867"
   },
   "outputs": [],
   "source": [
    "my_opt = optim.Adam(params = model.parameters(), lr = 2e-4)"
   ]
  },
  {
   "cell_type": "markdown",
   "id": "fdab2227",
   "metadata": {
    "id": "fdab2227"
   },
   "source": [
    "## 학습해 볼까요?"
   ]
  },
  {
   "cell_type": "code",
   "execution_count": 1,
   "id": "20064066-a8db-49b3-8074-ea836b8b5bef",
   "metadata": {},
   "outputs": [
    {
     "ename": "NameError",
     "evalue": "name 'model' is not defined",
     "output_type": "error",
     "traceback": [
      "\u001b[0;31m---------------------------------------------------------------------------\u001b[0m",
      "\u001b[0;31mNameError\u001b[0m                                 Traceback (most recent call last)",
      "Cell \u001b[0;32mIn [1], line 3\u001b[0m\n\u001b[1;32m      1\u001b[0m epoch \u001b[38;5;241m=\u001b[39m \u001b[38;5;241m10\u001b[39m \n\u001b[1;32m      2\u001b[0m \u001b[38;5;28;01mfor\u001b[39;00m epoch \u001b[38;5;129;01min\u001b[39;00m \u001b[38;5;28mrange\u001b[39m(epoch):\n\u001b[0;32m----> 3\u001b[0m     \u001b[43mmodel\u001b[49m\u001b[38;5;241m.\u001b[39mtrain()\n\u001b[1;32m      4\u001b[0m     \u001b[38;5;28;01mfor\u001b[39;00m batch_idx, (x_batch, y_batch) \u001b[38;5;129;01min\u001b[39;00m \u001b[38;5;28menumerate\u001b[39m(trn_loader):\n\u001b[1;32m      5\u001b[0m         x_batch \u001b[38;5;241m=\u001b[39m x_batch\u001b[38;5;241m.\u001b[39mreshape(\u001b[38;5;241m-\u001b[39m\u001b[38;5;241m1\u001b[39m, \u001b[38;5;241m786\u001b[39m)\u001b[38;5;241m.\u001b[39mto(device)\n",
      "\u001b[0;31mNameError\u001b[0m: name 'model' is not defined"
     ]
    }
   ],
   "source": [
    "epoch = 10 \n",
    "for epoch in range(epoch):\n",
    "    model.train()\n",
    "    for batch_idx, (x_batch, y_batch) in enumerate(trn_loader):\n",
    "        x_batch = x_batch.reshape(-1, 786).to(device)\n",
    "        y_batch = y_batch.to(device)\n",
    "        \n",
    "        # optimizer\n",
    "        optimier.zero_grad()\n",
    "        \n",
    "        # forward \n",
    "        pred = model(x_batch)\n",
    "        \n",
    "        # loss \n",
    "        loss = F.nllloss(pred, y_batch)\n",
    "        \n",
    "        # update\n",
    "        loss.backward()\n",
    "        optimizer.step()\n",
    "        \n",
    "    model.eval()\n",
    "    with torch.no_grad():\n",
    "        for batch_idx, (x, y) in enumerate(tsn_loader):\n",
    "            x = x.reshape(-1, 768).to(device)\n",
    "            y = y.to(device)\n",
    "            \n",
    "            # forward \n",
    "            pred = model(x)\n",
    "            \n",
    "            # loss\n",
    "            pred = np.argmax(pred, axis=1)\n",
    "            loss = F.nllloss(pred, y)\n",
    "        \n",
    "        "
   ]
  },
  {
   "cell_type": "code",
   "execution_count": 14,
   "id": "b3f5d85e",
   "metadata": {
    "colab": {
     "base_uri": "https://localhost:8080/"
    },
    "executionInfo": {
     "elapsed": 112136,
     "status": "ok",
     "timestamp": 1665147279929,
     "user": {
      "displayName": "노지민",
      "userId": "16008475171234108044"
     },
     "user_tz": -540
    },
    "id": "b3f5d85e",
    "outputId": "f4466725-bf5d-463e-9c9f-9c6951df5340"
   },
   "outputs": [
    {
     "name": "stdout",
     "output_type": "stream",
     "text": [
      "Train Epoch: 0 [25344/60000 (42%)]\tLoss: 0.562073\n",
      "Train Epoch: 0 [50944/60000 (85%)]\tLoss: 0.339318\n",
      "Train Epoch: 0 [60000/60000 (100%)]\tLoss: 0.393228\n",
      "\n",
      "Test set: Average loss: 0.3256, Accuracy: 9104/10000 (91%)\n",
      "\n",
      "Train Epoch: 1 [25344/60000 (42%)]\tLoss: 0.381813\n",
      "Train Epoch: 1 [50944/60000 (85%)]\tLoss: 0.284295\n",
      "Train Epoch: 1 [60000/60000 (100%)]\tLoss: 0.204757\n",
      "\n",
      "Test set: Average loss: 0.2516, Accuracy: 9276/10000 (93%)\n",
      "\n",
      "Train Epoch: 2 [25344/60000 (42%)]\tLoss: 0.248221\n",
      "Train Epoch: 2 [50944/60000 (85%)]\tLoss: 0.303129\n",
      "Train Epoch: 2 [60000/60000 (100%)]\tLoss: 0.259247\n",
      "\n",
      "Test set: Average loss: 0.2146, Accuracy: 9374/10000 (94%)\n",
      "\n",
      "Train Epoch: 3 [25344/60000 (42%)]\tLoss: 0.223804\n",
      "Train Epoch: 3 [50944/60000 (85%)]\tLoss: 0.174606\n",
      "Train Epoch: 3 [60000/60000 (100%)]\tLoss: 0.213114\n",
      "\n",
      "Test set: Average loss: 0.1867, Accuracy: 9448/10000 (94%)\n",
      "\n",
      "Train Epoch: 4 [25344/60000 (42%)]\tLoss: 0.196686\n",
      "Train Epoch: 4 [50944/60000 (85%)]\tLoss: 0.234846\n",
      "Train Epoch: 4 [60000/60000 (100%)]\tLoss: 0.215092\n",
      "\n",
      "Test set: Average loss: 0.1671, Accuracy: 9517/10000 (95%)\n",
      "\n",
      "Train Epoch: 5 [25344/60000 (42%)]\tLoss: 0.148826\n",
      "Train Epoch: 5 [50944/60000 (85%)]\tLoss: 0.201569\n",
      "Train Epoch: 5 [60000/60000 (100%)]\tLoss: 0.196403\n",
      "\n",
      "Test set: Average loss: 0.1537, Accuracy: 9567/10000 (96%)\n",
      "\n",
      "Train Epoch: 6 [25344/60000 (42%)]\tLoss: 0.114140\n",
      "Train Epoch: 6 [50944/60000 (85%)]\tLoss: 0.126452\n",
      "Train Epoch: 6 [60000/60000 (100%)]\tLoss: 0.122319\n",
      "\n",
      "Test set: Average loss: 0.1397, Accuracy: 9601/10000 (96%)\n",
      "\n",
      "Train Epoch: 7 [25344/60000 (42%)]\tLoss: 0.134353\n",
      "Train Epoch: 7 [50944/60000 (85%)]\tLoss: 0.120634\n",
      "Train Epoch: 7 [60000/60000 (100%)]\tLoss: 0.223651\n",
      "\n",
      "Test set: Average loss: 0.1290, Accuracy: 9618/10000 (96%)\n",
      "\n",
      "Train Epoch: 8 [25344/60000 (42%)]\tLoss: 0.179086\n",
      "Train Epoch: 8 [50944/60000 (85%)]\tLoss: 0.093582\n",
      "Train Epoch: 8 [60000/60000 (100%)]\tLoss: 0.121407\n",
      "\n",
      "Test set: Average loss: 0.1184, Accuracy: 9656/10000 (97%)\n",
      "\n",
      "Train Epoch: 9 [25344/60000 (42%)]\tLoss: 0.101049\n",
      "Train Epoch: 9 [50944/60000 (85%)]\tLoss: 0.053367\n",
      "Train Epoch: 9 [60000/60000 (100%)]\tLoss: 0.114917\n",
      "\n",
      "Test set: Average loss: 0.1126, Accuracy: 9668/10000 (97%)\n",
      "\n"
     ]
    }
   ],
   "source": [
    "n_epochs = 10\n",
    "for epoch in range(n_epochs):\n",
    "    model.train()\n",
    "    for batch_idx, (x_batch, y_batch) in enumerate(trn_loader):\n",
    "        x_batch = x_batch.reshape(-1,784).to(device)\n",
    "        y_batch = y_batch.to(device)\n",
    "        my_opt.zero_grad()\n",
    "        y_batch_prob = model(x_batch)\n",
    "        loss = F.nll_loss(y_batch_prob, y_batch)\n",
    "        loss.backward()\n",
    "        my_opt.step()\n",
    "        if (batch_idx+1)%100 == 0:\n",
    "            print('Train Epoch: {} [{}/{} ({:.0f}%)]\\tLoss: {:.6f}'.format(epoch, \n",
    "                                                                           batch_idx * len(x_batch), \n",
    "                                                                           len(trn_loader.dataset),\n",
    "                                                                           100 * batch_idx / len(trn_loader),\n",
    "                                                                           loss.item()))\n",
    "    # 매 epoch이 끝날때 결과 찍기\n",
    "    print('Train Epoch: {} [{}/{} (100%)]\\tLoss: {:.6f}'.format(epoch, \n",
    "                                                                   len(trn_loader.dataset), \n",
    "                                                                   len(trn_loader.dataset),\n",
    "                                                                loss.item()))\n",
    "    model.eval()\n",
    "    y_pred_list = []\n",
    "    y_real_list = []\n",
    "    tst_loss = 0\n",
    "    with torch.no_grad():\n",
    "        for batch_idx, (x_batch, y_batch) in enumerate(tst_loader):\n",
    "            x_batch = x_batch.reshape(-1,784).to(device)\n",
    "            y_batch = y_batch.to(device)\n",
    "            y_batch_prob = model(x_batch)\n",
    "            y_batch_pred = np.argmax(y_batch_prob.cpu(), axis=1)\n",
    "#             print(y_batch_pred)\n",
    "#             print(y_batch)\n",
    "#             y_batch_pred = y_batch_prob.argmax(dim=1, keepdim=True)\n",
    "            loss = F.nll_loss(y_batch_prob, y_batch, reduction='sum')\n",
    "            tst_loss += loss\n",
    "            \n",
    "            y_pred_list.append(y_batch_pred.detach().numpy())\n",
    "            y_real_list.append(y_batch.cpu().numpy())\n",
    "            \n",
    "        y_real = np.concatenate([x for x in y_real_list], axis=0)\n",
    "        y_pred = np.concatenate([x for x in y_pred_list], axis=0)\n",
    "        tst_loss /= y_real.shape[0]\n",
    "        correct  = np.sum(y_real == y_pred)\n",
    "        accuracy = 100*correct / len(tst_loader.dataset)\n",
    "        \n",
    "        print('\\nTest set: Average loss: {:.4f}, Accuracy: {}/{} ({:.0f}%)\\n'.format(tst_loss, \n",
    "                                                                                     correct, \n",
    "                                                                                     len(tst_loader.dataset),\n",
    "                                                                                     accuracy))"
   ]
  },
  {
   "cell_type": "markdown",
   "id": "c115e164",
   "metadata": {
    "id": "c115e164"
   },
   "source": [
    "# 여러 optimizer에 대해 비교해볼까요?"
   ]
  },
  {
   "cell_type": "code",
   "execution_count": 15,
   "id": "c4a78e3c",
   "metadata": {
    "executionInfo": {
     "elapsed": 15,
     "status": "ok",
     "timestamp": 1665147279929,
     "user": {
      "displayName": "노지민",
      "userId": "16008475171234108044"
     },
     "user_tz": -540
    },
    "id": "c4a78e3c"
   },
   "outputs": [],
   "source": [
    "batch_size = 2**8\n",
    "trn_loader = DataLoader(trn_dset, batch_size = batch_size, shuffle=True, drop_last=False)\n",
    "tst_loader = DataLoader(tst_dset, batch_size = batch_size, shuffle=False, drop_last=False)"
   ]
  },
  {
   "cell_type": "code",
   "execution_count": 16,
   "id": "3dc16b0a",
   "metadata": {
    "executionInfo": {
     "elapsed": 15,
     "status": "ok",
     "timestamp": 1665147279930,
     "user": {
      "displayName": "노지민",
      "userId": "16008475171234108044"
     },
     "user_tz": -540
    },
    "id": "3dc16b0a"
   },
   "outputs": [],
   "source": [
    "opt_list = ['SGD', 'AdaGrad', 'RMSProp', 'Adam']\n",
    "model_dict    = dict()\n",
    "trn_loss_dict = dict()\n",
    "tst_loss_dict = dict()\n",
    "opt_dict      = dict()\n",
    "accuracy_dict = dict()\n",
    "\n",
    "for opt in opt_list:\n",
    "    model_dict[opt]    = MyNet().to(device)\n",
    "    trn_loss_dict[opt] = list()\n",
    "    tst_loss_dict[opt] = list()\n",
    "    accuracy_dict[opt] = list()\n",
    "\n",
    "opt_dict['SGD'] = optim.SGD(model_dict['SGD'].parameters(), lr=2e-4)\n",
    "opt_dict['AdaGrad'] = optim.Adagrad(model_dict['AdaGrad'].parameters(), lr=2e-4)\n",
    "opt_dict['RMSProp'] = optim.RMSprop(model_dict['RMSProp'].parameters(), lr=2e-4)\n",
    "opt_dict['Adam'] = optim.Adam(model_dict['Adam'].parameters(), lr=2e-4)"
   ]
  },
  {
   "cell_type": "code",
   "execution_count": 17,
   "id": "2cec3713",
   "metadata": {
    "colab": {
     "base_uri": "https://localhost:8080/"
    },
    "executionInfo": {
     "elapsed": 431181,
     "status": "ok",
     "timestamp": 1665147711097,
     "user": {
      "displayName": "노지민",
      "userId": "16008475171234108044"
     },
     "user_tz": -540
    },
    "id": "2cec3713",
    "outputId": "e6f9d780-b2d2-43d1-f443-0f37942b4a23",
    "scrolled": true
   },
   "outputs": [
    {
     "name": "stdout",
     "output_type": "stream",
     "text": [
      "Optimizer: SGD, Epoch: 0 \t Trn Loss: 2.310599\n",
      "Optimizer: SGD, Epoch: 0 \t Tst Loss: 2.303981, Accuracy: 11.32%\n",
      "Optimizer: SGD, Epoch: 1 \t Trn Loss: 2.300372\n",
      "Optimizer: SGD, Epoch: 1 \t Tst Loss: 2.293697, Accuracy: 12.47%\n",
      "Optimizer: SGD, Epoch: 2 \t Trn Loss: 2.290409\n",
      "Optimizer: SGD, Epoch: 2 \t Tst Loss: 2.283630, Accuracy: 13.73%\n",
      "Optimizer: SGD, Epoch: 3 \t Trn Loss: 2.280602\n",
      "Optimizer: SGD, Epoch: 3 \t Tst Loss: 2.273658, Accuracy: 15.11%\n",
      "Optimizer: SGD, Epoch: 4 \t Trn Loss: 2.270833\n",
      "Optimizer: SGD, Epoch: 4 \t Tst Loss: 2.263625, Accuracy: 16.56%\n",
      "Optimizer: SGD, Epoch: 5 \t Trn Loss: 2.260947\n",
      "Optimizer: SGD, Epoch: 5 \t Tst Loss: 2.253382, Accuracy: 18.48%\n",
      "Optimizer: SGD, Epoch: 6 \t Trn Loss: 2.250797\n",
      "Optimizer: SGD, Epoch: 6 \t Tst Loss: 2.242818, Accuracy: 20.81%\n",
      "Optimizer: SGD, Epoch: 7 \t Trn Loss: 2.240257\n",
      "Optimizer: SGD, Epoch: 7 \t Tst Loss: 2.231799, Accuracy: 23.52%\n",
      "Optimizer: SGD, Epoch: 8 \t Trn Loss: 2.229197\n",
      "Optimizer: SGD, Epoch: 8 \t Tst Loss: 2.220171, Accuracy: 25.92%\n",
      "Optimizer: SGD, Epoch: 9 \t Trn Loss: 2.217490\n",
      "Optimizer: SGD, Epoch: 9 \t Tst Loss: 2.207837, Accuracy: 28.32%\n",
      "Optimizer: AdaGrad, Epoch: 0 \t Trn Loss: 1.888357\n",
      "Optimizer: AdaGrad, Epoch: 0 \t Tst Loss: 1.583653, Accuracy: 69.88%\n",
      "Optimizer: AdaGrad, Epoch: 1 \t Trn Loss: 1.411495\n",
      "Optimizer: AdaGrad, Epoch: 1 \t Tst Loss: 1.233775, Accuracy: 76.92%\n",
      "Optimizer: AdaGrad, Epoch: 2 \t Trn Loss: 1.141573\n",
      "Optimizer: AdaGrad, Epoch: 2 \t Tst Loss: 1.027178, Accuracy: 80.54%\n",
      "Optimizer: AdaGrad, Epoch: 3 \t Trn Loss: 0.977475\n",
      "Optimizer: AdaGrad, Epoch: 3 \t Tst Loss: 0.895760, Accuracy: 82.93%\n",
      "Optimizer: AdaGrad, Epoch: 4 \t Trn Loss: 0.867916\n",
      "Optimizer: AdaGrad, Epoch: 4 \t Tst Loss: 0.804821, Accuracy: 84.45%\n",
      "Optimizer: AdaGrad, Epoch: 5 \t Trn Loss: 0.789412\n",
      "Optimizer: AdaGrad, Epoch: 5 \t Tst Loss: 0.736925, Accuracy: 85.33%\n",
      "Optimizer: AdaGrad, Epoch: 6 \t Trn Loss: 0.729161\n",
      "Optimizer: AdaGrad, Epoch: 6 \t Tst Loss: 0.683178, Accuracy: 86.29%\n",
      "Optimizer: AdaGrad, Epoch: 7 \t Trn Loss: 0.679556\n",
      "Optimizer: AdaGrad, Epoch: 7 \t Tst Loss: 0.639228, Accuracy: 86.85%\n",
      "Optimizer: AdaGrad, Epoch: 8 \t Trn Loss: 0.640954\n",
      "Optimizer: AdaGrad, Epoch: 8 \t Tst Loss: 0.605146, Accuracy: 87.27%\n",
      "Optimizer: AdaGrad, Epoch: 9 \t Trn Loss: 0.609756\n",
      "Optimizer: AdaGrad, Epoch: 9 \t Tst Loss: 0.576650, Accuracy: 87.71%\n",
      "Optimizer: RMSProp, Epoch: 0 \t Trn Loss: 0.485023\n",
      "Optimizer: RMSProp, Epoch: 0 \t Tst Loss: 0.281427, Accuracy: 91.96%\n",
      "Optimizer: RMSProp, Epoch: 1 \t Trn Loss: 0.258808\n",
      "Optimizer: RMSProp, Epoch: 1 \t Tst Loss: 0.228876, Accuracy: 93.16%\n",
      "Optimizer: RMSProp, Epoch: 2 \t Trn Loss: 0.211393\n",
      "Optimizer: RMSProp, Epoch: 2 \t Tst Loss: 0.201234, Accuracy: 94.01%\n",
      "Optimizer: RMSProp, Epoch: 3 \t Trn Loss: 0.180388\n",
      "Optimizer: RMSProp, Epoch: 3 \t Tst Loss: 0.172792, Accuracy: 94.87%\n",
      "Optimizer: RMSProp, Epoch: 4 \t Trn Loss: 0.157223\n",
      "Optimizer: RMSProp, Epoch: 4 \t Tst Loss: 0.160700, Accuracy: 95.06%\n",
      "Optimizer: RMSProp, Epoch: 5 \t Trn Loss: 0.139135\n",
      "Optimizer: RMSProp, Epoch: 5 \t Tst Loss: 0.139496, Accuracy: 95.85%\n",
      "Optimizer: RMSProp, Epoch: 6 \t Trn Loss: 0.124563\n",
      "Optimizer: RMSProp, Epoch: 6 \t Tst Loss: 0.127672, Accuracy: 96.23%\n",
      "Optimizer: RMSProp, Epoch: 7 \t Trn Loss: 0.112600\n",
      "Optimizer: RMSProp, Epoch: 7 \t Tst Loss: 0.125506, Accuracy: 96.13%\n",
      "Optimizer: RMSProp, Epoch: 8 \t Trn Loss: 0.102498\n",
      "Optimizer: RMSProp, Epoch: 8 \t Tst Loss: 0.119823, Accuracy: 96.34%\n",
      "Optimizer: RMSProp, Epoch: 9 \t Trn Loss: 0.093523\n",
      "Optimizer: RMSProp, Epoch: 9 \t Tst Loss: 0.109832, Accuracy: 96.63%\n",
      "Optimizer: Adam, Epoch: 0 \t Trn Loss: 0.800331\n",
      "Optimizer: Adam, Epoch: 0 \t Tst Loss: 0.329976, Accuracy: 90.75%\n",
      "Optimizer: Adam, Epoch: 1 \t Trn Loss: 0.300271\n",
      "Optimizer: Adam, Epoch: 1 \t Tst Loss: 0.259266, Accuracy: 92.57%\n",
      "Optimizer: Adam, Epoch: 2 \t Trn Loss: 0.244636\n",
      "Optimizer: Adam, Epoch: 2 \t Tst Loss: 0.219485, Accuracy: 93.63%\n",
      "Optimizer: Adam, Epoch: 3 \t Trn Loss: 0.208892\n",
      "Optimizer: Adam, Epoch: 3 \t Tst Loss: 0.193092, Accuracy: 94.41%\n",
      "Optimizer: Adam, Epoch: 4 \t Trn Loss: 0.182960\n",
      "Optimizer: Adam, Epoch: 4 \t Tst Loss: 0.172840, Accuracy: 95.11%\n",
      "Optimizer: Adam, Epoch: 5 \t Trn Loss: 0.162150\n",
      "Optimizer: Adam, Epoch: 5 \t Tst Loss: 0.155153, Accuracy: 95.46%\n",
      "Optimizer: Adam, Epoch: 6 \t Trn Loss: 0.145495\n",
      "Optimizer: Adam, Epoch: 6 \t Tst Loss: 0.145027, Accuracy: 95.81%\n",
      "Optimizer: Adam, Epoch: 7 \t Trn Loss: 0.131228\n",
      "Optimizer: Adam, Epoch: 7 \t Tst Loss: 0.131465, Accuracy: 96.18%\n",
      "Optimizer: Adam, Epoch: 8 \t Trn Loss: 0.118950\n",
      "Optimizer: Adam, Epoch: 8 \t Tst Loss: 0.124510, Accuracy: 96.37%\n",
      "Optimizer: Adam, Epoch: 9 \t Trn Loss: 0.109681\n",
      "Optimizer: Adam, Epoch: 9 \t Tst Loss: 0.116675, Accuracy: 96.46%\n"
     ]
    }
   ],
   "source": [
    "n_epochs = 10\n",
    "\n",
    "for opt_name, optimizer in opt_dict.items():\n",
    "    for epoch in range(n_epochs):\n",
    "        model_dict[opt_name].train()\n",
    "        total_trn_loss = 0\n",
    "        for batch_idx, (x_batch, y_batch) in enumerate(trn_loader):\n",
    "            x_batch = x_batch.reshape(-1,784).to(device)\n",
    "            y_batch = y_batch.to(device)\n",
    "            opt_dict[opt_name].zero_grad()\n",
    "            y_batch_prob = model_dict[opt_name](x_batch)\n",
    "            trn_loss = F.nll_loss(y_batch_prob, y_batch)\n",
    "            trn_loss.backward()\n",
    "            total_trn_loss += trn_loss.item() * y_batch.shape[0]\n",
    "            opt_dict[opt_name].step()\n",
    "        trn_loss_dict[opt_name].append(total_trn_loss/len(trn_loader.dataset))\n",
    "        \n",
    "        \n",
    "        \n",
    "        model_dict[opt_name].eval()\n",
    "        total_tst_loss=0\n",
    "        correct = 0\n",
    "        with torch.no_grad():\n",
    "            for batch_idx, (x_batch, y_batch) in enumerate(tst_loader):\n",
    "                x_batch = x_batch.reshape(-1,784).to(device)\n",
    "                y_batch = y_batch.to(device)\n",
    "                y_batch_prob = model_dict[opt_name](x_batch)\n",
    "                y_batch_pred = torch.argmax(y_batch_prob, axis=1)\n",
    "                tst_loss = F.nll_loss(y_batch_prob, y_batch)\n",
    "                total_tst_loss += tst_loss.item() * y_batch.shape[0]\n",
    "                correct += np.sum(y_batch.cpu().numpy() == y_batch_pred.cpu().numpy())\n",
    "        tst_loss_dict[opt_name].append(total_tst_loss / len(tst_loader.dataset))\n",
    "        accuracy_dict[opt_name].append(correct / len(tst_loader.dataset))\n",
    "        \n",
    "        # 매 epoch이 끝날때 결과 찍기\n",
    "        print('Optimizer: {}, Epoch: {} \\t Trn Loss: {:.6f}'.format(opt_name, epoch, \n",
    "                                                                    total_trn_loss/len(trn_loader.dataset)))\n",
    "        \n",
    "        print('Optimizer: {}, Epoch: {} \\t Tst Loss: {:.6f}, Accuracy: {:.2f}%'.format(opt_name, epoch, \n",
    "                                                                                       total_tst_loss/len(tst_loader.dataset), \n",
    "                                                                                       100*correct/len(tst_loader.dataset)))\n",
    "    "
   ]
  },
  {
   "cell_type": "code",
   "execution_count": 18,
   "id": "de742b19",
   "metadata": {
    "colab": {
     "base_uri": "https://localhost:8080/",
     "height": 283
    },
    "executionInfo": {
     "elapsed": 14,
     "status": "ok",
     "timestamp": 1665147711098,
     "user": {
      "displayName": "노지민",
      "userId": "16008475171234108044"
     },
     "user_tz": -540
    },
    "id": "de742b19",
    "outputId": "378ab0f6-b337-4f56-a217-8fdbec3bc9e6"
   },
   "outputs": [
    {
     "data": {
      "text/plain": [
       "<matplotlib.legend.Legend at 0x7fbcf467df10>"
      ]
     },
     "execution_count": 18,
     "metadata": {},
     "output_type": "execute_result"
    },
    {
     "data": {
      "image/png": "[encoded data removed]",
      "text/plain": [
       "<Figure size 432x288 with 1 Axes>"
      ]
     },
     "metadata": {
      "needs_background": "light"
     },
     "output_type": "display_data"
    }
   ],
   "source": [
    "plt.plot(trn_loss_dict['SGD'])\n",
    "plt.plot(trn_loss_dict['AdaGrad'], c='k')\n",
    "plt.plot(trn_loss_dict['RMSProp'], c='b')\n",
    "plt.plot(trn_loss_dict['Adam'], c='r')\n",
    "plt.legend(['SGD', 'AdaGrad', 'RMSProp', 'Adam'])"
   ]
  },
  {
   "cell_type": "code",
   "execution_count": 19,
   "id": "c5855723",
   "metadata": {
    "colab": {
     "base_uri": "https://localhost:8080/",
     "height": 283
    },
    "executionInfo": {
     "elapsed": 9,
     "status": "ok",
     "timestamp": 1665147711098,
     "user": {
      "displayName": "노지민",
      "userId": "16008475171234108044"
     },
     "user_tz": -540
    },
    "id": "c5855723",
    "outputId": "00a866f1-6f04-4eb5-f077-a5a0ce39ef21"
   },
   "outputs": [
    {
     "data": {
      "text/plain": [
       "<matplotlib.legend.Legend at 0x7fbcf4509fd0>"
      ]
     },
     "execution_count": 19,
     "metadata": {},
     "output_type": "execute_result"
    },
    {
     "data": {
      "image/png": "[encoded data removed]",
      "text/plain": [
       "<Figure size 432x288 with 1 Axes>"
      ]
     },
     "metadata": {
      "needs_background": "light"
     },
     "output_type": "display_data"
    }
   ],
   "source": [
    "plt.plot(tst_loss_dict['SGD'])\n",
    "plt.plot(tst_loss_dict['AdaGrad'], c='k')\n",
    "plt.plot(tst_loss_dict['RMSProp'], c='b')\n",
    "plt.plot(tst_loss_dict['Adam'], c='r')\n",
    "plt.legend(['SGD', 'AdaGrad', 'RMSProp', 'Adam'])"
   ]
  },
  {
   "cell_type": "code",
   "execution_count": 20,
   "id": "6b853ea5",
   "metadata": {
    "colab": {
     "base_uri": "https://localhost:8080/",
     "height": 285
    },
    "executionInfo": {
     "elapsed": 694,
     "status": "ok",
     "timestamp": 1665147711785,
     "user": {
      "displayName": "노지민",
      "userId": "16008475171234108044"
     },
     "user_tz": -540
    },
    "id": "6b853ea5",
    "outputId": "32d2ff32-27e3-474c-9806-2c4ca518bd08"
   },
   "outputs": [
    {
     "data": {
      "text/plain": [
       "<matplotlib.legend.Legend at 0x7fbcf4557290>"
      ]
     },
     "execution_count": 20,
     "metadata": {},
     "output_type": "execute_result"
    },
    {
     "data": {
      "image/png": "[encoded data removed]",
      "text/plain": [
       "<Figure size 432x288 with 1 Axes>"
      ]
     },
     "metadata": {
      "needs_background": "light"
     },
     "output_type": "display_data"
    }
   ],
   "source": [
    "plt.plot(accuracy_dict['SGD'])\n",
    "plt.plot(accuracy_dict['AdaGrad'], c='k')\n",
    "plt.plot(accuracy_dict['RMSProp'], c='b')\n",
    "plt.plot(accuracy_dict['Adam'], c='r')\n",
    "plt.legend(['SGD', 'AdaGrad', 'RMSProp', 'Adam'])"
   ]
  },
  {
   "cell_type": "markdown",
   "id": "e3a943e3",
   "metadata": {
    "id": "e3a943e3"
   },
   "source": [
    "# 연습문제"
   ]
  },
  {
   "cell_type": "markdown",
   "id": "ac684f03",
   "metadata": {
    "id": "ac684f03"
   },
   "source": [
    "<span style = 'font-size:1.3em;line-height:1.5em'>1. Learning rate를 지금보다 좀 더 크게 했을 때 어떤 일이 일어나는지 관찰해봅시다. SGD, AdaGrad, RMSProp, Adam optimizer에 대해서 잘 학습이 되는지, 기존보다 학습속도는 더 빠르게 되는지 알아봅시다. </span>"
   ]
  },
  {
   "cell_type": "code",
   "execution_count": 21,
   "id": "ca1eb0db",
   "metadata": {
    "executionInfo": {
     "elapsed": 9,
     "status": "ok",
     "timestamp": 1665147711786,
     "user": {
      "displayName": "노지민",
      "userId": "16008475171234108044"
     },
     "user_tz": -540
    },
    "id": "ca1eb0db"
   },
   "outputs": [],
   "source": [
    "opt_list = ['SGD', 'AdaGrad', 'RMSProp', 'Adam']\n",
    "model_dict    = dict()\n",
    "trn_loss_dict = dict()\n",
    "tst_loss_dict = dict()\n",
    "opt_dict      = dict()\n",
    "accuracy_dict = dict()\n",
    "\n",
    "for opt in opt_list:\n",
    "    model_dict[opt]    = MyNet().to(device)\n",
    "    trn_loss_dict[opt] = list()\n",
    "    tst_loss_dict[opt] = list()\n",
    "    accuracy_dict[opt] = list()\n",
    "\n",
    "opt_dict['SGD'] = optim.SGD(model_dict['SGD'].parameters(), lr=2e-3) # learning rate 0.0002 -> 0.002\n",
    "opt_dict['AdaGrad'] = optim.Adagrad(model_dict['AdaGrad'].parameters(), lr=2e-3)\n",
    "opt_dict['RMSProp'] = optim.RMSprop(model_dict['RMSProp'].parameters(), lr=2e-3)\n",
    "opt_dict['Adam'] = optim.Adam(model_dict['Adam'].parameters(), lr=2e-3)"
   ]
  },
  {
   "cell_type": "code",
   "execution_count": 22,
   "id": "6f20be6f-1972-4f8f-9bda-87a257546011",
   "metadata": {
    "colab": {
     "base_uri": "https://localhost:8080/"
    },
    "executionInfo": {
     "elapsed": 423534,
     "status": "ok",
     "timestamp": 1665148135312,
     "user": {
      "displayName": "노지민",
      "userId": "16008475171234108044"
     },
     "user_tz": -540
    },
    "id": "6f20be6f-1972-4f8f-9bda-87a257546011",
    "outputId": "e29c9558-c620-4e0b-da1d-fd7971ad131b"
   },
   "outputs": [
    {
     "name": "stdout",
     "output_type": "stream",
     "text": [
      "Optimizer: SGD, Epoch: 0 \t Trn Loss: 2.259199\n",
      "Optimizer: SGD, Epoch: 0 \t Tst Loss: 2.203151, Accuracy: 37.60%\n",
      "Optimizer: SGD, Epoch: 1 \t Trn Loss: 2.120525\n",
      "Optimizer: SGD, Epoch: 1 \t Tst Loss: 2.005568, Accuracy: 62.55%\n",
      "Optimizer: SGD, Epoch: 2 \t Trn Loss: 1.848696\n",
      "Optimizer: SGD, Epoch: 2 \t Tst Loss: 1.646207, Accuracy: 70.51%\n",
      "Optimizer: SGD, Epoch: 3 \t Trn Loss: 1.455735\n",
      "Optimizer: SGD, Epoch: 3 \t Tst Loss: 1.240209, Accuracy: 75.27%\n",
      "Optimizer: SGD, Epoch: 4 \t Trn Loss: 1.101677\n",
      "Optimizer: SGD, Epoch: 4 \t Tst Loss: 0.943887, Accuracy: 80.34%\n",
      "Optimizer: SGD, Epoch: 5 \t Trn Loss: 0.867485\n",
      "Optimizer: SGD, Epoch: 5 \t Tst Loss: 0.762968, Accuracy: 82.77%\n",
      "Optimizer: SGD, Epoch: 6 \t Trn Loss: 0.723786\n",
      "Optimizer: SGD, Epoch: 6 \t Tst Loss: 0.650301, Accuracy: 84.39%\n",
      "Optimizer: SGD, Epoch: 7 \t Trn Loss: 0.630781\n",
      "Optimizer: SGD, Epoch: 7 \t Tst Loss: 0.574729, Accuracy: 85.91%\n",
      "Optimizer: SGD, Epoch: 8 \t Trn Loss: 0.566490\n",
      "Optimizer: SGD, Epoch: 8 \t Tst Loss: 0.520846, Accuracy: 87.26%\n",
      "Optimizer: SGD, Epoch: 9 \t Trn Loss: 0.519608\n",
      "Optimizer: SGD, Epoch: 9 \t Tst Loss: 0.480694, Accuracy: 87.90%\n",
      "Optimizer: AdaGrad, Epoch: 0 \t Trn Loss: 0.494369\n",
      "Optimizer: AdaGrad, Epoch: 0 \t Tst Loss: 0.311347, Accuracy: 91.29%\n",
      "Optimizer: AdaGrad, Epoch: 1 \t Trn Loss: 0.293470\n",
      "Optimizer: AdaGrad, Epoch: 1 \t Tst Loss: 0.264785, Accuracy: 92.40%\n",
      "Optimizer: AdaGrad, Epoch: 2 \t Trn Loss: 0.260525\n",
      "Optimizer: AdaGrad, Epoch: 2 \t Tst Loss: 0.241907, Accuracy: 92.86%\n",
      "Optimizer: AdaGrad, Epoch: 3 \t Trn Loss: 0.240534\n",
      "Optimizer: AdaGrad, Epoch: 3 \t Tst Loss: 0.227949, Accuracy: 93.30%\n",
      "Optimizer: AdaGrad, Epoch: 4 \t Trn Loss: 0.225813\n",
      "Optimizer: AdaGrad, Epoch: 4 \t Tst Loss: 0.215107, Accuracy: 93.82%\n",
      "Optimizer: AdaGrad, Epoch: 5 \t Trn Loss: 0.214146\n",
      "Optimizer: AdaGrad, Epoch: 5 \t Tst Loss: 0.207640, Accuracy: 93.83%\n",
      "Optimizer: AdaGrad, Epoch: 6 \t Trn Loss: 0.204445\n",
      "Optimizer: AdaGrad, Epoch: 6 \t Tst Loss: 0.197404, Accuracy: 94.21%\n",
      "Optimizer: AdaGrad, Epoch: 7 \t Trn Loss: 0.196409\n",
      "Optimizer: AdaGrad, Epoch: 7 \t Tst Loss: 0.192040, Accuracy: 94.42%\n",
      "Optimizer: AdaGrad, Epoch: 8 \t Trn Loss: 0.189613\n",
      "Optimizer: AdaGrad, Epoch: 8 \t Tst Loss: 0.185244, Accuracy: 94.56%\n",
      "Optimizer: AdaGrad, Epoch: 9 \t Trn Loss: 0.183303\n",
      "Optimizer: AdaGrad, Epoch: 9 \t Tst Loss: 0.181491, Accuracy: 94.64%\n",
      "Optimizer: RMSProp, Epoch: 0 \t Trn Loss: 0.354396\n",
      "Optimizer: RMSProp, Epoch: 0 \t Tst Loss: 0.233917, Accuracy: 92.26%\n",
      "Optimizer: RMSProp, Epoch: 1 \t Trn Loss: 0.127648\n",
      "Optimizer: RMSProp, Epoch: 1 \t Tst Loss: 0.181700, Accuracy: 94.08%\n",
      "Optimizer: RMSProp, Epoch: 2 \t Trn Loss: 0.096470\n",
      "Optimizer: RMSProp, Epoch: 2 \t Tst Loss: 0.100435, Accuracy: 96.75%\n",
      "Optimizer: RMSProp, Epoch: 3 \t Trn Loss: 0.074480\n",
      "Optimizer: RMSProp, Epoch: 3 \t Tst Loss: 0.095574, Accuracy: 97.00%\n",
      "Optimizer: RMSProp, Epoch: 4 \t Trn Loss: 0.061817\n",
      "Optimizer: RMSProp, Epoch: 4 \t Tst Loss: 0.113539, Accuracy: 96.54%\n",
      "Optimizer: RMSProp, Epoch: 5 \t Trn Loss: 0.052824\n",
      "Optimizer: RMSProp, Epoch: 5 \t Tst Loss: 0.114825, Accuracy: 96.78%\n",
      "Optimizer: RMSProp, Epoch: 6 \t Trn Loss: 0.043717\n",
      "Optimizer: RMSProp, Epoch: 6 \t Tst Loss: 0.117051, Accuracy: 96.48%\n",
      "Optimizer: RMSProp, Epoch: 7 \t Trn Loss: 0.036058\n",
      "Optimizer: RMSProp, Epoch: 7 \t Tst Loss: 0.106884, Accuracy: 96.99%\n",
      "Optimizer: RMSProp, Epoch: 8 \t Trn Loss: 0.030621\n",
      "Optimizer: RMSProp, Epoch: 8 \t Tst Loss: 0.372766, Accuracy: 91.61%\n",
      "Optimizer: RMSProp, Epoch: 9 \t Trn Loss: 0.031606\n",
      "Optimizer: RMSProp, Epoch: 9 \t Tst Loss: 0.133324, Accuracy: 96.62%\n",
      "Optimizer: Adam, Epoch: 0 \t Trn Loss: 0.330452\n",
      "Optimizer: Adam, Epoch: 0 \t Tst Loss: 0.157889, Accuracy: 95.15%\n",
      "Optimizer: Adam, Epoch: 1 \t Trn Loss: 0.125919\n",
      "Optimizer: Adam, Epoch: 1 \t Tst Loss: 0.103838, Accuracy: 96.64%\n",
      "Optimizer: Adam, Epoch: 2 \t Trn Loss: 0.087730\n",
      "Optimizer: Adam, Epoch: 2 \t Tst Loss: 0.094019, Accuracy: 96.95%\n",
      "Optimizer: Adam, Epoch: 3 \t Trn Loss: 0.066653\n",
      "Optimizer: Adam, Epoch: 3 \t Tst Loss: 0.078406, Accuracy: 97.56%\n",
      "Optimizer: Adam, Epoch: 4 \t Trn Loss: 0.053713\n",
      "Optimizer: Adam, Epoch: 4 \t Tst Loss: 0.075268, Accuracy: 97.74%\n",
      "Optimizer: Adam, Epoch: 5 \t Trn Loss: 0.045802\n",
      "Optimizer: Adam, Epoch: 5 \t Tst Loss: 0.079158, Accuracy: 97.65%\n",
      "Optimizer: Adam, Epoch: 6 \t Trn Loss: 0.039300\n",
      "Optimizer: Adam, Epoch: 6 \t Tst Loss: 0.081318, Accuracy: 97.63%\n",
      "Optimizer: Adam, Epoch: 7 \t Trn Loss: 0.035068\n",
      "Optimizer: Adam, Epoch: 7 \t Tst Loss: 0.076937, Accuracy: 97.70%\n",
      "Optimizer: Adam, Epoch: 8 \t Trn Loss: 0.029256\n",
      "Optimizer: Adam, Epoch: 8 \t Tst Loss: 0.095436, Accuracy: 97.31%\n",
      "Optimizer: Adam, Epoch: 9 \t Trn Loss: 0.023807\n",
      "Optimizer: Adam, Epoch: 9 \t Tst Loss: 0.099748, Accuracy: 97.44%\n"
     ]
    }
   ],
   "source": [
    "n_epochs = 10\n",
    "\n",
    "for opt_name, optimizer in opt_dict.items():\n",
    "    for epoch in range(n_epochs):\n",
    "        model_dict[opt_name].train()\n",
    "        total_trn_loss = 0\n",
    "        for batch_idx, (x_batch, y_batch) in enumerate(trn_loader):\n",
    "            x_batch = x_batch.reshape(-1,784).to(device)\n",
    "            y_batch = y_batch.to(device)\n",
    "            opt_dict[opt_name].zero_grad()\n",
    "            y_batch_prob = model_dict[opt_name](x_batch)\n",
    "            trn_loss = F.nll_loss(y_batch_prob, y_batch)\n",
    "            trn_loss.backward()\n",
    "            total_trn_loss += trn_loss.item() * y_batch.shape[0]\n",
    "            opt_dict[opt_name].step()\n",
    "        trn_loss_dict[opt_name].append(total_trn_loss/len(trn_loader.dataset))\n",
    "        \n",
    "        \n",
    "        \n",
    "        model_dict[opt_name].eval()\n",
    "        total_tst_loss=0\n",
    "        correct = 0\n",
    "        with torch.no_grad():\n",
    "            for batch_idx, (x_batch, y_batch) in enumerate(tst_loader):\n",
    "                x_batch = x_batch.reshape(-1,784).to(device)\n",
    "                y_batch = y_batch.to(device)\n",
    "                y_batch_prob = model_dict[opt_name](x_batch)\n",
    "                y_batch_pred = torch.argmax(y_batch_prob, axis=1)\n",
    "                tst_loss = F.nll_loss(y_batch_prob, y_batch)\n",
    "                total_tst_loss += tst_loss.item() * y_batch.shape[0]\n",
    "                correct += np.sum(y_batch.cpu().numpy() == y_batch_pred.cpu().numpy())\n",
    "        tst_loss_dict[opt_name].append(total_tst_loss / len(tst_loader.dataset))\n",
    "        accuracy_dict[opt_name].append(correct / len(tst_loader.dataset))\n",
    "        \n",
    "        # 매 epoch이 끝날때 결과 찍기\n",
    "        print('Optimizer: {}, Epoch: {} \\t Trn Loss: {:.6f}'.format(opt_name, epoch, \n",
    "                                                                    total_trn_loss/len(trn_loader.dataset)))\n",
    "        \n",
    "        print('Optimizer: {}, Epoch: {} \\t Tst Loss: {:.6f}, Accuracy: {:.2f}%'.format(opt_name, epoch, \n",
    "                                                                                       total_tst_loss/len(tst_loader.dataset), \n",
    "                                                                                       100*correct/len(tst_loader.dataset)))\n",
    "    "
   ]
  },
  {
   "cell_type": "code",
   "execution_count": 23,
   "id": "e006f727-ac7d-45a7-b0df-f091a0e786b6",
   "metadata": {
    "colab": {
     "base_uri": "https://localhost:8080/",
     "height": 283
    },
    "executionInfo": {
     "elapsed": 14,
     "status": "ok",
     "timestamp": 1665148135314,
     "user": {
      "displayName": "노지민",
      "userId": "16008475171234108044"
     },
     "user_tz": -540
    },
    "id": "e006f727-ac7d-45a7-b0df-f091a0e786b6",
    "outputId": "7ce51e6c-ca6b-43fb-897a-25d868983685"
   },
   "outputs": [
    {
     "data": {
      "text/plain": [
       "<matplotlib.legend.Legend at 0x7fbcf1f0a110>"
      ]
     },
     "execution_count": 23,
     "metadata": {},
     "output_type": "execute_result"
    },
    {
     "data": {
      "image/png": "[encoded data removed]",
      "text/plain": [
       "<Figure size 432x288 with 1 Axes>"
      ]
     },
     "metadata": {
      "needs_background": "light"
     },
     "output_type": "display_data"
    }
   ],
   "source": [
    "plt.plot(trn_loss_dict['SGD'])\n",
    "plt.plot(trn_loss_dict['AdaGrad'], c='k')\n",
    "plt.plot(trn_loss_dict['RMSProp'], c='b')\n",
    "plt.plot(trn_loss_dict['Adam'], c='r')\n",
    "plt.legend(['SGD', 'AdaGrad', 'RMSProp', 'Adam'])"
   ]
  },
  {
   "cell_type": "code",
   "execution_count": 24,
   "id": "5c0251b0-eb20-46e2-bd62-88315da4c188",
   "metadata": {
    "colab": {
     "base_uri": "https://localhost:8080/",
     "height": 283
    },
    "executionInfo": {
     "elapsed": 912,
     "status": "ok",
     "timestamp": 1665148136218,
     "user": {
      "displayName": "노지민",
      "userId": "16008475171234108044"
     },
     "user_tz": -540
    },
    "id": "5c0251b0-eb20-46e2-bd62-88315da4c188",
    "outputId": "f106129f-2d3f-4ae1-d2c5-72c311a56cd8"
   },
   "outputs": [
    {
     "data": {
      "text/plain": [
       "<matplotlib.legend.Legend at 0x7fbcf1e96390>"
      ]
     },
     "execution_count": 24,
     "metadata": {},
     "output_type": "execute_result"
    },
    {
     "data": {
      "image/png": "[encoded data removed]",
      "text/plain": [
       "<Figure size 432x288 with 1 Axes>"
      ]
     },
     "metadata": {
      "needs_background": "light"
     },
     "output_type": "display_data"
    }
   ],
   "source": [
    "plt.plot(tst_loss_dict['SGD'])\n",
    "plt.plot(tst_loss_dict['AdaGrad'], c='k')\n",
    "plt.plot(tst_loss_dict['RMSProp'], c='b')\n",
    "plt.plot(tst_loss_dict['Adam'], c='r')\n",
    "plt.legend(['SGD', 'AdaGrad', 'RMSProp', 'Adam'])"
   ]
  },
  {
   "cell_type": "code",
   "execution_count": 25,
   "id": "d5cc6734-b453-4d54-9d5b-116a055a98cc",
   "metadata": {
    "colab": {
     "base_uri": "https://localhost:8080/",
     "height": 285
    },
    "executionInfo": {
     "elapsed": 13,
     "status": "ok",
     "timestamp": 1665148136219,
     "user": {
      "displayName": "노지민",
      "userId": "16008475171234108044"
     },
     "user_tz": -540
    },
    "id": "d5cc6734-b453-4d54-9d5b-116a055a98cc",
    "outputId": "c3021c59-1675-4a46-9954-86e66ee4dd55"
   },
   "outputs": [
    {
     "data": {
      "text/plain": [
       "<matplotlib.legend.Legend at 0x7fbcf1edafd0>"
      ]
     },
     "execution_count": 25,
     "metadata": {},
     "output_type": "execute_result"
    },
    {
     "data": {
      "image/png": "[encoded data removed]",
      "text/plain": [
       "<Figure size 432x288 with 1 Axes>"
      ]
     },
     "metadata": {
      "needs_background": "light"
     },
     "output_type": "display_data"
    }
   ],
   "source": [
    "plt.plot(accuracy_dict['SGD'])\n",
    "plt.plot(accuracy_dict['AdaGrad'], c='k')\n",
    "plt.plot(accuracy_dict['RMSProp'], c='b')\n",
    "plt.plot(accuracy_dict['Adam'], c='r')\n",
    "plt.legend(['SGD', 'AdaGrad', 'RMSProp', 'Adam'])"
   ]
  },
  {
   "cell_type": "markdown",
   "id": "5e6bb0b8",
   "metadata": {
    "id": "5e6bb0b8"
   },
   "source": [
    "# 과제"
   ]
  },
  {
   "cell_type": "markdown",
   "id": "ea472385",
   "metadata": {
    "id": "ea472385"
   },
   "source": [
    "<span style = 'font-size:1.3em;line-height:1.5em'>1. Pytorch에서는 learning rate scheduler라는 기능을 제공합니다. 이는 학습이 진행될 수록 learning rate를 조절하는 기능입니다. 이 중, StepLR을 사용하여 learning rate를 조정해보세요. step_size=10, gamma=0.2, 초기 learning_rates는 0.1, optimizer는 SGD를 사용해보세요. 총 100번의 epoch을 실행하여 training_loss, test_loss, test_accuracy를 매 epoch마다 찍어보세요.</span>\n",
    "\n",
    "참고: https://sanghyu.tistory.com/113"
   ]
  },
  {
   "cell_type": "code",
   "execution_count": 30,
   "id": "60bafb59-8666-4f03-8b06-ce5697cce94d",
   "metadata": {
    "executionInfo": {
     "elapsed": 486,
     "status": "ok",
     "timestamp": 1665148980560,
     "user": {
      "displayName": "노지민",
      "userId": "16008475171234108044"
     },
     "user_tz": -540
    },
    "id": "60bafb59-8666-4f03-8b06-ce5697cce94d"
   },
   "outputs": [],
   "source": [
    "model = MyNet().to(device)"
   ]
  },
  {
   "cell_type": "code",
   "execution_count": 31,
   "id": "cfce0751-3c76-4607-9c37-5af3a3782aac",
   "metadata": {
    "executionInfo": {
     "elapsed": 3,
     "status": "ok",
     "timestamp": 1665148981583,
     "user": {
      "displayName": "노지민",
      "userId": "16008475171234108044"
     },
     "user_tz": -540
    },
    "id": "cfce0751-3c76-4607-9c37-5af3a3782aac"
   },
   "outputs": [],
   "source": [
    "optimizer = torch.optim.SGD(model.parameters(), lr=0.1)\n",
    "scheduler = optim.lr_scheduler.StepLR(optimizer, step_size=10, gamma=0.2)"
   ]
  },
  {
   "cell_type": "code",
   "execution_count": 32,
   "id": "99daa938",
   "metadata": {
    "colab": {
     "base_uri": "https://localhost:8080/"
    },
    "executionInfo": {
     "elapsed": 1048702,
     "status": "ok",
     "timestamp": 1665150032270,
     "user": {
      "displayName": "노지민",
      "userId": "16008475171234108044"
     },
     "user_tz": -540
    },
    "id": "99daa938",
    "outputId": "3971c2ea-0cc0-4ec2-e9c6-16ff780269c2"
   },
   "outputs": [
    {
     "name": "stdout",
     "output_type": "stream",
     "text": [
      "Train Epoch: 0 [25344/60000 (42%)]\tLoss: 0.415673\n",
      "Train Epoch: 0 [50944/60000 (85%)]\tLoss: 0.284850\n",
      "Train Epoch: 0 [60000/60000 (100%)]\tLoss: 0.225967\n",
      "\n",
      "Test set: Average loss: 0.2676, Accuracy: 9198/10000 (92%)\n",
      "\n",
      "Train Epoch: 1 [25344/60000 (42%)]\tLoss: 0.178966\n",
      "Train Epoch: 1 [50944/60000 (85%)]\tLoss: 0.168881\n",
      "Train Epoch: 1 [60000/60000 (100%)]\tLoss: 0.163060\n",
      "\n",
      "Test set: Average loss: 0.1926, Accuracy: 9426/10000 (94%)\n",
      "\n",
      "Train Epoch: 2 [25344/60000 (42%)]\tLoss: 0.213178\n",
      "Train Epoch: 2 [50944/60000 (85%)]\tLoss: 0.176801\n",
      "Train Epoch: 2 [60000/60000 (100%)]\tLoss: 0.144906\n",
      "\n",
      "Test set: Average loss: 0.1938, Accuracy: 9372/10000 (94%)\n",
      "\n",
      "Train Epoch: 3 [25344/60000 (42%)]\tLoss: 0.198475\n",
      "Train Epoch: 3 [50944/60000 (85%)]\tLoss: 0.085756\n",
      "Train Epoch: 3 [60000/60000 (100%)]\tLoss: 0.085604\n",
      "\n",
      "Test set: Average loss: 0.1313, Accuracy: 9611/10000 (96%)\n",
      "\n",
      "Train Epoch: 4 [25344/60000 (42%)]\tLoss: 0.106163\n",
      "Train Epoch: 4 [50944/60000 (85%)]\tLoss: 0.126391\n",
      "Train Epoch: 4 [60000/60000 (100%)]\tLoss: 0.077946\n",
      "\n",
      "Test set: Average loss: 0.1206, Accuracy: 9624/10000 (96%)\n",
      "\n",
      "Train Epoch: 5 [25344/60000 (42%)]\tLoss: 0.087913\n",
      "Train Epoch: 5 [50944/60000 (85%)]\tLoss: 0.083053\n",
      "Train Epoch: 5 [60000/60000 (100%)]\tLoss: 0.053882\n",
      "\n",
      "Test set: Average loss: 0.1043, Accuracy: 9675/10000 (97%)\n",
      "\n",
      "Train Epoch: 6 [25344/60000 (42%)]\tLoss: 0.130826\n",
      "Train Epoch: 6 [50944/60000 (85%)]\tLoss: 0.076828\n",
      "Train Epoch: 6 [60000/60000 (100%)]\tLoss: 0.060098\n",
      "\n",
      "Test set: Average loss: 0.0994, Accuracy: 9686/10000 (97%)\n",
      "\n",
      "Train Epoch: 7 [25344/60000 (42%)]\tLoss: 0.103738\n",
      "Train Epoch: 7 [50944/60000 (85%)]\tLoss: 0.059311\n",
      "Train Epoch: 7 [60000/60000 (100%)]\tLoss: 0.063714\n",
      "\n",
      "Test set: Average loss: 0.0907, Accuracy: 9721/10000 (97%)\n",
      "\n",
      "Train Epoch: 8 [25344/60000 (42%)]\tLoss: 0.060059\n",
      "Train Epoch: 8 [50944/60000 (85%)]\tLoss: 0.055160\n",
      "Train Epoch: 8 [60000/60000 (100%)]\tLoss: 0.012611\n",
      "\n",
      "Test set: Average loss: 0.0854, Accuracy: 9724/10000 (97%)\n",
      "\n",
      "Train Epoch: 9 [25344/60000 (42%)]\tLoss: 0.066110\n",
      "Train Epoch: 9 [50944/60000 (85%)]\tLoss: 0.052897\n",
      "Train Epoch: 9 [60000/60000 (100%)]\tLoss: 0.048699\n",
      "\n",
      "Test set: Average loss: 0.0910, Accuracy: 9710/10000 (97%)\n",
      "\n",
      "Train Epoch: 10 [25344/60000 (42%)]\tLoss: 0.036900\n",
      "Train Epoch: 10 [50944/60000 (85%)]\tLoss: 0.034656\n",
      "Train Epoch: 10 [60000/60000 (100%)]\tLoss: 0.121341\n",
      "\n",
      "Test set: Average loss: 0.0776, Accuracy: 9759/10000 (98%)\n",
      "\n",
      "Train Epoch: 11 [25344/60000 (42%)]\tLoss: 0.018182\n",
      "Train Epoch: 11 [50944/60000 (85%)]\tLoss: 0.032810\n",
      "Train Epoch: 11 [60000/60000 (100%)]\tLoss: 0.021410\n",
      "\n",
      "Test set: Average loss: 0.0776, Accuracy: 9765/10000 (98%)\n",
      "\n",
      "Train Epoch: 12 [25344/60000 (42%)]\tLoss: 0.070930\n",
      "Train Epoch: 12 [50944/60000 (85%)]\tLoss: 0.070588\n",
      "Train Epoch: 12 [60000/60000 (100%)]\tLoss: 0.028613\n",
      "\n",
      "Test set: Average loss: 0.0772, Accuracy: 9765/10000 (98%)\n",
      "\n",
      "Train Epoch: 13 [25344/60000 (42%)]\tLoss: 0.016430\n",
      "Train Epoch: 13 [50944/60000 (85%)]\tLoss: 0.037692\n",
      "Train Epoch: 13 [60000/60000 (100%)]\tLoss: 0.038933\n",
      "\n",
      "Test set: Average loss: 0.0772, Accuracy: 9758/10000 (98%)\n",
      "\n",
      "Train Epoch: 14 [25344/60000 (42%)]\tLoss: 0.019094\n",
      "Train Epoch: 14 [50944/60000 (85%)]\tLoss: 0.039041\n",
      "Train Epoch: 14 [60000/60000 (100%)]\tLoss: 0.043149\n",
      "\n",
      "Test set: Average loss: 0.0770, Accuracy: 9760/10000 (98%)\n",
      "\n",
      "Train Epoch: 15 [25344/60000 (42%)]\tLoss: 0.040207\n",
      "Train Epoch: 15 [50944/60000 (85%)]\tLoss: 0.032411\n",
      "Train Epoch: 15 [60000/60000 (100%)]\tLoss: 0.120064\n",
      "\n",
      "Test set: Average loss: 0.0775, Accuracy: 9754/10000 (98%)\n",
      "\n",
      "Train Epoch: 16 [25344/60000 (42%)]\tLoss: 0.031790\n",
      "Train Epoch: 16 [50944/60000 (85%)]\tLoss: 0.027289\n",
      "Train Epoch: 16 [60000/60000 (100%)]\tLoss: 0.047734\n",
      "\n",
      "Test set: Average loss: 0.0769, Accuracy: 9758/10000 (98%)\n",
      "\n",
      "Train Epoch: 17 [25344/60000 (42%)]\tLoss: 0.032346\n",
      "Train Epoch: 17 [50944/60000 (85%)]\tLoss: 0.061225\n",
      "Train Epoch: 17 [60000/60000 (100%)]\tLoss: 0.011290\n",
      "\n",
      "Test set: Average loss: 0.0758, Accuracy: 9763/10000 (98%)\n",
      "\n",
      "Train Epoch: 18 [25344/60000 (42%)]\tLoss: 0.029802\n",
      "Train Epoch: 18 [50944/60000 (85%)]\tLoss: 0.026255\n",
      "Train Epoch: 18 [60000/60000 (100%)]\tLoss: 0.072991\n",
      "\n",
      "Test set: Average loss: 0.0755, Accuracy: 9765/10000 (98%)\n",
      "\n",
      "Train Epoch: 19 [25344/60000 (42%)]\tLoss: 0.022375\n",
      "Train Epoch: 19 [50944/60000 (85%)]\tLoss: 0.034786\n",
      "Train Epoch: 19 [60000/60000 (100%)]\tLoss: 0.016544\n",
      "\n",
      "Test set: Average loss: 0.0755, Accuracy: 9764/10000 (98%)\n",
      "\n",
      "Train Epoch: 20 [25344/60000 (42%)]\tLoss: 0.050377\n",
      "Train Epoch: 20 [50944/60000 (85%)]\tLoss: 0.039962\n",
      "Train Epoch: 20 [60000/60000 (100%)]\tLoss: 0.023014\n",
      "\n",
      "Test set: Average loss: 0.0750, Accuracy: 9772/10000 (98%)\n",
      "\n",
      "Train Epoch: 21 [25344/60000 (42%)]\tLoss: 0.018397\n",
      "Train Epoch: 21 [50944/60000 (85%)]\tLoss: 0.017753\n",
      "Train Epoch: 21 [60000/60000 (100%)]\tLoss: 0.028244\n",
      "\n",
      "Test set: Average loss: 0.0749, Accuracy: 9769/10000 (98%)\n",
      "\n",
      "Train Epoch: 22 [25344/60000 (42%)]\tLoss: 0.017809\n",
      "Train Epoch: 22 [50944/60000 (85%)]\tLoss: 0.027386\n",
      "Train Epoch: 22 [60000/60000 (100%)]\tLoss: 0.011924\n",
      "\n",
      "Test set: Average loss: 0.0749, Accuracy: 9767/10000 (98%)\n",
      "\n",
      "Train Epoch: 23 [25344/60000 (42%)]\tLoss: 0.037501\n",
      "Train Epoch: 23 [50944/60000 (85%)]\tLoss: 0.026430\n",
      "Train Epoch: 23 [60000/60000 (100%)]\tLoss: 0.038683\n",
      "\n",
      "Test set: Average loss: 0.0748, Accuracy: 9769/10000 (98%)\n",
      "\n",
      "Train Epoch: 24 [25344/60000 (42%)]\tLoss: 0.052710\n",
      "Train Epoch: 24 [50944/60000 (85%)]\tLoss: 0.013251\n",
      "Train Epoch: 24 [60000/60000 (100%)]\tLoss: 0.012356\n",
      "\n",
      "Test set: Average loss: 0.0748, Accuracy: 9768/10000 (98%)\n",
      "\n",
      "Train Epoch: 25 [25344/60000 (42%)]\tLoss: 0.048329\n",
      "Train Epoch: 25 [50944/60000 (85%)]\tLoss: 0.027875\n",
      "Train Epoch: 25 [60000/60000 (100%)]\tLoss: 0.013752\n",
      "\n",
      "Test set: Average loss: 0.0748, Accuracy: 9766/10000 (98%)\n",
      "\n",
      "Train Epoch: 26 [25344/60000 (42%)]\tLoss: 0.021526\n",
      "Train Epoch: 26 [50944/60000 (85%)]\tLoss: 0.031049\n",
      "Train Epoch: 26 [60000/60000 (100%)]\tLoss: 0.026745\n",
      "\n",
      "Test set: Average loss: 0.0748, Accuracy: 9768/10000 (98%)\n",
      "\n",
      "Train Epoch: 27 [25344/60000 (42%)]\tLoss: 0.044729\n",
      "Train Epoch: 27 [50944/60000 (85%)]\tLoss: 0.042415\n",
      "Train Epoch: 27 [60000/60000 (100%)]\tLoss: 0.020789\n",
      "\n",
      "Test set: Average loss: 0.0747, Accuracy: 9766/10000 (98%)\n",
      "\n",
      "Train Epoch: 28 [25344/60000 (42%)]\tLoss: 0.021432\n",
      "Train Epoch: 28 [50944/60000 (85%)]\tLoss: 0.070566\n",
      "Train Epoch: 28 [60000/60000 (100%)]\tLoss: 0.024260\n",
      "\n",
      "Test set: Average loss: 0.0748, Accuracy: 9763/10000 (98%)\n",
      "\n",
      "Train Epoch: 29 [25344/60000 (42%)]\tLoss: 0.037526\n",
      "Train Epoch: 29 [50944/60000 (85%)]\tLoss: 0.032427\n",
      "Train Epoch: 29 [60000/60000 (100%)]\tLoss: 0.026252\n",
      "\n",
      "Test set: Average loss: 0.0747, Accuracy: 9769/10000 (98%)\n",
      "\n",
      "Train Epoch: 30 [25344/60000 (42%)]\tLoss: 0.030494\n",
      "Train Epoch: 30 [50944/60000 (85%)]\tLoss: 0.028822\n",
      "Train Epoch: 30 [60000/60000 (100%)]\tLoss: 0.013927\n",
      "\n",
      "Test set: Average loss: 0.0746, Accuracy: 9766/10000 (98%)\n",
      "\n",
      "Train Epoch: 31 [25344/60000 (42%)]\tLoss: 0.046620\n",
      "Train Epoch: 31 [50944/60000 (85%)]\tLoss: 0.014224\n",
      "Train Epoch: 31 [60000/60000 (100%)]\tLoss: 0.021233\n",
      "\n",
      "Test set: Average loss: 0.0746, Accuracy: 9765/10000 (98%)\n",
      "\n",
      "Train Epoch: 32 [25344/60000 (42%)]\tLoss: 0.029791\n",
      "Train Epoch: 32 [50944/60000 (85%)]\tLoss: 0.020286\n",
      "Train Epoch: 32 [60000/60000 (100%)]\tLoss: 0.033625\n",
      "\n",
      "Test set: Average loss: 0.0746, Accuracy: 9765/10000 (98%)\n",
      "\n",
      "Train Epoch: 33 [25344/60000 (42%)]\tLoss: 0.016583\n",
      "Train Epoch: 33 [50944/60000 (85%)]\tLoss: 0.019518\n",
      "Train Epoch: 33 [60000/60000 (100%)]\tLoss: 0.009512\n",
      "\n",
      "Test set: Average loss: 0.0746, Accuracy: 9766/10000 (98%)\n",
      "\n",
      "Train Epoch: 34 [25344/60000 (42%)]\tLoss: 0.031749\n",
      "Train Epoch: 34 [50944/60000 (85%)]\tLoss: 0.045422\n",
      "Train Epoch: 34 [60000/60000 (100%)]\tLoss: 0.044613\n",
      "\n",
      "Test set: Average loss: 0.0746, Accuracy: 9765/10000 (98%)\n",
      "\n",
      "Train Epoch: 35 [25344/60000 (42%)]\tLoss: 0.037483\n",
      "Train Epoch: 35 [50944/60000 (85%)]\tLoss: 0.025156\n",
      "Train Epoch: 35 [60000/60000 (100%)]\tLoss: 0.046166\n",
      "\n",
      "Test set: Average loss: 0.0746, Accuracy: 9766/10000 (98%)\n",
      "\n",
      "Train Epoch: 36 [25344/60000 (42%)]\tLoss: 0.025752\n",
      "Train Epoch: 36 [50944/60000 (85%)]\tLoss: 0.013943\n",
      "Train Epoch: 36 [60000/60000 (100%)]\tLoss: 0.025502\n",
      "\n",
      "Test set: Average loss: 0.0746, Accuracy: 9765/10000 (98%)\n",
      "\n",
      "Train Epoch: 37 [25344/60000 (42%)]\tLoss: 0.040677\n",
      "Train Epoch: 37 [50944/60000 (85%)]\tLoss: 0.024931\n",
      "Train Epoch: 37 [60000/60000 (100%)]\tLoss: 0.013761\n",
      "\n",
      "Test set: Average loss: 0.0746, Accuracy: 9766/10000 (98%)\n",
      "\n",
      "Train Epoch: 38 [25344/60000 (42%)]\tLoss: 0.030078\n",
      "Train Epoch: 38 [50944/60000 (85%)]\tLoss: 0.024047\n",
      "Train Epoch: 38 [60000/60000 (100%)]\tLoss: 0.033421\n",
      "\n",
      "Test set: Average loss: 0.0746, Accuracy: 9766/10000 (98%)\n",
      "\n",
      "Train Epoch: 39 [25344/60000 (42%)]\tLoss: 0.024426\n",
      "Train Epoch: 39 [50944/60000 (85%)]\tLoss: 0.012667\n",
      "Train Epoch: 39 [60000/60000 (100%)]\tLoss: 0.037748\n",
      "\n",
      "Test set: Average loss: 0.0746, Accuracy: 9766/10000 (98%)\n",
      "\n",
      "Train Epoch: 40 [25344/60000 (42%)]\tLoss: 0.034059\n",
      "Train Epoch: 40 [50944/60000 (85%)]\tLoss: 0.038961\n",
      "Train Epoch: 40 [60000/60000 (100%)]\tLoss: 0.006597\n",
      "\n",
      "Test set: Average loss: 0.0746, Accuracy: 9766/10000 (98%)\n",
      "\n",
      "Train Epoch: 41 [25344/60000 (42%)]\tLoss: 0.026206\n",
      "Train Epoch: 41 [50944/60000 (85%)]\tLoss: 0.028855\n",
      "Train Epoch: 41 [60000/60000 (100%)]\tLoss: 0.022063\n",
      "\n",
      "Test set: Average loss: 0.0746, Accuracy: 9766/10000 (98%)\n",
      "\n",
      "Train Epoch: 42 [25344/60000 (42%)]\tLoss: 0.026604\n",
      "Train Epoch: 42 [50944/60000 (85%)]\tLoss: 0.027931\n",
      "Train Epoch: 42 [60000/60000 (100%)]\tLoss: 0.014102\n",
      "\n",
      "Test set: Average loss: 0.0746, Accuracy: 9766/10000 (98%)\n",
      "\n",
      "Train Epoch: 43 [25344/60000 (42%)]\tLoss: 0.020931\n",
      "Train Epoch: 43 [50944/60000 (85%)]\tLoss: 0.023532\n",
      "Train Epoch: 43 [60000/60000 (100%)]\tLoss: 0.023557\n",
      "\n",
      "Test set: Average loss: 0.0746, Accuracy: 9766/10000 (98%)\n",
      "\n",
      "Train Epoch: 44 [25344/60000 (42%)]\tLoss: 0.043475\n",
      "Train Epoch: 44 [50944/60000 (85%)]\tLoss: 0.037299\n",
      "Train Epoch: 44 [60000/60000 (100%)]\tLoss: 0.031253\n",
      "\n",
      "Test set: Average loss: 0.0746, Accuracy: 9766/10000 (98%)\n",
      "\n",
      "Train Epoch: 45 [25344/60000 (42%)]\tLoss: 0.035669\n",
      "Train Epoch: 45 [50944/60000 (85%)]\tLoss: 0.063928\n",
      "Train Epoch: 45 [60000/60000 (100%)]\tLoss: 0.024853\n",
      "\n",
      "Test set: Average loss: 0.0746, Accuracy: 9766/10000 (98%)\n",
      "\n",
      "Train Epoch: 46 [25344/60000 (42%)]\tLoss: 0.013897\n",
      "Train Epoch: 46 [50944/60000 (85%)]\tLoss: 0.015826\n",
      "Train Epoch: 46 [60000/60000 (100%)]\tLoss: 0.023278\n",
      "\n",
      "Test set: Average loss: 0.0746, Accuracy: 9766/10000 (98%)\n",
      "\n",
      "Train Epoch: 47 [25344/60000 (42%)]\tLoss: 0.026289\n",
      "Train Epoch: 47 [50944/60000 (85%)]\tLoss: 0.017355\n",
      "Train Epoch: 47 [60000/60000 (100%)]\tLoss: 0.018239\n",
      "\n",
      "Test set: Average loss: 0.0746, Accuracy: 9766/10000 (98%)\n",
      "\n",
      "Train Epoch: 48 [25344/60000 (42%)]\tLoss: 0.035024\n",
      "Train Epoch: 48 [50944/60000 (85%)]\tLoss: 0.021340\n",
      "Train Epoch: 48 [60000/60000 (100%)]\tLoss: 0.090577\n",
      "\n",
      "Test set: Average loss: 0.0746, Accuracy: 9766/10000 (98%)\n",
      "\n",
      "Train Epoch: 49 [25344/60000 (42%)]\tLoss: 0.024939\n",
      "Train Epoch: 49 [50944/60000 (85%)]\tLoss: 0.011785\n",
      "Train Epoch: 49 [60000/60000 (100%)]\tLoss: 0.020730\n",
      "\n",
      "Test set: Average loss: 0.0746, Accuracy: 9766/10000 (98%)\n",
      "\n",
      "Train Epoch: 50 [25344/60000 (42%)]\tLoss: 0.032201\n",
      "Train Epoch: 50 [50944/60000 (85%)]\tLoss: 0.049812\n",
      "Train Epoch: 50 [60000/60000 (100%)]\tLoss: 0.068173\n",
      "\n",
      "Test set: Average loss: 0.0746, Accuracy: 9766/10000 (98%)\n",
      "\n",
      "Train Epoch: 51 [25344/60000 (42%)]\tLoss: 0.024170\n",
      "Train Epoch: 51 [50944/60000 (85%)]\tLoss: 0.019760\n",
      "Train Epoch: 51 [60000/60000 (100%)]\tLoss: 0.033496\n",
      "\n",
      "Test set: Average loss: 0.0746, Accuracy: 9766/10000 (98%)\n",
      "\n",
      "Train Epoch: 52 [25344/60000 (42%)]\tLoss: 0.030899\n",
      "Train Epoch: 52 [50944/60000 (85%)]\tLoss: 0.017221\n",
      "Train Epoch: 52 [60000/60000 (100%)]\tLoss: 0.036496\n",
      "\n",
      "Test set: Average loss: 0.0746, Accuracy: 9766/10000 (98%)\n",
      "\n",
      "Train Epoch: 53 [25344/60000 (42%)]\tLoss: 0.019383\n",
      "Train Epoch: 53 [50944/60000 (85%)]\tLoss: 0.027696\n",
      "Train Epoch: 53 [60000/60000 (100%)]\tLoss: 0.009122\n",
      "\n",
      "Test set: Average loss: 0.0746, Accuracy: 9766/10000 (98%)\n",
      "\n",
      "Train Epoch: 54 [25344/60000 (42%)]\tLoss: 0.073668\n",
      "Train Epoch: 54 [50944/60000 (85%)]\tLoss: 0.035988\n",
      "Train Epoch: 54 [60000/60000 (100%)]\tLoss: 0.029365\n",
      "\n",
      "Test set: Average loss: 0.0746, Accuracy: 9766/10000 (98%)\n",
      "\n",
      "Train Epoch: 55 [25344/60000 (42%)]\tLoss: 0.025046\n",
      "Train Epoch: 55 [50944/60000 (85%)]\tLoss: 0.035346\n",
      "Train Epoch: 55 [60000/60000 (100%)]\tLoss: 0.017540\n",
      "\n",
      "Test set: Average loss: 0.0746, Accuracy: 9766/10000 (98%)\n",
      "\n",
      "Train Epoch: 56 [25344/60000 (42%)]\tLoss: 0.019696\n",
      "Train Epoch: 56 [50944/60000 (85%)]\tLoss: 0.013865\n",
      "Train Epoch: 56 [60000/60000 (100%)]\tLoss: 0.008616\n",
      "\n",
      "Test set: Average loss: 0.0746, Accuracy: 9766/10000 (98%)\n",
      "\n",
      "Train Epoch: 57 [25344/60000 (42%)]\tLoss: 0.034553\n",
      "Train Epoch: 57 [50944/60000 (85%)]\tLoss: 0.027362\n",
      "Train Epoch: 57 [60000/60000 (100%)]\tLoss: 0.021733\n",
      "\n",
      "Test set: Average loss: 0.0746, Accuracy: 9766/10000 (98%)\n",
      "\n",
      "Train Epoch: 58 [25344/60000 (42%)]\tLoss: 0.037031\n",
      "Train Epoch: 58 [50944/60000 (85%)]\tLoss: 0.026309\n",
      "Train Epoch: 58 [60000/60000 (100%)]\tLoss: 0.051065\n",
      "\n",
      "Test set: Average loss: 0.0746, Accuracy: 9766/10000 (98%)\n",
      "\n",
      "Train Epoch: 59 [25344/60000 (42%)]\tLoss: 0.012945\n",
      "Train Epoch: 59 [50944/60000 (85%)]\tLoss: 0.037380\n",
      "Train Epoch: 59 [60000/60000 (100%)]\tLoss: 0.186796\n",
      "\n",
      "Test set: Average loss: 0.0746, Accuracy: 9766/10000 (98%)\n",
      "\n",
      "Train Epoch: 60 [25344/60000 (42%)]\tLoss: 0.020355\n",
      "Train Epoch: 60 [50944/60000 (85%)]\tLoss: 0.049940\n",
      "Train Epoch: 60 [60000/60000 (100%)]\tLoss: 0.016482\n",
      "\n",
      "Test set: Average loss: 0.0746, Accuracy: 9766/10000 (98%)\n",
      "\n",
      "Train Epoch: 61 [25344/60000 (42%)]\tLoss: 0.059334\n",
      "Train Epoch: 61 [50944/60000 (85%)]\tLoss: 0.025911\n",
      "Train Epoch: 61 [60000/60000 (100%)]\tLoss: 0.011349\n",
      "\n",
      "Test set: Average loss: 0.0746, Accuracy: 9766/10000 (98%)\n",
      "\n",
      "Train Epoch: 62 [25344/60000 (42%)]\tLoss: 0.041205\n",
      "Train Epoch: 62 [50944/60000 (85%)]\tLoss: 0.031389\n",
      "Train Epoch: 62 [60000/60000 (100%)]\tLoss: 0.028644\n",
      "\n",
      "Test set: Average loss: 0.0746, Accuracy: 9766/10000 (98%)\n",
      "\n",
      "Train Epoch: 63 [25344/60000 (42%)]\tLoss: 0.023424\n",
      "Train Epoch: 63 [50944/60000 (85%)]\tLoss: 0.041898\n",
      "Train Epoch: 63 [60000/60000 (100%)]\tLoss: 0.021484\n",
      "\n",
      "Test set: Average loss: 0.0746, Accuracy: 9766/10000 (98%)\n",
      "\n",
      "Train Epoch: 64 [25344/60000 (42%)]\tLoss: 0.014306\n",
      "Train Epoch: 64 [50944/60000 (85%)]\tLoss: 0.016945\n",
      "Train Epoch: 64 [60000/60000 (100%)]\tLoss: 0.023105\n",
      "\n",
      "Test set: Average loss: 0.0746, Accuracy: 9766/10000 (98%)\n",
      "\n",
      "Train Epoch: 65 [25344/60000 (42%)]\tLoss: 0.025654\n",
      "Train Epoch: 65 [50944/60000 (85%)]\tLoss: 0.025171\n",
      "Train Epoch: 65 [60000/60000 (100%)]\tLoss: 0.038379\n",
      "\n",
      "Test set: Average loss: 0.0746, Accuracy: 9766/10000 (98%)\n",
      "\n",
      "Train Epoch: 66 [25344/60000 (42%)]\tLoss: 0.030840\n",
      "Train Epoch: 66 [50944/60000 (85%)]\tLoss: 0.033042\n",
      "Train Epoch: 66 [60000/60000 (100%)]\tLoss: 0.017287\n",
      "\n",
      "Test set: Average loss: 0.0746, Accuracy: 9766/10000 (98%)\n",
      "\n",
      "Train Epoch: 67 [25344/60000 (42%)]\tLoss: 0.024097\n",
      "Train Epoch: 67 [50944/60000 (85%)]\tLoss: 0.063071\n",
      "Train Epoch: 67 [60000/60000 (100%)]\tLoss: 0.047385\n",
      "\n",
      "Test set: Average loss: 0.0746, Accuracy: 9766/10000 (98%)\n",
      "\n",
      "Train Epoch: 68 [25344/60000 (42%)]\tLoss: 0.028855\n",
      "Train Epoch: 68 [50944/60000 (85%)]\tLoss: 0.031019\n",
      "Train Epoch: 68 [60000/60000 (100%)]\tLoss: 0.027798\n",
      "\n",
      "Test set: Average loss: 0.0746, Accuracy: 9766/10000 (98%)\n",
      "\n",
      "Train Epoch: 69 [25344/60000 (42%)]\tLoss: 0.018586\n",
      "Train Epoch: 69 [50944/60000 (85%)]\tLoss: 0.020061\n",
      "Train Epoch: 69 [60000/60000 (100%)]\tLoss: 0.032102\n",
      "\n",
      "Test set: Average loss: 0.0746, Accuracy: 9766/10000 (98%)\n",
      "\n",
      "Train Epoch: 70 [25344/60000 (42%)]\tLoss: 0.044919\n",
      "Train Epoch: 70 [50944/60000 (85%)]\tLoss: 0.070640\n",
      "Train Epoch: 70 [60000/60000 (100%)]\tLoss: 0.013578\n",
      "\n",
      "Test set: Average loss: 0.0746, Accuracy: 9766/10000 (98%)\n",
      "\n",
      "Train Epoch: 71 [25344/60000 (42%)]\tLoss: 0.036052\n",
      "Train Epoch: 71 [50944/60000 (85%)]\tLoss: 0.042172\n",
      "Train Epoch: 71 [60000/60000 (100%)]\tLoss: 0.025625\n",
      "\n",
      "Test set: Average loss: 0.0746, Accuracy: 9766/10000 (98%)\n",
      "\n",
      "Train Epoch: 72 [25344/60000 (42%)]\tLoss: 0.010534\n",
      "Train Epoch: 72 [50944/60000 (85%)]\tLoss: 0.028161\n",
      "Train Epoch: 72 [60000/60000 (100%)]\tLoss: 0.025398\n",
      "\n",
      "Test set: Average loss: 0.0746, Accuracy: 9766/10000 (98%)\n",
      "\n",
      "Train Epoch: 73 [25344/60000 (42%)]\tLoss: 0.032617\n",
      "Train Epoch: 73 [50944/60000 (85%)]\tLoss: 0.020846\n",
      "Train Epoch: 73 [60000/60000 (100%)]\tLoss: 0.036065\n",
      "\n",
      "Test set: Average loss: 0.0746, Accuracy: 9766/10000 (98%)\n",
      "\n",
      "Train Epoch: 74 [25344/60000 (42%)]\tLoss: 0.039862\n",
      "Train Epoch: 74 [50944/60000 (85%)]\tLoss: 0.020088\n",
      "Train Epoch: 74 [60000/60000 (100%)]\tLoss: 0.019698\n",
      "\n",
      "Test set: Average loss: 0.0746, Accuracy: 9766/10000 (98%)\n",
      "\n",
      "Train Epoch: 75 [25344/60000 (42%)]\tLoss: 0.026833\n",
      "Train Epoch: 75 [50944/60000 (85%)]\tLoss: 0.052752\n",
      "Train Epoch: 75 [60000/60000 (100%)]\tLoss: 0.034920\n",
      "\n",
      "Test set: Average loss: 0.0746, Accuracy: 9766/10000 (98%)\n",
      "\n",
      "Train Epoch: 76 [25344/60000 (42%)]\tLoss: 0.023206\n",
      "Train Epoch: 76 [50944/60000 (85%)]\tLoss: 0.033428\n",
      "Train Epoch: 76 [60000/60000 (100%)]\tLoss: 0.060360\n",
      "\n",
      "Test set: Average loss: 0.0746, Accuracy: 9766/10000 (98%)\n",
      "\n",
      "Train Epoch: 77 [25344/60000 (42%)]\tLoss: 0.025153\n",
      "Train Epoch: 77 [50944/60000 (85%)]\tLoss: 0.029151\n",
      "Train Epoch: 77 [60000/60000 (100%)]\tLoss: 0.060520\n",
      "\n",
      "Test set: Average loss: 0.0746, Accuracy: 9766/10000 (98%)\n",
      "\n",
      "Train Epoch: 78 [25344/60000 (42%)]\tLoss: 0.026959\n",
      "Train Epoch: 78 [50944/60000 (85%)]\tLoss: 0.034990\n",
      "Train Epoch: 78 [60000/60000 (100%)]\tLoss: 0.066844\n",
      "\n",
      "Test set: Average loss: 0.0746, Accuracy: 9766/10000 (98%)\n",
      "\n",
      "Train Epoch: 79 [25344/60000 (42%)]\tLoss: 0.046130\n",
      "Train Epoch: 79 [50944/60000 (85%)]\tLoss: 0.041149\n",
      "Train Epoch: 79 [60000/60000 (100%)]\tLoss: 0.023821\n",
      "\n",
      "Test set: Average loss: 0.0746, Accuracy: 9766/10000 (98%)\n",
      "\n",
      "Train Epoch: 80 [25344/60000 (42%)]\tLoss: 0.018178\n",
      "Train Epoch: 80 [50944/60000 (85%)]\tLoss: 0.042887\n",
      "Train Epoch: 80 [60000/60000 (100%)]\tLoss: 0.008946\n",
      "\n",
      "Test set: Average loss: 0.0746, Accuracy: 9766/10000 (98%)\n",
      "\n",
      "Train Epoch: 81 [25344/60000 (42%)]\tLoss: 0.034388\n",
      "Train Epoch: 81 [50944/60000 (85%)]\tLoss: 0.034798\n",
      "Train Epoch: 81 [60000/60000 (100%)]\tLoss: 0.030612\n",
      "\n",
      "Test set: Average loss: 0.0746, Accuracy: 9766/10000 (98%)\n",
      "\n",
      "Train Epoch: 82 [25344/60000 (42%)]\tLoss: 0.024150\n",
      "Train Epoch: 82 [50944/60000 (85%)]\tLoss: 0.031781\n",
      "Train Epoch: 82 [60000/60000 (100%)]\tLoss: 0.033006\n",
      "\n",
      "Test set: Average loss: 0.0746, Accuracy: 9766/10000 (98%)\n",
      "\n",
      "Train Epoch: 83 [25344/60000 (42%)]\tLoss: 0.015092\n",
      "Train Epoch: 83 [50944/60000 (85%)]\tLoss: 0.020684\n",
      "Train Epoch: 83 [60000/60000 (100%)]\tLoss: 0.014295\n",
      "\n",
      "Test set: Average loss: 0.0746, Accuracy: 9766/10000 (98%)\n",
      "\n",
      "Train Epoch: 84 [25344/60000 (42%)]\tLoss: 0.039504\n",
      "Train Epoch: 84 [50944/60000 (85%)]\tLoss: 0.058637\n",
      "Train Epoch: 84 [60000/60000 (100%)]\tLoss: 0.012160\n",
      "\n",
      "Test set: Average loss: 0.0746, Accuracy: 9766/10000 (98%)\n",
      "\n",
      "Train Epoch: 85 [25344/60000 (42%)]\tLoss: 0.033708\n",
      "Train Epoch: 85 [50944/60000 (85%)]\tLoss: 0.017466\n",
      "Train Epoch: 85 [60000/60000 (100%)]\tLoss: 0.037810\n",
      "\n",
      "Test set: Average loss: 0.0746, Accuracy: 9766/10000 (98%)\n",
      "\n",
      "Train Epoch: 86 [25344/60000 (42%)]\tLoss: 0.016056\n",
      "Train Epoch: 86 [50944/60000 (85%)]\tLoss: 0.019369\n",
      "Train Epoch: 86 [60000/60000 (100%)]\tLoss: 0.104079\n",
      "\n",
      "Test set: Average loss: 0.0746, Accuracy: 9766/10000 (98%)\n",
      "\n",
      "Train Epoch: 87 [25344/60000 (42%)]\tLoss: 0.019181\n",
      "Train Epoch: 87 [50944/60000 (85%)]\tLoss: 0.023368\n",
      "Train Epoch: 87 [60000/60000 (100%)]\tLoss: 0.030516\n",
      "\n",
      "Test set: Average loss: 0.0746, Accuracy: 9766/10000 (98%)\n",
      "\n",
      "Train Epoch: 88 [25344/60000 (42%)]\tLoss: 0.018224\n",
      "Train Epoch: 88 [50944/60000 (85%)]\tLoss: 0.031024\n",
      "Train Epoch: 88 [60000/60000 (100%)]\tLoss: 0.036104\n",
      "\n",
      "Test set: Average loss: 0.0746, Accuracy: 9766/10000 (98%)\n",
      "\n",
      "Train Epoch: 89 [25344/60000 (42%)]\tLoss: 0.061001\n",
      "Train Epoch: 89 [50944/60000 (85%)]\tLoss: 0.029914\n",
      "Train Epoch: 89 [60000/60000 (100%)]\tLoss: 0.036845\n",
      "\n",
      "Test set: Average loss: 0.0746, Accuracy: 9766/10000 (98%)\n",
      "\n",
      "Train Epoch: 90 [25344/60000 (42%)]\tLoss: 0.063550\n",
      "Train Epoch: 90 [50944/60000 (85%)]\tLoss: 0.038000\n",
      "Train Epoch: 90 [60000/60000 (100%)]\tLoss: 0.063882\n",
      "\n",
      "Test set: Average loss: 0.0746, Accuracy: 9766/10000 (98%)\n",
      "\n",
      "Train Epoch: 91 [25344/60000 (42%)]\tLoss: 0.021453\n",
      "Train Epoch: 91 [50944/60000 (85%)]\tLoss: 0.029204\n",
      "Train Epoch: 91 [60000/60000 (100%)]\tLoss: 0.014857\n",
      "\n",
      "Test set: Average loss: 0.0746, Accuracy: 9766/10000 (98%)\n",
      "\n",
      "Train Epoch: 92 [25344/60000 (42%)]\tLoss: 0.019083\n",
      "Train Epoch: 92 [50944/60000 (85%)]\tLoss: 0.022456\n",
      "Train Epoch: 92 [60000/60000 (100%)]\tLoss: 0.010832\n",
      "\n",
      "Test set: Average loss: 0.0746, Accuracy: 9766/10000 (98%)\n",
      "\n",
      "Train Epoch: 93 [25344/60000 (42%)]\tLoss: 0.026505\n",
      "Train Epoch: 93 [50944/60000 (85%)]\tLoss: 0.039262\n",
      "Train Epoch: 93 [60000/60000 (100%)]\tLoss: 0.022110\n",
      "\n",
      "Test set: Average loss: 0.0746, Accuracy: 9766/10000 (98%)\n",
      "\n",
      "Train Epoch: 94 [25344/60000 (42%)]\tLoss: 0.021405\n",
      "Train Epoch: 94 [50944/60000 (85%)]\tLoss: 0.017164\n",
      "Train Epoch: 94 [60000/60000 (100%)]\tLoss: 0.025000\n",
      "\n",
      "Test set: Average loss: 0.0746, Accuracy: 9766/10000 (98%)\n",
      "\n",
      "Train Epoch: 95 [25344/60000 (42%)]\tLoss: 0.027874\n",
      "Train Epoch: 95 [50944/60000 (85%)]\tLoss: 0.022494\n",
      "Train Epoch: 95 [60000/60000 (100%)]\tLoss: 0.075715\n",
      "\n",
      "Test set: Average loss: 0.0746, Accuracy: 9766/10000 (98%)\n",
      "\n",
      "Train Epoch: 96 [25344/60000 (42%)]\tLoss: 0.021594\n",
      "Train Epoch: 96 [50944/60000 (85%)]\tLoss: 0.056046\n",
      "Train Epoch: 96 [60000/60000 (100%)]\tLoss: 0.025552\n",
      "\n",
      "Test set: Average loss: 0.0746, Accuracy: 9766/10000 (98%)\n",
      "\n",
      "Train Epoch: 97 [25344/60000 (42%)]\tLoss: 0.053176\n",
      "Train Epoch: 97 [50944/60000 (85%)]\tLoss: 0.020951\n",
      "Train Epoch: 97 [60000/60000 (100%)]\tLoss: 0.009690\n",
      "\n",
      "Test set: Average loss: 0.0746, Accuracy: 9766/10000 (98%)\n",
      "\n",
      "Train Epoch: 98 [25344/60000 (42%)]\tLoss: 0.025777\n",
      "Train Epoch: 98 [50944/60000 (85%)]\tLoss: 0.047557\n",
      "Train Epoch: 98 [60000/60000 (100%)]\tLoss: 0.023015\n",
      "\n",
      "Test set: Average loss: 0.0746, Accuracy: 9766/10000 (98%)\n",
      "\n",
      "Train Epoch: 99 [25344/60000 (42%)]\tLoss: 0.023784\n",
      "Train Epoch: 99 [50944/60000 (85%)]\tLoss: 0.054281\n",
      "Train Epoch: 99 [60000/60000 (100%)]\tLoss: 0.073680\n",
      "\n",
      "Test set: Average loss: 0.0746, Accuracy: 9766/10000 (98%)\n",
      "\n"
     ]
    }
   ],
   "source": [
    "n_epochs = 100\n",
    "lr_list = []\n",
    "\n",
    "for epoch in range(n_epochs):\n",
    "    model.train()\n",
    "    for batch_idx, (x_batch, y_batch) in enumerate(trn_loader):\n",
    "        x_batch = x_batch.reshape(-1,784).to(device)\n",
    "        y_batch = y_batch.to(device)\n",
    "        optimizer.zero_grad()\n",
    "        y_batch_prob = model(x_batch)\n",
    "        loss = F.nll_loss(y_batch_prob, y_batch)\n",
    "        loss.backward()\n",
    "        optimizer.step()\n",
    "    \n",
    "        if (batch_idx+1)%100 == 0:\n",
    "            print('Train Epoch: {} [{}/{} ({:.0f}%)]\\tLoss: {:.6f}'.format(epoch, \n",
    "                                                                           batch_idx * len(x_batch), \n",
    "                                                                           len(trn_loader.dataset),\n",
    "                                                                           100 * batch_idx / len(trn_loader),\n",
    "                                                                           loss.item()))\n",
    "    scheduler.step() # epoch마다 scheduler update\n",
    "    lr_list.append(scheduler.get_last_lr())\n",
    "\n",
    "    # 매 epoch이 끝날때 결과 찍기\n",
    "    print('Train Epoch: {} [{}/{} (100%)]\\tLoss: {:.6f}'.format(epoch, \n",
    "                                                                   len(trn_loader.dataset), \n",
    "                                                                   len(trn_loader.dataset),\n",
    "                                                                loss.item()))\n",
    "    model.eval()\n",
    "    y_pred_list = []\n",
    "    y_real_list = []\n",
    "    tst_loss = 0\n",
    "    with torch.no_grad():\n",
    "        for batch_idx, (x_batch, y_batch) in enumerate(tst_loader):\n",
    "            x_batch = x_batch.reshape(-1,784).to(device)\n",
    "            y_batch = y_batch.to(device)\n",
    "            y_batch_prob = model(x_batch)\n",
    "            y_batch_pred = np.argmax(y_batch_prob.cpu(), axis=1)\n",
    "#             print(y_batch_pred)\n",
    "#             print(y_batch)\n",
    "#             y_batch_pred = y_batch_prob.argmax(dim=1, keepdim=True)\n",
    "            loss = F.nll_loss(y_batch_prob, y_batch, reduction='sum')\n",
    "            tst_loss += loss\n",
    "            \n",
    "            y_pred_list.append(y_batch_pred.detach().numpy())\n",
    "            y_real_list.append(y_batch.cpu().numpy())\n",
    "            \n",
    "        y_real = np.concatenate([x for x in y_real_list], axis=0)\n",
    "        y_pred = np.concatenate([x for x in y_pred_list], axis=0)\n",
    "        tst_loss /= y_real.shape[0]\n",
    "        correct  = np.sum(y_real == y_pred)\n",
    "        accuracy = 100*correct / len(tst_loader.dataset)\n",
    "        \n",
    "        print('\\nTest set: Average loss: {:.4f}, Accuracy: {}/{} ({:.0f}%)\\n'.format(tst_loss, \n",
    "                                                                                     correct, \n",
    "                                                                                     len(tst_loader.dataset),\n",
    "                                                                                     accuracy))"
   ]
  },
  {
   "cell_type": "code",
   "execution_count": 33,
   "id": "SXWHf7Lwj20_",
   "metadata": {
    "colab": {
     "base_uri": "https://localhost:8080/",
     "height": 283
    },
    "executionInfo": {
     "elapsed": 11,
     "status": "ok",
     "timestamp": 1665150145633,
     "user": {
      "displayName": "노지민",
      "userId": "16008475171234108044"
     },
     "user_tz": -540
    },
    "id": "SXWHf7Lwj20_",
    "outputId": "c7975d74-6555-47c1-9546-9418e15c3a99"
   },
   "outputs": [
    {
     "data": {
      "text/plain": [
       "[<matplotlib.lines.Line2D at 0x7fbcf0ea6090>]"
      ]
     },
     "execution_count": 33,
     "metadata": {},
     "output_type": "execute_result"
    },
    {
     "data": {
      "image/png": "[encoded data removed]",
      "text/plain": [
       "<Figure size 432x288 with 1 Axes>"
      ]
     },
     "metadata": {
      "needs_background": "light"
     },
     "output_type": "display_data"
    }
   ],
   "source": [
    "plt.plot(lr_list)"
   ]
  },
  {
   "cell_type": "code",
   "execution_count": null,
   "id": "0KqvlcKhrs0P",
   "metadata": {
    "id": "0KqvlcKhrs0P"
   },
   "outputs": [],
   "source": []
  }
 ],
 "metadata": {
  "accelerator": "GPU",
  "colab": {
   "collapsed_sections": [],
   "provenance": []
  },
  "kernelspec": {
   "display_name": "Python 3 (ipykernel)",
   "language": "python",
   "name": "python3"
  },
  "language_info": {
   "codemirror_mode": {
    "name": "ipython",
    "version": 3
   },
   "file_extension": ".py",
   "mimetype": "text/x-python",
   "name": "python",
   "nbconvert_exporter": "python",
   "pygments_lexer": "ipython3",
   "version": "3.8.12"
  }
 },
 "nbformat": 4,
 "nbformat_minor": 5
}
