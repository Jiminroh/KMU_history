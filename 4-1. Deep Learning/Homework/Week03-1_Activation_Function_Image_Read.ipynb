{
 "cells": [
  {
   "cell_type": "code",
   "execution_count": 1,
   "id": "fd2138a1",
   "metadata": {},
   "outputs": [],
   "source": [
    "import numpy as np"
   ]
  },
  {
   "cell_type": "markdown",
   "id": "1920b9ca",
   "metadata": {},
   "source": [
    "# Activation Function"
   ]
  },
  {
   "cell_type": "code",
   "execution_count": 1,
   "id": "6040e60c-bfb9-4585-bf2f-afe8bdde4af2",
   "metadata": {},
   "outputs": [],
   "source": [
    "# numpy\n",
    "def step_function(x):\n",
    "    return x>0\n",
    "\n",
    "def sigmoid(x):\n",
    "    return 1/1+np.exp(-x)\n",
    "\n",
    "def ReLU(x):\n",
    "    return np.max(0, x)\n",
    "\n",
    "def softmax(x):\n",
    "    exp_sum = np.sum(np.exp(x))\n",
    "    return x/exp_sum\n",
    "\n",
    "# pytorch \n",
    "def step_function(x):\n",
    "    return x>0\n",
    "\n",
    "def sigmoid(x):\n",
    "    return 1/1+torch.exp(-x)\n",
    "\n",
    "def ReLU(x):\n",
    "    return torch.maximum(0, x)\n",
    "\n",
    "def softmax(x):\n",
    "    c = torch.max(x) \n",
    "    exp_sum = torch.sum(torch.exp(x-c)) # overflow 대책\n",
    "    return x/exp_sum"
   ]
  },
  {
   "cell_type": "code",
   "execution_count": 2,
   "id": "e2cc188f",
   "metadata": {},
   "outputs": [],
   "source": [
    "def step_function(x):\n",
    "    \"\"\"\n",
    "    Return step function output\n",
    "    return=1 if >0\n",
    "    return=0 if x<=0\n",
    "    \n",
    "    Parameter\n",
    "    ---------\n",
    "    x : numpy array\n",
    "    \n",
    "    Return\n",
    "    ------\n",
    "    result: numpy array\n",
    "      - consists of 0 or 1\n",
    "    \n",
    "    \"\"\"\n",
    "    y = x>0\n",
    "    return y.astype(np.int64)"
   ]
  },
  {
   "cell_type": "code",
   "execution_count": 3,
   "id": "0ff2eb09",
   "metadata": {},
   "outputs": [],
   "source": [
    "def sigmoid(x):\n",
    "    \"\"\"\n",
    "    return sigmoid output\n",
    "    \"\"\"\n",
    "    result = 1/(1+np.exp(-x))\n",
    "    return result\n",
    "    "
   ]
  },
  {
   "cell_type": "code",
   "execution_count": 4,
   "id": "e7d38bab",
   "metadata": {},
   "outputs": [],
   "source": [
    "def relu(x):\n",
    "    \"\"\"\n",
    "    return ReLU output\n",
    "    \"\"\"\n",
    "    result = x if x >0 else 0\n",
    "    return result"
   ]
  },
  {
   "cell_type": "markdown",
   "id": "4268b7d0",
   "metadata": {},
   "source": [
    "## softmax는 좀 특별한 처리가 필요합니다.\n",
    "- <span style = 'font-size:1.2em;line-height:1.5em'>원래 정의에 따르면 다음과 같이 정의되어 아래 셀과 같이 구현 가능하죠</span>\n",
    "<span style = 'font-size:1.5em;line-height:1.8em'>$$y_k = {e^{a_k}\\over\\Sigma_{i=1}^{n}e^{a_i}}$$</span>"
   ]
  },
  {
   "cell_type": "code",
   "execution_count": 5,
   "id": "ce52a817",
   "metadata": {},
   "outputs": [],
   "source": [
    "def softmax(x):\n",
    "    exp_sum = np.sum(np.exp(x))\n",
    "    result = x/exp_sum\n",
    "    return result"
   ]
  },
  {
   "cell_type": "markdown",
   "id": "6849f253",
   "metadata": {},
   "source": [
    "- <span style = 'font-size:1.2em;line-height:1.5em'>근데 얘를 실제로 다음과 같이 조금은 큰 수를 넣어서 계산하면 이상한 결과가 나옵니다.</span>"
   ]
  },
  {
   "cell_type": "code",
   "execution_count": 6,
   "id": "48adcaf2",
   "metadata": {},
   "outputs": [
    {
     "name": "stderr",
     "output_type": "stream",
     "text": [
      "/var/folders/vc/qmhd_frs3436xpj2_4dshbtw0000gn/T/ipykernel_70434/1978982483.py:2: RuntimeWarning: overflow encountered in exp\n",
      "  exp_sum = np.sum(np.exp(x))\n"
     ]
    },
    {
     "data": {
      "text/plain": [
       "array([0., 0., 0.])"
      ]
     },
     "execution_count": 6,
     "metadata": {},
     "output_type": "execute_result"
    }
   ],
   "source": [
    "softmax(np.array([1000,1010,990]))"
   ]
  },
  {
   "cell_type": "markdown",
   "id": "dd80bd6d",
   "metadata": {},
   "source": [
    "- <span style = 'font-size:1.2em;line-height:1.5em'>이는 exp(1000)등의 숫자가 엄청나게 커서 컴퓨터가 처리할 수 있는 범위를 넘었기 때분입니다.</span>"
   ]
  },
  {
   "cell_type": "code",
   "execution_count": 7,
   "id": "caf55334",
   "metadata": {},
   "outputs": [
    {
     "name": "stderr",
     "output_type": "stream",
     "text": [
      "/var/folders/vc/qmhd_frs3436xpj2_4dshbtw0000gn/T/ipykernel_70434/2006519253.py:1: RuntimeWarning: overflow encountered in exp\n",
      "  np.exp(1000)\n"
     ]
    },
    {
     "data": {
      "text/plain": [
       "inf"
      ]
     },
     "execution_count": 7,
     "metadata": {},
     "output_type": "execute_result"
    }
   ],
   "source": [
    "np.exp(1000)"
   ]
  },
  {
   "cell_type": "markdown",
   "id": "8d746f87",
   "metadata": {},
   "source": [
    "- <span style = 'font-size:1.2em;line-height:1.5em'>그래서 약간의 trick을 써줍니다.</span>\n",
    "<span style = 'font-size:1.5em;line-height:2.0em'>$$y_k = {e^{a_k}\\over\\Sigma_{i=1}^{n}e^{a_i}}$$</span>\n",
    "<span style = 'font-size:1.5em;line-height:2.0em'>$$    = {C*e^{a_k}\\over \\Sigma_{i=1}^{n}C*e^{a_i}}$$</span>\n",
    "<span style = 'font-size:1.5em;line-height:2.0em'>$$    = {e^{a_k+logC}\\over\\Sigma_{i=1}^{n}e^{a_i+logC}}$$</span>\n",
    "<span style = 'font-size:1.5em;line-height:2.0em'>$$    = {e^{a_k+C''}\\over\\Sigma_{i=1}^{n}e^{a_i+C''}}$$</span>\n",
    "\n",
    "- <span style = 'font-size:1.2em;line-height:1.5em'>여기서 $C''$는 입력한 값의 -max를 적어주는 거죠</span>"
   ]
  },
  {
   "cell_type": "markdown",
   "id": "9cca7a21",
   "metadata": {},
   "source": [
    "<span style = 'font-size:1.2em;line-height:1.5em'>이렇게 하면 아까 출력이 안되었던 값도 출력이 됩니다.</span>"
   ]
  },
  {
   "cell_type": "code",
   "execution_count": 8,
   "id": "c8f22958",
   "metadata": {},
   "outputs": [],
   "source": [
    "def softmax(x):\n",
    "    c=np.max(x)\n",
    "    exp_x = np.exp(x-c) # overflow 대책\n",
    "    exp_sum = np.sum(exp_x)\n",
    "    result = exp_x/exp_sum\n",
    "    return result"
   ]
  },
  {
   "cell_type": "code",
   "execution_count": 9,
   "id": "da86a767",
   "metadata": {},
   "outputs": [
    {
     "data": {
      "text/plain": [
       "array([4.53978686e-05, 9.99954600e-01, 2.06106005e-09])"
      ]
     },
     "execution_count": 9,
     "metadata": {},
     "output_type": "execute_result"
    }
   ],
   "source": [
    "softmax(np.array([1000,1010,990]))"
   ]
  },
  {
   "cell_type": "code",
   "execution_count": 10,
   "id": "3af41659",
   "metadata": {},
   "outputs": [],
   "source": [
    "import matplotlib.pyplot as plt\n",
    "%matplotlib inline"
   ]
  },
  {
   "cell_type": "code",
   "execution_count": 11,
   "id": "d18eec9e",
   "metadata": {},
   "outputs": [],
   "source": [
    "x = np.arange(-3,3,0.001)\n",
    "y1 = [sigmoid(a) for a in x]\n",
    "y2 = [step_function(a) for a in x]\n",
    "y3 = [relu(a) for a in x]"
   ]
  },
  {
   "cell_type": "code",
   "execution_count": 12,
   "id": "c7e22adc",
   "metadata": {},
   "outputs": [
    {
     "data": {
      "text/plain": [
       "<matplotlib.legend.Legend at 0x10c5a32e0>"
      ]
     },
     "execution_count": 12,
     "metadata": {},
     "output_type": "execute_result"
    },
    {
     "data": {
      "image/png": "[encoded data removed]",
      "text/plain": [
       "<Figure size 640x480 with 1 Axes>"
      ]
     },
     "metadata": {},
     "output_type": "display_data"
    }
   ],
   "source": [
    "plt.plot(x,y1)\n",
    "plt.plot(x,y2, c='r')\n",
    "plt.plot(x,y3, c='k')\n",
    "plt.legend(['sigmoid','step', 'relu'])"
   ]
  },
  {
   "cell_type": "markdown",
   "id": "b52cd497",
   "metadata": {},
   "source": [
    "## Activation function은 앞으로 자주 사용할 예정 -> .py 스크립트 파일로 따로 만들게요!"
   ]
  },
  {
   "cell_type": "markdown",
   "id": "79331b63",
   "metadata": {},
   "source": [
    "# 자, 이제 저희가 사용할 mnist data를 좀 만져볼게요!\n",
    "- <span style = 'font-size:1.2em;line-height:1.5em'>MNIST 소개: https://sdc-james.gitbook.io/onebook/4.-and/5.1./5.1.3.-mnist-dataset</span>"
   ]
  },
  {
   "cell_type": "markdown",
   "id": "c513774c",
   "metadata": {},
   "source": [
    "## MNIST 데이터를 다룰때 필요한 코드는 별도의 mnist.py script 파일로 준비해두었습니다.\n",
    "- <span style = 'font-size:1.2em;line-height:1.5em'>(출처: https://github.com/WegraLee/deep-learning-from-scratch)</span>"
   ]
  },
  {
   "cell_type": "code",
   "execution_count": 13,
   "id": "c2a9b8df",
   "metadata": {},
   "outputs": [],
   "source": [
    "# mnist.py에서 우리가 실제로 사용할 load_mnist함수만 불러올게요\n",
    "from mnist import load_mnist"
   ]
  },
  {
   "cell_type": "code",
   "execution_count": 14,
   "id": "9be2dcef",
   "metadata": {},
   "outputs": [],
   "source": [
    "(x_trn, y_trn), (x_tst, y_tst) = load_mnist(flatten=True, normalize=False)"
   ]
  },
  {
   "cell_type": "code",
   "execution_count": 15,
   "id": "772b5ed8",
   "metadata": {
    "scrolled": true
   },
   "outputs": [
    {
     "data": {
      "text/plain": [
       "array([[0, 0, 0, ..., 0, 0, 0],\n",
       "       [0, 0, 0, ..., 0, 0, 0],\n",
       "       [0, 0, 0, ..., 0, 0, 0],\n",
       "       ...,\n",
       "       [0, 0, 0, ..., 0, 0, 0],\n",
       "       [0, 0, 0, ..., 0, 0, 0],\n",
       "       [0, 0, 0, ..., 0, 0, 0]], dtype=uint8)"
      ]
     },
     "execution_count": 15,
     "metadata": {},
     "output_type": "execute_result"
    }
   ],
   "source": [
    "x_trn"
   ]
  },
  {
   "cell_type": "code",
   "execution_count": 16,
   "id": "53e6976c",
   "metadata": {},
   "outputs": [
    {
     "name": "stdout",
     "output_type": "stream",
     "text": [
      "(60000, 784) (60000,)\n"
     ]
    }
   ],
   "source": [
    "print(x_trn.shape, y_trn.shape)"
   ]
  },
  {
   "cell_type": "code",
   "execution_count": 17,
   "id": "d292035a",
   "metadata": {},
   "outputs": [
    {
     "name": "stdout",
     "output_type": "stream",
     "text": [
      "(10000, 784) (10000,)\n"
     ]
    }
   ],
   "source": [
    "print(x_tst.shape, y_tst.shape)"
   ]
  },
  {
   "cell_type": "code",
   "execution_count": 18,
   "id": "b99c24d8-320c-4f04-abd2-ceeab2f86c37",
   "metadata": {},
   "outputs": [
    {
     "name": "stdout",
     "output_type": "stream",
     "text": [
      "(784,)\n"
     ]
    }
   ],
   "source": [
    "print(x_trn[0].shape)"
   ]
  },
  {
   "cell_type": "markdown",
   "id": "b7a20a29",
   "metadata": {},
   "source": [
    "## 데이터가 어떻게 생겼는지 궁금하니까 한번 볼게요!"
   ]
  },
  {
   "cell_type": "code",
   "execution_count": 19,
   "id": "c3f8e551",
   "metadata": {},
   "outputs": [
    {
     "data": {
      "text/plain": [
       "<matplotlib.image.AxesImage at 0x10f0b72e0>"
      ]
     },
     "execution_count": 19,
     "metadata": {},
     "output_type": "execute_result"
    },
    {
     "data": {
      "image/png": "[encoded data removed]",
      "text/plain": [
       "<Figure size 640x480 with 1 Axes>"
      ]
     },
     "metadata": {},
     "output_type": "display_data"
    }
   ],
   "source": [
    "plt.imshow(x_trn[0].reshape(-1,28))"
   ]
  },
  {
   "cell_type": "markdown",
   "id": "750640b6",
   "metadata": {},
   "source": [
    "## 0부터 9까지 어떻게 생겼는지 한번 예시로 볼게요!"
   ]
  },
  {
   "cell_type": "code",
   "execution_count": 20,
   "id": "1e70c32a",
   "metadata": {
    "scrolled": true
   },
   "outputs": [
    {
     "data": {
      "text/plain": [
       "array([   2,    5,   14, ..., 9978, 9984, 9994])"
      ]
     },
     "execution_count": 20,
     "metadata": {},
     "output_type": "execute_result"
    }
   ],
   "source": [
    "np.argwhere(y_tst==1).reshape(-1)"
   ]
  },
  {
   "cell_type": "code",
   "execution_count": 23,
   "id": "ed1969c3",
   "metadata": {},
   "outputs": [
    {
     "data": {
      "image/png": "[encoded data removed]",
      "text/plain": [
       "<Figure size 1000x500 with 10 Axes>"
      ]
     },
     "metadata": {},
     "output_type": "display_data"
    }
   ],
   "source": [
    "n_rows=2\n",
    "n_cols=5\n",
    "fig, ax = plt.subplots(nrows=n_rows, ncols=n_cols, figsize=(10,5))\n",
    "plt.tight_layout()\n",
    "for i in range(0,10):\n",
    "    row_num = int(i/n_cols)\n",
    "    col_num = int(i%n_cols)\n",
    "    \n",
    "    idxs = np.argwhere(y_trn==i).reshape(-1)\n",
    "    idx = idxs[0]\n",
    "    ax[row_num, col_num].imshow(x_trn[idx].reshape(-1,28))"
   ]
  },
  {
   "cell_type": "markdown",
   "id": "475fb23b",
   "metadata": {},
   "source": [
    "# 연습문제"
   ]
  },
  {
   "cell_type": "markdown",
   "id": "da9968a6",
   "metadata": {},
   "source": [
    "<span style = 'font-size:1.2em;line-height:1.5em'>1.위에서 작성했던 numpy 기반의 activation함수들을 Pytorch기반의 코드로 변환하세요.</span>"
   ]
  },
  {
   "cell_type": "code",
   "execution_count": null,
   "id": "b637260f",
   "metadata": {},
   "outputs": [],
   "source": []
  }
 ],
 "metadata": {
  "kernelspec": {
   "display_name": "Python 3 (ipykernel)",
   "language": "python",
   "name": "python3"
  },
  "language_info": {
   "codemirror_mode": {
    "name": "ipython",
    "version": 3
   },
   "file_extension": ".py",
   "mimetype": "text/x-python",
   "name": "python",
   "nbconvert_exporter": "python",
   "pygments_lexer": "ipython3",
   "version": "3.8.12"
  }
 },
 "nbformat": 4,
 "nbformat_minor": 5
}
