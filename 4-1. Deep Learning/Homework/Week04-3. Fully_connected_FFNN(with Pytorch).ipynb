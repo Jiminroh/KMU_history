{
 "cells": [
  {
   "cell_type": "code",
   "execution_count": 1,
   "id": "53efd6c7",
   "metadata": {},
   "outputs": [],
   "source": [
    "from mnist import load_mnist"
   ]
  },
  {
   "cell_type": "code",
   "execution_count": 2,
   "id": "60b1364e",
   "metadata": {},
   "outputs": [],
   "source": [
    "import torch\n",
    "import torch.nn as nn\n",
    "import torch.nn.functional as F\n",
    "import torch.optim as optim\n",
    "from torchvision import datasets, transforms\n",
    "from torch.optim.lr_scheduler import StepLR\n",
    "import numpy as np"
   ]
  },
  {
   "cell_type": "markdown",
   "id": "c88bacb0",
   "metadata": {},
   "source": [
    "# Pytorch에서도 전체적인 과정은 똑같습니다. \n",
    "## 다만, 클래스안에는 네트워크 구조와 forward propagation에 대해서만 정의합니다."
   ]
  },
  {
   "cell_type": "markdown",
   "id": "84c81485",
   "metadata": {},
   "source": [
    "<span style = 'font-size:1.2em;line-height:1.5em'>다음과 같은 과정을 수행해야 합니다.</span>\n",
    "- <span style = 'font-size:1.2em;line-height:1.5em'>1. neural network class 정의하기: 여기선, Two-layer FFNN을 정의하겠습니다.이 클래스에는 다음과 같은 속성과 메소드가 필요합니다.</span>\n",
    "    - <span style = 'font-size:1.1em;line-height:1.5em'><b>(1)params 속성: </b>Network의 weight들이 들어있는 dictionary.</span>\n",
    "    - <span style = 'font-size:1.1em;line-height:1.5em'><b>(2)predict() 메소드: </b>Forward Propagation을 진행하는 메소드</span>\n",
    "    - <span style = 'font-size:1.1em;line-height:1.5em'><b>(3)get_loss() 메소드: </b>predict()의 결과와 실제 레이블을 비교하여 cross entropy loss를 계산하는 메소드</span>\n",
    "    - <span style = 'font-size:1.1em;line-height:1.5em'><b>(4)get_grad() 메소드: </b>현재 W상태에서 gradient를 산출하는 메소드</span>\n",
    "    - <span style = 'font-size:1.1em;line-height:1.5em'><b>(5)get_accuracy() 메소드: </b>(Optional) 현재 상태에서 네트워크가 inference하는 결과의 정확도를 산출하는 메소드</span>\n",
    "- <span style = 'font-size:1.2em;line-height:1.5em'>2. Mini-batch 데이터를 데이터에 입력</span>\n",
    "- <span style = 'font-size:1.2em;line-height:1.5em'>3. 현재 W상태에서 gradient를 계산</span>\n",
    "- <span style = 'font-size:1.2em;line-height:1.5em'>4. gradient descent로 learning_rate만큼 이동</span>"
   ]
  },
  {
   "cell_type": "code",
   "execution_count": 3,
   "id": "9dc24a06",
   "metadata": {},
   "outputs": [
    {
     "data": {
      "text/plain": [
       "torch.nn.modules.activation.LogSoftmax"
      ]
     },
     "execution_count": 3,
     "metadata": {},
     "output_type": "execute_result"
    }
   ],
   "source": [
    "nn.LogSoftmax"
   ]
  },
  {
   "cell_type": "code",
   "execution_count": 4,
   "id": "c8dc6558",
   "metadata": {},
   "outputs": [],
   "source": [
    "class MyNet(nn.Module):\n",
    "    def __init__(self):\n",
    "        super(MyNet, self).__init__()\n",
    "        self.fc1 = nn.Linear(784,100)\n",
    "        self.fc2 = nn.Linear(100,10)\n",
    "        \n",
    "    def forward(self, x):\n",
    "        x = self.fc1(x)\n",
    "        x = F.relu(x)\n",
    "        x = self.fc2(x)\n",
    "        result = F.log_softmax(x, dim=1)\n",
    "        return result"
   ]
  },
  {
   "cell_type": "code",
   "execution_count": 5,
   "id": "90a769c3",
   "metadata": {},
   "outputs": [],
   "source": [
    "# CPU? GPU?\n",
    "if torch.cuda.is_available(): # GPU쓸수 있으면\n",
    "    device = torch.device(\"cuda:0\") #GPU로 할게요\n",
    "else: # 안되면\n",
    "    device = torch.device(\"cpu:0\") #CPU 쓸게요"
   ]
  },
  {
   "cell_type": "code",
   "execution_count": 6,
   "id": "9a8c68f8-7a67-4ac7-b114-171a6fe822a3",
   "metadata": {},
   "outputs": [
    {
     "data": {
      "text/plain": [
       "device(type='cpu', index=0)"
      ]
     },
     "execution_count": 6,
     "metadata": {},
     "output_type": "execute_result"
    }
   ],
   "source": [
    "device"
   ]
  },
  {
   "cell_type": "code",
   "execution_count": 7,
   "id": "8eb32faa",
   "metadata": {},
   "outputs": [],
   "source": [
    "batch_size = 256\n",
    "lr = 2e-4"
   ]
  },
  {
   "cell_type": "code",
   "execution_count": 8,
   "id": "10ca9151",
   "metadata": {},
   "outputs": [],
   "source": [
    "# 데이터의 다운, 변환, batch_data_generator를 생성\n",
    "transform=transforms.Compose([transforms.ToTensor(),\n",
    "                              transforms.Normalize((0.1307,), \n",
    "                                                   (0.3081,))\n",
    "                             ])\n",
    "\n",
    "dataset1 = datasets.MNIST('data_torch', train=True, download=True,\n",
    "                       transform=transform)\n",
    "dataset2 = datasets.MNIST('data_torch', train=False,\n",
    "                   transform=transform)\n",
    "train_loader = torch.utils.data.DataLoader(dataset1, \n",
    "                                           shuffle=True, \n",
    "                                           batch_size=batch_size, \n",
    "                                           drop_last=True)\n",
    "test_loader = torch.utils.data.DataLoader(dataset2, \n",
    "                                          shuffle=False, \n",
    "                                          batch_size=batch_size, \n",
    "                                          drop_last=False)"
   ]
  },
  {
   "cell_type": "markdown",
   "id": "0e378fcf",
   "metadata": {},
   "source": [
    "### 모델을 생성하고, 이 모델을 GPU상에서 사용할지, CPU에서 사용할지 결정"
   ]
  },
  {
   "cell_type": "code",
   "execution_count": 9,
   "id": "d821111e",
   "metadata": {},
   "outputs": [
    {
     "data": {
      "text/plain": [
       "60000"
      ]
     },
     "execution_count": 9,
     "metadata": {},
     "output_type": "execute_result"
    }
   ],
   "source": [
    "dataset1.data.shape[0]"
   ]
  },
  {
   "cell_type": "code",
   "execution_count": 10,
   "id": "aff7b526",
   "metadata": {},
   "outputs": [],
   "source": [
    "model = MyNet().to(device)"
   ]
  },
  {
   "cell_type": "code",
   "execution_count": 11,
   "id": "ecf38daf",
   "metadata": {},
   "outputs": [],
   "source": [
    "optimizer = optim.SGD(model.parameters(), lr=lr) # model.parameters() -> 모든 파라미터 업데이트 "
   ]
  },
  {
   "cell_type": "code",
   "execution_count": 12,
   "id": "fbc9cad9-a018-46c5-ad51-0899d1c76545",
   "metadata": {},
   "outputs": [],
   "source": [
    "# for param in model.parameters():\n",
    "#     print(param)"
   ]
  },
  {
   "cell_type": "markdown",
   "id": "2a9cc88f",
   "metadata": {},
   "source": [
    "### 자, 모델을 학습해봅시다"
   ]
  },
  {
   "cell_type": "code",
   "execution_count": 13,
   "id": "bd6cf315",
   "metadata": {},
   "outputs": [
    {
     "name": "stdout",
     "output_type": "stream",
     "text": [
      "Train Epoch: 0 [25344/60000 (42%)]\tLoss: 2.286676\n",
      "Train Epoch: 0 [50944/60000 (85%)]\tLoss: 2.281361\n",
      "\n",
      "Test set: Average loss: 2.2448, Accuracy: 1685/10000 (17%)\n",
      "\n",
      "Train Epoch: 1 [25344/60000 (42%)]\tLoss: 2.225386\n",
      "Train Epoch: 1 [50944/60000 (85%)]\tLoss: 2.180018\n",
      "\n",
      "Test set: Average loss: 2.1730, Accuracy: 2879/10000 (29%)\n",
      "\n",
      "Train Epoch: 2 [25344/60000 (42%)]\tLoss: 2.124023\n",
      "Train Epoch: 2 [50944/60000 (85%)]\tLoss: 2.106982\n",
      "\n",
      "Test set: Average loss: 2.1017, Accuracy: 4128/10000 (41%)\n",
      "\n",
      "Train Epoch: 3 [25344/60000 (42%)]\tLoss: 2.067292\n",
      "Train Epoch: 3 [50944/60000 (85%)]\tLoss: 2.031705\n",
      "\n",
      "Test set: Average loss: 2.0297, Accuracy: 5021/10000 (50%)\n",
      "\n",
      "Train Epoch: 4 [25344/60000 (42%)]\tLoss: 2.009344\n",
      "Train Epoch: 4 [50944/60000 (85%)]\tLoss: 1.963828\n",
      "\n",
      "Test set: Average loss: 1.9563, Accuracy: 5629/10000 (56%)\n",
      "\n",
      "Train Epoch: 5 [25344/60000 (42%)]\tLoss: 1.944550\n",
      "Train Epoch: 5 [50944/60000 (85%)]\tLoss: 1.903793\n",
      "\n",
      "Test set: Average loss: 1.8814, Accuracy: 6107/10000 (61%)\n",
      "\n",
      "Train Epoch: 6 [25344/60000 (42%)]\tLoss: 1.872733\n",
      "Train Epoch: 6 [50944/60000 (85%)]\tLoss: 1.844191\n",
      "\n",
      "Test set: Average loss: 1.8054, Accuracy: 6473/10000 (65%)\n",
      "\n",
      "Train Epoch: 7 [25344/60000 (42%)]\tLoss: 1.791322\n",
      "Train Epoch: 7 [50944/60000 (85%)]\tLoss: 1.757425\n",
      "\n",
      "Test set: Average loss: 1.7290, Accuracy: 6750/10000 (68%)\n",
      "\n",
      "Train Epoch: 8 [25344/60000 (42%)]\tLoss: 1.690932\n",
      "Train Epoch: 8 [50944/60000 (85%)]\tLoss: 1.677917\n",
      "\n",
      "Test set: Average loss: 1.6530, Accuracy: 6989/10000 (70%)\n",
      "\n",
      "Train Epoch: 9 [25344/60000 (42%)]\tLoss: 1.640995\n",
      "Train Epoch: 9 [50944/60000 (85%)]\tLoss: 1.578824\n",
      "\n",
      "Test set: Average loss: 1.5783, Accuracy: 7185/10000 (72%)\n",
      "\n",
      "CPU times: user 1min 41s, sys: 1min 17s, total: 2min 59s\n",
      "Wall time: 38.3 s\n"
     ]
    }
   ],
   "source": [
    "%%time\n",
    "for epoch in range(10):\n",
    "    model.train()\n",
    "    for batch_idx, (data, target) in enumerate(train_loader):\n",
    "        data, target = data.view(-1,784).to(device), target.to(device) # 4차원 -> 2차원 변환\n",
    "        optimizer.zero_grad() # gradient를 계산 할때마다 해줘야함\n",
    "        output = model(data)\n",
    "        loss = F.nll_loss(output, target)\n",
    "        loss.backward()\n",
    "        optimizer.step()\n",
    "        if (batch_idx+1) % 100 == 0:\n",
    "            print('Train Epoch: {} [{}/{} ({:.0f}%)]\\tLoss: {:.6f}'.format(\n",
    "                epoch, batch_idx * len(data), len(train_loader.dataset),\n",
    "                100. * batch_idx / len(train_loader), loss.item()))\n",
    "            \n",
    "    model.eval()\n",
    "    test_loss = 0\n",
    "    correct = 0\n",
    "    with torch.no_grad():\n",
    "        for data, target in test_loader:\n",
    "            data, target = data.view(-1,784).to(device), target.to(device)\n",
    "            output = model(data)\n",
    "            test_loss += F.nll_loss(output, target, reduction='sum').item()  # sum up batch loss\n",
    "            pred = output.argmax(dim=1, keepdim=True)  # get the index of the max log-probability\n",
    "            correct += pred.eq(target.view_as(pred)).sum().item()\n",
    "\n",
    "    test_loss /= len(test_loader.dataset)\n",
    "\n",
    "    print('\\nTest set: Average loss: {:.4f}, Accuracy: {}/{} ({:.0f}%)\\n'.format(\n",
    "        test_loss, correct, len(test_loader.dataset),\n",
    "        100. * correct / len(test_loader.dataset)))"
   ]
  },
  {
   "cell_type": "markdown",
   "id": "205e4219",
   "metadata": {},
   "source": [
    "# 연습문제"
   ]
  },
  {
   "cell_type": "markdown",
   "id": "79150edb",
   "metadata": {},
   "source": [
    "<span style = 'font-size:1.2em;line-height:1.5em'>1. 똑같은 코드를 colab에서 돌려볼까요? GPU를 사용해서 돌려보시고, 실행 속도 차이가 얼마나 나는지 확인해보세요</span>"
   ]
  },
  {
   "cell_type": "code",
   "execution_count": 14,
   "id": "413dc247-7d4e-46fd-87ce-56df0cb4f79e",
   "metadata": {},
   "outputs": [
    {
     "data": {
      "text/plain": [
       "device(type='mps')"
      ]
     },
     "execution_count": 14,
     "metadata": {},
     "output_type": "execute_result"
    }
   ],
   "source": [
    "device = torch.device('mps') if torch.backends.mps.is_available() else 'cpu'\n",
    "device"
   ]
  },
  {
   "cell_type": "code",
   "execution_count": 15,
   "id": "d0d86c10-c710-4f93-8da0-e2542a152bcb",
   "metadata": {},
   "outputs": [],
   "source": [
    "model_gpu = MyNet().to(device)"
   ]
  },
  {
   "cell_type": "code",
   "execution_count": 16,
   "id": "ece80cb1-d531-4ccc-89a9-6aaebc74f335",
   "metadata": {},
   "outputs": [],
   "source": [
    "optimizer_gpu = optim.SGD(model_gpu.parameters(), lr=lr) # model.parameters() -> 모든 파라미터 업데이트 "
   ]
  },
  {
   "cell_type": "code",
   "execution_count": 17,
   "id": "2d25dec5-dff2-4178-ab19-62fb1bdad532",
   "metadata": {},
   "outputs": [
    {
     "name": "stdout",
     "output_type": "stream",
     "text": [
      "device:  mps\n",
      "Train Epoch: 0 [25344/60000 (42%)]\tLoss: 2.265014\n",
      "Train Epoch: 0 [50944/60000 (85%)]\tLoss: 2.269640\n",
      "\n",
      "Test set: Average loss: 2.2449, Accuracy: 1655/10000 (17%)\n",
      "\n",
      "Train Epoch: 1 [25344/60000 (42%)]\tLoss: 2.220224\n",
      "Train Epoch: 1 [50944/60000 (85%)]\tLoss: 2.196372\n",
      "\n",
      "Test set: Average loss: 2.1784, Accuracy: 2890/10000 (29%)\n",
      "\n",
      "Train Epoch: 2 [25344/60000 (42%)]\tLoss: 2.141584\n",
      "Train Epoch: 2 [50944/60000 (85%)]\tLoss: 2.133624\n",
      "\n",
      "Test set: Average loss: 2.1123, Accuracy: 3887/10000 (39%)\n",
      "\n",
      "Train Epoch: 3 [25344/60000 (42%)]\tLoss: 2.109396\n",
      "Train Epoch: 3 [50944/60000 (85%)]\tLoss: 2.053957\n",
      "\n",
      "Test set: Average loss: 2.0454, Accuracy: 4668/10000 (47%)\n",
      "\n",
      "Train Epoch: 4 [25344/60000 (42%)]\tLoss: 2.027214\n",
      "Train Epoch: 4 [50944/60000 (85%)]\tLoss: 1.984505\n",
      "\n",
      "Test set: Average loss: 1.9771, Accuracy: 5373/10000 (54%)\n",
      "\n",
      "Train Epoch: 5 [25344/60000 (42%)]\tLoss: 1.979400\n",
      "Train Epoch: 5 [50944/60000 (85%)]\tLoss: 1.930369\n",
      "\n",
      "Test set: Average loss: 1.9078, Accuracy: 5917/10000 (59%)\n",
      "\n",
      "Train Epoch: 6 [25344/60000 (42%)]\tLoss: 1.864097\n",
      "Train Epoch: 6 [50944/60000 (85%)]\tLoss: 1.846230\n",
      "\n",
      "Test set: Average loss: 1.8377, Accuracy: 6301/10000 (63%)\n",
      "\n",
      "Train Epoch: 7 [25344/60000 (42%)]\tLoss: 1.816309\n",
      "Train Epoch: 7 [50944/60000 (85%)]\tLoss: 1.765072\n",
      "\n",
      "Test set: Average loss: 1.7674, Accuracy: 6649/10000 (66%)\n",
      "\n",
      "Train Epoch: 8 [25344/60000 (42%)]\tLoss: 1.774227\n",
      "Train Epoch: 8 [50944/60000 (85%)]\tLoss: 1.719511\n",
      "\n",
      "Test set: Average loss: 1.6975, Accuracy: 6918/10000 (69%)\n",
      "\n",
      "Train Epoch: 9 [25344/60000 (42%)]\tLoss: 1.684348\n",
      "Train Epoch: 9 [50944/60000 (85%)]\tLoss: 1.634611\n",
      "\n",
      "Test set: Average loss: 1.6284, Accuracy: 7138/10000 (71%)\n",
      "\n",
      "CPU times: user 29.1 s, sys: 9.7 s, total: 38.8 s\n",
      "Wall time: 30 s\n"
     ]
    }
   ],
   "source": [
    "%%time\n",
    "\n",
    "print('device: ', device)\n",
    "\n",
    "for epoch in range(10):\n",
    "    model_gpu.train()\n",
    "    for batch_idx, (data, target) in enumerate(train_loader):\n",
    "        data, target = data.view(-1,784).to(device), target.to(device) # 4차원 -> 2차원 변환\n",
    "        optimizer_gpu.zero_grad() # gradient를 계산 할때마다 해줘야함\n",
    "        output = model_gpu(data)\n",
    "        loss = F.nll_loss(output, target)\n",
    "        loss.backward()\n",
    "        optimizer_gpu.step()\n",
    "        if (batch_idx+1) % 100 == 0:\n",
    "            print('Train Epoch: {} [{}/{} ({:.0f}%)]\\tLoss: {:.6f}'.format(\n",
    "                epoch, batch_idx * len(data), len(train_loader.dataset),\n",
    "                100. * batch_idx / len(train_loader), loss.item()))\n",
    "            \n",
    "    model_gpu.eval()\n",
    "    test_loss = 0\n",
    "    correct = 0\n",
    "    with torch.no_grad():\n",
    "        for data, target in test_loader:\n",
    "            data, target = data.view(-1,784).to(device), target.to(device)\n",
    "            output = model_gpu(data)\n",
    "            test_loss += F.nll_loss(output, target, reduction='sum').item()  # sum up batch loss\n",
    "            pred = output.argmax(dim=1, keepdim=True)  # get the index of the max log-probability\n",
    "            correct += pred.eq(target.view_as(pred)).sum().item()\n",
    "\n",
    "    test_loss /= len(test_loader.dataset)\n",
    "\n",
    "    print('\\nTest set: Average loss: {:.4f}, Accuracy: {}/{} ({:.0f}%)\\n'.format(\n",
    "        test_loss, correct, len(test_loader.dataset),\n",
    "        100. * correct / len(test_loader.dataset)))"
   ]
  },
  {
   "cell_type": "markdown",
   "id": "5dcf0f6a",
   "metadata": {},
   "source": [
    "<span style = 'font-size:1.2em;line-height:1.5em'>2. Colab상에서 train_loss와 test_loss, test_accurcy를 누적시켜 기록한뒤, matplotlib으로 누적해서 plot해봅시다. 이 때, train_loss는 batch단위로 계산하되, average로 기록하세요</span>"
   ]
  },
  {
   "cell_type": "code",
   "execution_count": 18,
   "id": "b41350dc-0ffe-4b79-b744-1a7b26015942",
   "metadata": {},
   "outputs": [],
   "source": [
    "model_plot = MyNet().to(device)"
   ]
  },
  {
   "cell_type": "code",
   "execution_count": 19,
   "id": "9ab6f973-d5b8-416e-9f3d-54d53d93978e",
   "metadata": {},
   "outputs": [],
   "source": [
    "optimizer_plot = optim.SGD(model_plot.parameters(), lr=lr) # model.parameters() -> 모든 파라미터 업데이트 "
   ]
  },
  {
   "cell_type": "code",
   "execution_count": 20,
   "id": "6aa1e14b",
   "metadata": {},
   "outputs": [
    {
     "name": "stdout",
     "output_type": "stream",
     "text": [
      "device:  mps\n",
      "Train Epoch: 0 [25344/60000 (42%)]\tLoss: 2.292152\n",
      "Train Epoch: 0 [50944/60000 (85%)]\tLoss: 2.276693\n",
      "\n",
      "Test set: Average loss: 2.2638, Accuracy: 1208/10000 (12%)\n",
      "\n",
      "Train Epoch: 1 [25344/60000 (42%)]\tLoss: 2.234835\n",
      "Train Epoch: 1 [50944/60000 (85%)]\tLoss: 2.173661\n",
      "\n",
      "Test set: Average loss: 2.1838, Accuracy: 1904/10000 (19%)\n",
      "\n",
      "Train Epoch: 2 [25344/60000 (42%)]\tLoss: 2.152726\n",
      "Train Epoch: 2 [50944/60000 (85%)]\tLoss: 2.117001\n",
      "\n",
      "Test set: Average loss: 2.1082, Accuracy: 2994/10000 (30%)\n",
      "\n",
      "Train Epoch: 3 [25344/60000 (42%)]\tLoss: 2.080601\n",
      "Train Epoch: 3 [50944/60000 (85%)]\tLoss: 2.040242\n",
      "\n",
      "Test set: Average loss: 2.0342, Accuracy: 4190/10000 (42%)\n",
      "\n",
      "Train Epoch: 4 [25344/60000 (42%)]\tLoss: 2.018140\n",
      "Train Epoch: 4 [50944/60000 (85%)]\tLoss: 1.970801\n",
      "\n",
      "Test set: Average loss: 1.9605, Accuracy: 5061/10000 (51%)\n",
      "\n",
      "Train Epoch: 5 [25344/60000 (42%)]\tLoss: 1.980984\n",
      "Train Epoch: 5 [50944/60000 (85%)]\tLoss: 1.883342\n",
      "\n",
      "Test set: Average loss: 1.8867, Accuracy: 5683/10000 (57%)\n",
      "\n",
      "Train Epoch: 6 [25344/60000 (42%)]\tLoss: 1.903681\n",
      "Train Epoch: 6 [50944/60000 (85%)]\tLoss: 1.831589\n",
      "\n",
      "Test set: Average loss: 1.8128, Accuracy: 6176/10000 (62%)\n",
      "\n",
      "Train Epoch: 7 [25344/60000 (42%)]\tLoss: 1.832050\n",
      "Train Epoch: 7 [50944/60000 (85%)]\tLoss: 1.769000\n",
      "\n",
      "Test set: Average loss: 1.7391, Accuracy: 6523/10000 (65%)\n",
      "\n",
      "Train Epoch: 8 [25344/60000 (42%)]\tLoss: 1.684492\n",
      "Train Epoch: 8 [50944/60000 (85%)]\tLoss: 1.716461\n",
      "\n",
      "Test set: Average loss: 1.6660, Accuracy: 6876/10000 (69%)\n",
      "\n",
      "Train Epoch: 9 [25344/60000 (42%)]\tLoss: 1.653907\n",
      "Train Epoch: 9 [50944/60000 (85%)]\tLoss: 1.623235\n",
      "\n",
      "Test set: Average loss: 1.5943, Accuracy: 7140/10000 (71%)\n",
      "\n",
      "CPU times: user 29.1 s, sys: 9.66 s, total: 38.7 s\n",
      "Wall time: 31.1 s\n"
     ]
    }
   ],
   "source": [
    "%%time\n",
    "print('device: ',device)\n",
    "\n",
    "train_batch_loss_li = [] # train batch loss 리스트 선언\n",
    "test_loss_li = [] # test loss 리스트 선언\n",
    "test_acc_li = [] # test accurucy 리스트 선언\n",
    "\n",
    "for epoch in range(10):\n",
    "    model_plot.train()\n",
    "    for batch_idx, (data, target) in enumerate(train_loader):\n",
    "        data, target = data.view(-1,784).to(device), target.to(device)\n",
    "        optimizer_plot.zero_grad()\n",
    "        output = model_plot(data)\n",
    "        loss = F.nll_loss(output, target)\n",
    "        loss.backward()\n",
    "        optimizer_plot.step()\n",
    "        if (batch_idx+1) % 100 == 0:\n",
    "            print('Train Epoch: {} [{}/{} ({:.0f}%)]\\tLoss: {:.6f}'.format(\n",
    "                epoch, batch_idx * len(data), len(train_loader.dataset),\n",
    "                100. * batch_idx / len(train_loader), loss.item()))\n",
    "        train_batch_loss_li.append(loss.item()) \n",
    "            \n",
    "    model_plot.eval()\n",
    "    test_loss = 0\n",
    "    correct = 0\n",
    "    \n",
    "    with torch.no_grad():\n",
    "        for data, target in test_loader:\n",
    "            data, target = data.view(-1,784).to(device), target.to(device)\n",
    "            output = model_plot(data)\n",
    "            test_loss += F.nll_loss(output, target, reduction='sum').item()  # sum up batch loss\n",
    "            pred = output.argmax(dim=1, keepdim=True)  # get the index of the max log-probability\n",
    "            correct += pred.eq(target.view_as(pred)).sum().item()\n",
    "            \n",
    " \n",
    "    test_loss /= len(test_loader.dataset)\n",
    "    test_loss_li.append(test_loss)\n",
    "    test_acc_li.append(100. * correct / len(test_loader.dataset))\n",
    "\n",
    "    print('\\nTest set: Average loss: {:.4f}, Accuracy: {}/{} ({:.0f}%)\\n'.format(\n",
    "        test_loss, correct, len(test_loader.dataset),\n",
    "        100. * correct / len(test_loader.dataset)))"
   ]
  },
  {
   "cell_type": "code",
   "execution_count": 21,
   "id": "22ff7897-e0fd-448a-9e42-31b718693845",
   "metadata": {},
   "outputs": [],
   "source": [
    "import matplotlib.pyplot as plt\n",
    "%matplotlib inline"
   ]
  },
  {
   "cell_type": "code",
   "execution_count": 22,
   "id": "c9d41158-8a94-4273-b0e8-82ac78265110",
   "metadata": {},
   "outputs": [
    {
     "data": {
      "text/plain": [
       "[<matplotlib.lines.Line2D at 0x150953df0>]"
      ]
     },
     "execution_count": 22,
     "metadata": {},
     "output_type": "execute_result"
    },
    {
     "data": {
      "image/png": "[encoded data removed]",
      "text/plain": [
       "<Figure size 640x480 with 1 Axes>"
      ]
     },
     "metadata": {},
     "output_type": "display_data"
    }
   ],
   "source": [
    "plt.plot(train_batch_loss_li)"
   ]
  },
  {
   "cell_type": "code",
   "execution_count": 23,
   "id": "0ab72a3d-210f-4844-b8d7-c2d2f27df6b7",
   "metadata": {},
   "outputs": [
    {
     "data": {
      "text/plain": [
       "[<matplotlib.lines.Line2D at 0x15afea5e0>]"
      ]
     },
     "execution_count": 23,
     "metadata": {},
     "output_type": "execute_result"
    },
    {
     "data": {
      "image/png": "[encoded data removed]",
      "text/plain": [
       "<Figure size 640x480 with 1 Axes>"
      ]
     },
     "metadata": {},
     "output_type": "display_data"
    }
   ],
   "source": [
    "plt.plot(test_loss_li)"
   ]
  },
  {
   "cell_type": "code",
   "execution_count": 24,
   "id": "f4996fe0-e4ad-4736-b9ef-5732b4110329",
   "metadata": {},
   "outputs": [
    {
     "data": {
      "text/plain": [
       "[<matplotlib.lines.Line2D at 0x15b05b1f0>]"
      ]
     },
     "execution_count": 24,
     "metadata": {},
     "output_type": "execute_result"
    },
    {
     "data": {
      "image/png": "[encoded data removed]",
      "text/plain": [
       "<Figure size 640x480 with 1 Axes>"
      ]
     },
     "metadata": {},
     "output_type": "display_data"
    }
   ],
   "source": [
    "plt.plot(test_acc_li)"
   ]
  },
  {
   "cell_type": "markdown",
   "id": "6513fc54",
   "metadata": {},
   "source": [
    "# 과제 "
   ]
  },
  {
   "cell_type": "markdown",
   "id": "cf5547fa",
   "metadata": {},
   "source": [
    "<span style = 'font-size:1.2em;line-height:1.5em'>1. 모델 학습이 완료된 뒤, 모델의 예측값과 실제 레이블 값이 다른 데이터를 5개 선택하시고, 어떤 데이터여서 틀린것인지 matplotlib을 활용하여 알아보세요. matplotlib을 사용하여 그리는 방법은 지난주 실습자료에 있으니 참고하세요.</span>"
   ]
  },
  {
   "cell_type": "code",
   "execution_count": 25,
   "id": "91f765b3-fb36-49d5-b1d1-f61ea99d4b50",
   "metadata": {},
   "outputs": [],
   "source": [
    "# 실제 레이블 \n",
    "real_label = dataset2.targets\n",
    "real_data = dataset2.data"
   ]
  },
  {
   "cell_type": "code",
   "execution_count": 26,
   "id": "3a37cda6-bd01-473a-9253-33cc2357b30f",
   "metadata": {},
   "outputs": [],
   "source": [
    "# batch 1로 변경 \n",
    "test_loader = torch.utils.data.DataLoader(dataset2, \n",
    "                                          shuffle=False, \n",
    "                                          batch_size=1, \n",
    "                                          drop_last=False)"
   ]
  },
  {
   "cell_type": "code",
   "execution_count": 32,
   "id": "451d9acb-352f-44db-954d-43218d267861",
   "metadata": {},
   "outputs": [
    {
     "name": "stdout",
     "output_type": "stream",
     "text": [
      "idx: 8, pred: 0, target: 5\n",
      "idx: 9, pred: 7, target: 9\n",
      "idx: 11, pred: 0, target: 6\n",
      "idx: 15, pred: 3, target: 5\n",
      "idx: 17, pred: 3, target: 7\n"
     ]
    }
   ],
   "source": [
    "cnt=0\n",
    "\n",
    "with torch.no_grad():\n",
    "    for idx, (data, target) in enumerate(test_loader):\n",
    "        data, target = data.view(-1,784).to(device), target.to(device)\n",
    "        output = model_plot(data)\n",
    "        \n",
    "        pred = output.argmax(dim=1, keepdim=True).flatten()  # get the index of the max log-probability\n",
    "        \n",
    "        if cnt == 5:\n",
    "            break\n",
    "        elif pred.item() != target.item():\n",
    "            print(f'idx: {idx}, pred: {pred.item()}, target: {target.item()}')\n",
    "            cnt += 1"
   ]
  },
  {
   "cell_type": "markdown",
   "id": "f5472ebd-b728-4835-b314-d35cde63b1d8",
   "metadata": {},
   "source": [
    "### 확인"
   ]
  },
  {
   "cell_type": "code",
   "execution_count": 28,
   "id": "7d427dab-aa38-419e-9ab3-7b29afa41436",
   "metadata": {},
   "outputs": [],
   "source": [
    "import matplotlib.pyplot as plt\n",
    "%matplotlib inline"
   ]
  },
  {
   "cell_type": "code",
   "execution_count": 36,
   "id": "f83bda23-b905-4248-9b73-23a556ed90d3",
   "metadata": {},
   "outputs": [
    {
     "name": "stdout",
     "output_type": "stream",
     "text": [
      "tensor(5)\n"
     ]
    },
    {
     "data": {
      "text/plain": [
       "<matplotlib.image.AxesImage at 0x150ac0eb0>"
      ]
     },
     "execution_count": 36,
     "metadata": {},
     "output_type": "execute_result"
    },
    {
     "data": {
      "image/png": "[encoded data removed]",
      "text/plain": [
       "<Figure size 640x480 with 1 Axes>"
      ]
     },
     "metadata": {},
     "output_type": "display_data"
    }
   ],
   "source": [
    "print(real_label[8])\n",
    "plt.imshow(real_data[8].reshape(28,28))"
   ]
  },
  {
   "cell_type": "code",
   "execution_count": 39,
   "id": "b4c1e6cf-c404-4e5e-bcf5-c09e5a8a8c1e",
   "metadata": {},
   "outputs": [
    {
     "name": "stdout",
     "output_type": "stream",
     "text": [
      "tensor(9)\n"
     ]
    },
    {
     "data": {
      "text/plain": [
       "<matplotlib.image.AxesImage at 0x150be6250>"
      ]
     },
     "execution_count": 39,
     "metadata": {},
     "output_type": "execute_result"
    },
    {
     "data": {
      "image/png": "[encoded data removed]",
      "text/plain": [
       "<Figure size 640x480 with 1 Axes>"
      ]
     },
     "metadata": {},
     "output_type": "display_data"
    }
   ],
   "source": [
    "print(real_label[9])\n",
    "plt.imshow(real_data[9].reshape(28,28))"
   ]
  },
  {
   "cell_type": "code",
   "execution_count": 38,
   "id": "cd10f38e-7530-4315-8280-4f248ca08101",
   "metadata": {},
   "outputs": [
    {
     "name": "stdout",
     "output_type": "stream",
     "text": [
      "tensor(6)\n"
     ]
    },
    {
     "data": {
      "text/plain": [
       "<matplotlib.image.AxesImage at 0x150b92100>"
      ]
     },
     "execution_count": 38,
     "metadata": {},
     "output_type": "execute_result"
    },
    {
     "data": {
      "image/png": "[encoded data removed]",
      "text/plain": [
       "<Figure size 640x480 with 1 Axes>"
      ]
     },
     "metadata": {},
     "output_type": "display_data"
    }
   ],
   "source": [
    "print(real_label[11])\n",
    "plt.imshow(real_data[11].reshape(28,28))"
   ]
  },
  {
   "cell_type": "code",
   "execution_count": 40,
   "id": "ea0e9b9f-7789-4e68-90cf-ecf84e45412c",
   "metadata": {},
   "outputs": [
    {
     "name": "stdout",
     "output_type": "stream",
     "text": [
      "tensor(5)\n"
     ]
    },
    {
     "data": {
      "text/plain": [
       "<matplotlib.image.AxesImage at 0x150d52340>"
      ]
     },
     "execution_count": 40,
     "metadata": {},
     "output_type": "execute_result"
    },
    {
     "data": {
      "image/png": "[encoded data removed]",
      "text/plain": [
       "<Figure size 640x480 with 1 Axes>"
      ]
     },
     "metadata": {},
     "output_type": "display_data"
    }
   ],
   "source": [
    "print(real_label[15])\n",
    "plt.imshow(real_data[15].reshape(28,28))"
   ]
  },
  {
   "cell_type": "code",
   "execution_count": 41,
   "id": "bf1f61fa-d8d5-476d-bd22-3d7adf3890b0",
   "metadata": {},
   "outputs": [
    {
     "name": "stdout",
     "output_type": "stream",
     "text": [
      "tensor(7)\n"
     ]
    },
    {
     "data": {
      "text/plain": [
       "<matplotlib.image.AxesImage at 0x150db1640>"
      ]
     },
     "execution_count": 41,
     "metadata": {},
     "output_type": "execute_result"
    },
    {
     "data": {
      "image/png": "[encoded data removed]",
      "text/plain": [
       "<Figure size 640x480 with 1 Axes>"
      ]
     },
     "metadata": {},
     "output_type": "display_data"
    }
   ],
   "source": [
    "print(real_label[17])\n",
    "plt.imshow(real_data[17].reshape(28,28))"
   ]
  },
  {
   "cell_type": "code",
   "execution_count": null,
   "id": "b1df34d8-50f1-40c9-aa5b-2370ad2d75f7",
   "metadata": {},
   "outputs": [],
   "source": []
  }
 ],
 "metadata": {
  "kernelspec": {
   "display_name": "Python 3 (ipykernel)",
   "language": "python",
   "name": "python3"
  },
  "language_info": {
   "codemirror_mode": {
    "name": "ipython",
    "version": 3
   },
   "file_extension": ".py",
   "mimetype": "text/x-python",
   "name": "python",
   "nbconvert_exporter": "python",
   "pygments_lexer": "ipython3",
   "version": "3.8.12"
  }
 },
 "nbformat": 4,
 "nbformat_minor": 5
}
