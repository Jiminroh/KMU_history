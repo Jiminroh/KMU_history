{
 "cells": [
  {
   "cell_type": "markdown",
   "metadata": {
    "id": "tOU2AoELZ1uA"
   },
   "source": [
    "# <b>1. 환경설정하기</b>\n",
    "- <b>이 코드는 torchtext==0.6.0 이전 버전에서 동작합니다</b>\n",
    "\n",
    "\n"
   ]
  },
  {
   "cell_type": "code",
   "execution_count": 33,
   "metadata": {
    "colab": {
     "base_uri": "https://localhost:8080/"
    },
    "id": "nuJC_wBBYSs8",
    "outputId": "6adea221-8df0-41c4-a07a-7521a5aaaaee"
   },
   "outputs": [
    {
     "name": "stdout",
     "output_type": "stream",
     "text": [
      "Looking in indexes: https://pypi.org/simple, https://us-python.pkg.dev/colab-wheels/public/simple/\n",
      "Requirement already satisfied: torchtext==0.6.0 in /usr/local/lib/python3.7/dist-packages (0.6.0)\n",
      "Requirement already satisfied: sentencepiece in /usr/local/lib/python3.7/dist-packages (from torchtext==0.6.0) (0.1.97)\n",
      "Requirement already satisfied: numpy in /usr/local/lib/python3.7/dist-packages (from torchtext==0.6.0) (1.21.6)\n",
      "Requirement already satisfied: torch in /usr/local/lib/python3.7/dist-packages (from torchtext==0.6.0) (1.12.1+cu113)\n",
      "Requirement already satisfied: six in /usr/local/lib/python3.7/dist-packages (from torchtext==0.6.0) (1.15.0)\n",
      "Requirement already satisfied: requests in /usr/local/lib/python3.7/dist-packages (from torchtext==0.6.0) (2.23.0)\n",
      "Requirement already satisfied: tqdm in /usr/local/lib/python3.7/dist-packages (from torchtext==0.6.0) (4.64.1)\n",
      "Requirement already satisfied: certifi>=2017.4.17 in /usr/local/lib/python3.7/dist-packages (from requests->torchtext==0.6.0) (2022.9.24)\n",
      "Requirement already satisfied: urllib3!=1.25.0,!=1.25.1,<1.26,>=1.21.1 in /usr/local/lib/python3.7/dist-packages (from requests->torchtext==0.6.0) (1.24.3)\n",
      "Requirement already satisfied: chardet<4,>=3.0.2 in /usr/local/lib/python3.7/dist-packages (from requests->torchtext==0.6.0) (3.0.4)\n",
      "Requirement already satisfied: idna<3,>=2.5 in /usr/local/lib/python3.7/dist-packages (from requests->torchtext==0.6.0) (2.10)\n",
      "Requirement already satisfied: typing-extensions in /usr/local/lib/python3.7/dist-packages (from torch->torchtext==0.6.0) (4.1.1)\n"
     ]
    }
   ],
   "source": [
    "!pip install torchtext==0.6.0"
   ]
  },
  {
   "cell_type": "code",
   "execution_count": 34,
   "metadata": {
    "colab": {
     "base_uri": "https://localhost:8080/"
    },
    "id": "3tYSsckAj14b",
    "outputId": "82a5ff26-c6ab-421c-935b-713d9fc2167c"
   },
   "outputs": [
    {
     "name": "stdout",
     "output_type": "stream",
     "text": [
      "Looking in indexes: https://pypi.org/simple, https://us-python.pkg.dev/colab-wheels/public/simple/\n",
      "Collecting en-core-web-sm==3.4.1\n",
      "  Downloading https://github.com/explosion/spacy-models/releases/download/en_core_web_sm-3.4.1/en_core_web_sm-3.4.1-py3-none-any.whl (12.8 MB)\n",
      "\u001b[K     |████████████████████████████████| 12.8 MB 33.2 MB/s \n",
      "\u001b[?25hRequirement already satisfied: spacy<3.5.0,>=3.4.0 in /usr/local/lib/python3.7/dist-packages (from en-core-web-sm==3.4.1) (3.4.3)\n",
      "Requirement already satisfied: tqdm<5.0.0,>=4.38.0 in /usr/local/lib/python3.7/dist-packages (from spacy<3.5.0,>=3.4.0->en-core-web-sm==3.4.1) (4.64.1)\n",
      "Requirement already satisfied: preshed<3.1.0,>=3.0.2 in /usr/local/lib/python3.7/dist-packages (from spacy<3.5.0,>=3.4.0->en-core-web-sm==3.4.1) (3.0.8)\n",
      "Requirement already satisfied: langcodes<4.0.0,>=3.2.0 in /usr/local/lib/python3.7/dist-packages (from spacy<3.5.0,>=3.4.0->en-core-web-sm==3.4.1) (3.3.0)\n",
      "Requirement already satisfied: pydantic!=1.8,!=1.8.1,<1.11.0,>=1.7.4 in /usr/local/lib/python3.7/dist-packages (from spacy<3.5.0,>=3.4.0->en-core-web-sm==3.4.1) (1.10.2)\n",
      "Requirement already satisfied: thinc<8.2.0,>=8.1.0 in /usr/local/lib/python3.7/dist-packages (from spacy<3.5.0,>=3.4.0->en-core-web-sm==3.4.1) (8.1.5)\n",
      "Requirement already satisfied: pathy>=0.3.5 in /usr/local/lib/python3.7/dist-packages (from spacy<3.5.0,>=3.4.0->en-core-web-sm==3.4.1) (0.8.1)\n",
      "Requirement already satisfied: packaging>=20.0 in /usr/local/lib/python3.7/dist-packages (from spacy<3.5.0,>=3.4.0->en-core-web-sm==3.4.1) (21.3)\n",
      "Requirement already satisfied: spacy-loggers<2.0.0,>=1.0.0 in /usr/local/lib/python3.7/dist-packages (from spacy<3.5.0,>=3.4.0->en-core-web-sm==3.4.1) (1.0.3)\n",
      "Requirement already satisfied: jinja2 in /usr/local/lib/python3.7/dist-packages (from spacy<3.5.0,>=3.4.0->en-core-web-sm==3.4.1) (2.11.3)\n",
      "Requirement already satisfied: requests<3.0.0,>=2.13.0 in /usr/local/lib/python3.7/dist-packages (from spacy<3.5.0,>=3.4.0->en-core-web-sm==3.4.1) (2.23.0)\n",
      "Requirement already satisfied: typing-extensions<4.2.0,>=3.7.4 in /usr/local/lib/python3.7/dist-packages (from spacy<3.5.0,>=3.4.0->en-core-web-sm==3.4.1) (4.1.1)\n",
      "Requirement already satisfied: spacy-legacy<3.1.0,>=3.0.10 in /usr/local/lib/python3.7/dist-packages (from spacy<3.5.0,>=3.4.0->en-core-web-sm==3.4.1) (3.0.10)\n",
      "Requirement already satisfied: murmurhash<1.1.0,>=0.28.0 in /usr/local/lib/python3.7/dist-packages (from spacy<3.5.0,>=3.4.0->en-core-web-sm==3.4.1) (1.0.9)\n",
      "Requirement already satisfied: wasabi<1.1.0,>=0.9.1 in /usr/local/lib/python3.7/dist-packages (from spacy<3.5.0,>=3.4.0->en-core-web-sm==3.4.1) (0.10.1)\n",
      "Requirement already satisfied: setuptools in /usr/local/lib/python3.7/dist-packages (from spacy<3.5.0,>=3.4.0->en-core-web-sm==3.4.1) (57.4.0)\n",
      "Requirement already satisfied: cymem<2.1.0,>=2.0.2 in /usr/local/lib/python3.7/dist-packages (from spacy<3.5.0,>=3.4.0->en-core-web-sm==3.4.1) (2.0.7)\n",
      "Requirement already satisfied: srsly<3.0.0,>=2.4.3 in /usr/local/lib/python3.7/dist-packages (from spacy<3.5.0,>=3.4.0->en-core-web-sm==3.4.1) (2.4.5)\n",
      "Requirement already satisfied: catalogue<2.1.0,>=2.0.6 in /usr/local/lib/python3.7/dist-packages (from spacy<3.5.0,>=3.4.0->en-core-web-sm==3.4.1) (2.0.8)\n",
      "Requirement already satisfied: typer<0.8.0,>=0.3.0 in /usr/local/lib/python3.7/dist-packages (from spacy<3.5.0,>=3.4.0->en-core-web-sm==3.4.1) (0.7.0)\n",
      "Requirement already satisfied: numpy>=1.15.0 in /usr/local/lib/python3.7/dist-packages (from spacy<3.5.0,>=3.4.0->en-core-web-sm==3.4.1) (1.21.6)\n",
      "Requirement already satisfied: zipp>=0.5 in /usr/local/lib/python3.7/dist-packages (from catalogue<2.1.0,>=2.0.6->spacy<3.5.0,>=3.4.0->en-core-web-sm==3.4.1) (3.10.0)\n",
      "Requirement already satisfied: pyparsing!=3.0.5,>=2.0.2 in /usr/local/lib/python3.7/dist-packages (from packaging>=20.0->spacy<3.5.0,>=3.4.0->en-core-web-sm==3.4.1) (3.0.9)\n",
      "Requirement already satisfied: smart-open<6.0.0,>=5.2.1 in /usr/local/lib/python3.7/dist-packages (from pathy>=0.3.5->spacy<3.5.0,>=3.4.0->en-core-web-sm==3.4.1) (5.2.1)\n",
      "Requirement already satisfied: chardet<4,>=3.0.2 in /usr/local/lib/python3.7/dist-packages (from requests<3.0.0,>=2.13.0->spacy<3.5.0,>=3.4.0->en-core-web-sm==3.4.1) (3.0.4)\n",
      "Requirement already satisfied: certifi>=2017.4.17 in /usr/local/lib/python3.7/dist-packages (from requests<3.0.0,>=2.13.0->spacy<3.5.0,>=3.4.0->en-core-web-sm==3.4.1) (2022.9.24)\n",
      "Requirement already satisfied: urllib3!=1.25.0,!=1.25.1,<1.26,>=1.21.1 in /usr/local/lib/python3.7/dist-packages (from requests<3.0.0,>=2.13.0->spacy<3.5.0,>=3.4.0->en-core-web-sm==3.4.1) (1.24.3)\n",
      "Requirement already satisfied: idna<3,>=2.5 in /usr/local/lib/python3.7/dist-packages (from requests<3.0.0,>=2.13.0->spacy<3.5.0,>=3.4.0->en-core-web-sm==3.4.1) (2.10)\n",
      "Requirement already satisfied: blis<0.8.0,>=0.7.8 in /usr/local/lib/python3.7/dist-packages (from thinc<8.2.0,>=8.1.0->spacy<3.5.0,>=3.4.0->en-core-web-sm==3.4.1) (0.7.9)\n",
      "Requirement already satisfied: confection<1.0.0,>=0.0.1 in /usr/local/lib/python3.7/dist-packages (from thinc<8.2.0,>=8.1.0->spacy<3.5.0,>=3.4.0->en-core-web-sm==3.4.1) (0.0.3)\n",
      "Requirement already satisfied: click<9.0.0,>=7.1.1 in /usr/local/lib/python3.7/dist-packages (from typer<0.8.0,>=0.3.0->spacy<3.5.0,>=3.4.0->en-core-web-sm==3.4.1) (7.1.2)\n",
      "Requirement already satisfied: MarkupSafe>=0.23 in /usr/local/lib/python3.7/dist-packages (from jinja2->spacy<3.5.0,>=3.4.0->en-core-web-sm==3.4.1) (2.0.1)\n",
      "\u001b[38;5;2m✔ Download and installation successful\u001b[0m\n",
      "You can now load the package via spacy.load('en_core_web_sm')\n"
     ]
    }
   ],
   "source": [
    "!python -m spacy download en_core_web_sm"
   ]
  },
  {
   "cell_type": "code",
   "execution_count": 35,
   "metadata": {
    "id": "HvuPMRhlAbUx"
   },
   "outputs": [],
   "source": [
    "import os\n",
    "import random\n",
    "import numpy as np\n",
    "import torch\n",
    "import torch.nn as nn\n",
    "import torch.nn.functional as F\n",
    "from torchtext import data, datasets\n"
   ]
  },
  {
   "cell_type": "code",
   "execution_count": 36,
   "metadata": {
    "id": "iu-3ypO3ApVG"
   },
   "outputs": [],
   "source": [
    "seed = 42\n",
    "\n",
    "random.seed(seed)\n",
    "np.random.seed(seed)\n",
    "torch.manual_seed(seed)\n",
    "torch.backends.cudnn.deterministic = True\n",
    "\n",
    "if torch.cuda.is_available():\n",
    "    device = torch.device('cuda')\n",
    "else:\n",
    "    device = torch.device('cpu')"
   ]
  },
  {
   "cell_type": "markdown",
   "metadata": {
    "id": "YEbqFTXfBglH"
   },
   "source": [
    "# <b> 2. torchtext로 전처리하기</b>"
   ]
  },
  {
   "cell_type": "markdown",
   "metadata": {
    "id": "94QKxOXpQvRu"
   },
   "source": [
    "## <b>(1) data 로드하기(by torchtext.data)</b>\n",
    "- data는 IMDB dataset을 사용하겠습니다"
   ]
  },
  {
   "cell_type": "code",
   "execution_count": 1,
   "metadata": {
    "id": "snQ-jzJiaSYF"
   },
   "outputs": [
    {
     "ename": "NameError",
     "evalue": "name 'data' is not defined",
     "output_type": "error",
     "traceback": [
      "\u001b[0;31m---------------------------------------------------------------------------\u001b[0m",
      "\u001b[0;31mNameError\u001b[0m                                 Traceback (most recent call last)",
      "Cell \u001b[0;32mIn [1], line 1\u001b[0m\n\u001b[0;32m----> 1\u001b[0m TEXT \u001b[38;5;241m=\u001b[39m \u001b[43mdata\u001b[49m\u001b[38;5;241m.\u001b[39mField(tokenize\u001b[38;5;241m=\u001b[39m\u001b[38;5;124m'\u001b[39m\u001b[38;5;124mspacy\u001b[39m\u001b[38;5;124m'\u001b[39m, \n\u001b[1;32m      2\u001b[0m                   tokenizer_language \u001b[38;5;241m=\u001b[39m \u001b[38;5;124m'\u001b[39m\u001b[38;5;124men_core_web_sm\u001b[39m\u001b[38;5;124m'\u001b[39m, \n\u001b[1;32m      3\u001b[0m                   sequential\u001b[38;5;241m=\u001b[39m\u001b[38;5;28;01mTrue\u001b[39;00m, \n\u001b[1;32m      4\u001b[0m                   batch_first\u001b[38;5;241m=\u001b[39m\u001b[38;5;28;01mTrue\u001b[39;00m, \n\u001b[1;32m      5\u001b[0m                   lower\u001b[38;5;241m=\u001b[39m\u001b[38;5;28;01mTrue\u001b[39;00m)\n\u001b[1;32m      6\u001b[0m LABEL \u001b[38;5;241m=\u001b[39m data\u001b[38;5;241m.\u001b[39mLabelField(sequential\u001b[38;5;241m=\u001b[39m\u001b[38;5;28;01mFalse\u001b[39;00m, \n\u001b[1;32m      7\u001b[0m                         batch_first\u001b[38;5;241m=\u001b[39m\u001b[38;5;28;01mTrue\u001b[39;00m, \n\u001b[1;32m      8\u001b[0m                         dtype\u001b[38;5;241m=\u001b[39mtorch\u001b[38;5;241m.\u001b[39mlong)\n",
      "\u001b[0;31mNameError\u001b[0m: name 'data' is not defined"
     ]
    }
   ],
   "source": [
    "TEXT = data.Field(tokenize='spacy', \n",
    "                  tokenizer_language = 'en_core_web_sm', \n",
    "                  sequential=True, \n",
    "                  batch_first=True, \n",
    "                  lower=True)\n",
    "LABEL = data.LabelField(sequential=False, \n",
    "                        batch_first=True, \n",
    "                        dtype=torch.long)"
   ]
  },
  {
   "cell_type": "markdown",
   "metadata": {
    "id": "BSV0OF4shN9-"
   },
   "source": [
    "## <b>(2) data로드 및 분할하기</b>\n",
    "- torchtext.datasets으로 IMDB dataset을 다운로드 받고, train, test로 분할"
   ]
  },
  {
   "cell_type": "code",
   "execution_count": 67,
   "metadata": {
    "id": "laZsAx7shK-s"
   },
   "outputs": [],
   "source": [
    "trn_dset, tst_dset = datasets.IMDB.splits(TEXT, LABEL)\n",
    "trn_dset, val_dset = trn_dset.split(random_state = random.seed(seed), \n",
    "                                    split_ratio = 0.8)"
   ]
  },
  {
   "cell_type": "code",
   "execution_count": 68,
   "metadata": {
    "colab": {
     "base_uri": "https://localhost:8080/"
    },
    "id": "VBes7_oWdFrY",
    "outputId": "131533e2-2a74-4802-b044-76143f28cb33"
   },
   "outputs": [
    {
     "name": "stdout",
     "output_type": "stream",
     "text": [
      "20000\n",
      "5000\n",
      "25000\n"
     ]
    }
   ],
   "source": [
    "print(len(trn_dset))\n",
    "print(len(val_dset))\n",
    "print(len(tst_dset))"
   ]
  },
  {
   "cell_type": "code",
   "execution_count": 69,
   "metadata": {
    "colab": {
     "base_uri": "https://localhost:8080/"
    },
    "id": "jmHJAksvifKI",
    "outputId": "78bc02b4-1678-4544-8435-c57d0886a61d"
   },
   "outputs": [
    {
     "name": "stdout",
     "output_type": "stream",
     "text": [
      "{'text': ['the', 'ballad', 'of', 'django', 'is', 'a', 'meandering', 'mess', 'of', 'a', 'movie', '!', 'this', 'spaghetti', 'western', 'is', 'simply', 'a', 'collection', 'of', 'scenes', 'from', 'other', '(', 'and', 'much', 'better', '!', ')', 'films', 'supposedly', 'tied', 'together', 'by', '\"', 'django', '\"', 'telling', 'how', 'he', 'brought', 'in', 'different', 'outlaws', '.', 'hunt', 'powers', '(', 'john', 'cameron', ')', 'brings', 'nothing', 'to', 'the', 'role', 'of', 'django', '.', 'skip', 'this', 'one', 'unless', 'you', 'just', 'have', 'to', 'have', 'every', 'django', 'movie', 'made', 'and', 'even', 'that', 'may', 'not', 'be', 'a', 'good', 'enough', 'excuse', 'to', 'see', 'this', 'one', '!', '!'], 'label': 'neg'}\n"
     ]
    }
   ],
   "source": [
    "print(vars(trn_dset[0]))"
   ]
  },
  {
   "cell_type": "markdown",
   "metadata": {
    "id": "7S9P--Ybyj7S"
   },
   "source": [
    "## <b>(3) 단어 집합(vocab) 만들기</b>"
   ]
  },
  {
   "cell_type": "code",
   "execution_count": 70,
   "metadata": {
    "id": "2TrzUZqj6aa-"
   },
   "outputs": [],
   "source": [
    "TEXT.build_vocab?"
   ]
  },
  {
   "cell_type": "code",
   "execution_count": 71,
   "metadata": {
    "id": "DKTtdhISyjRL"
   },
   "outputs": [],
   "source": [
    "TEXT.build_vocab(trn_dset, min_freq = 5)\n",
    "LABEL.build_vocab(trn_dset)"
   ]
  },
  {
   "cell_type": "code",
   "execution_count": 72,
   "metadata": {
    "id": "VDN1i7NKdIxg"
   },
   "outputs": [],
   "source": [
    "VOCAB_SIZE = len(TEXT.vocab)\n",
    "n_classes = 2"
   ]
  },
  {
   "cell_type": "markdown",
   "metadata": {
    "id": "9DpuG2WD8M7t"
   },
   "source": [
    "### TEXT.vocab으로 단어 집합에 접근\n",
    "- TEXT.vocab.stoi로 DefaultDict형식의 집합을 볼 수 있습니다"
   ]
  },
  {
   "cell_type": "code",
   "execution_count": 73,
   "metadata": {
    "colab": {
     "base_uri": "https://localhost:8080/"
    },
    "id": "iJTh9Axu74yz",
    "outputId": "081cfeff-d2e7-42ed-b693-cfb37b19c1e3"
   },
   "outputs": [
    {
     "data": {
      "text/plain": [
       "defaultdict(<bound method Vocab._default_unk_index of <torchtext.vocab.Vocab object at 0x7f2499a237d0>>,\n",
       "            {'<unk>': 0,\n",
       "             '<pad>': 1,\n",
       "             'the': 2,\n",
       "             ',': 3,\n",
       "             '.': 4,\n",
       "             'and': 5,\n",
       "             'a': 6,\n",
       "             'of': 7,\n",
       "             'to': 8,\n",
       "             'is': 9,\n",
       "             'it': 10,\n",
       "             'in': 11,\n",
       "             'i': 12,\n",
       "             'this': 13,\n",
       "             'that': 14,\n",
       "             '\"': 15,\n",
       "             \"'s\": 16,\n",
       "             '-': 17,\n",
       "             '/><br': 18,\n",
       "             'was': 19,\n",
       "             'as': 20,\n",
       "             'for': 21,\n",
       "             'with': 22,\n",
       "             'movie': 23,\n",
       "             'but': 24,\n",
       "             'film': 25,\n",
       "             'on': 26,\n",
       "             'you': 27,\n",
       "             '(': 28,\n",
       "             \"n't\": 29,\n",
       "             ')': 30,\n",
       "             'not': 31,\n",
       "             'are': 32,\n",
       "             'he': 33,\n",
       "             'his': 34,\n",
       "             'have': 35,\n",
       "             'be': 36,\n",
       "             'one': 37,\n",
       "             'all': 38,\n",
       "             'at': 39,\n",
       "             'they': 40,\n",
       "             'by': 41,\n",
       "             '!': 42,\n",
       "             'an': 43,\n",
       "             'who': 44,\n",
       "             'from': 45,\n",
       "             'like': 46,\n",
       "             'so': 47,\n",
       "             'her': 48,\n",
       "             'or': 49,\n",
       "             'just': 50,\n",
       "             'there': 51,\n",
       "             'do': 52,\n",
       "             'has': 53,\n",
       "             'about': 54,\n",
       "             'out': 55,\n",
       "             \"'\": 56,\n",
       "             'if': 57,\n",
       "             'some': 58,\n",
       "             'what': 59,\n",
       "             'good': 60,\n",
       "             '?': 61,\n",
       "             'more': 62,\n",
       "             'she': 63,\n",
       "             'very': 64,\n",
       "             'when': 65,\n",
       "             'would': 66,\n",
       "             'up': 67,\n",
       "             'no': 68,\n",
       "             'even': 69,\n",
       "             'time': 70,\n",
       "             'can': 71,\n",
       "             'my': 72,\n",
       "             'which': 73,\n",
       "             'only': 74,\n",
       "             'really': 75,\n",
       "             'story': 76,\n",
       "             'their': 77,\n",
       "             'had': 78,\n",
       "             'see': 79,\n",
       "             'were': 80,\n",
       "             'we': 81,\n",
       "             'did': 82,\n",
       "             'me': 83,\n",
       "             'does': 84,\n",
       "             'well': 85,\n",
       "             'than': 86,\n",
       "             '...': 87,\n",
       "             'much': 88,\n",
       "             'could': 89,\n",
       "             'get': 90,\n",
       "             'will': 91,\n",
       "             'people': 92,\n",
       "             'been': 93,\n",
       "             ':': 94,\n",
       "             'into': 95,\n",
       "             'bad': 96,\n",
       "             'because': 97,\n",
       "             'also': 98,\n",
       "             'other': 99,\n",
       "             'great': 100,\n",
       "             'how': 101,\n",
       "             'first': 102,\n",
       "             'most': 103,\n",
       "             'him': 104,\n",
       "             'made': 105,\n",
       "             'its': 106,\n",
       "             'make': 107,\n",
       "             'then': 108,\n",
       "             'way': 109,\n",
       "             'them': 110,\n",
       "             'too': 111,\n",
       "             'any': 112,\n",
       "             'movies': 113,\n",
       "             'after': 114,\n",
       "             '/>the': 115,\n",
       "             '<': 116,\n",
       "             'br': 117,\n",
       "             'think': 118,\n",
       "             'characters': 119,\n",
       "             'character': 120,\n",
       "             'watch': 121,\n",
       "             'two': 122,\n",
       "             'films': 123,\n",
       "             'seen': 124,\n",
       "             'many': 125,\n",
       "             'being': 126,\n",
       "             ';': 127,\n",
       "             'plot': 128,\n",
       "             'little': 129,\n",
       "             'life': 130,\n",
       "             'never': 131,\n",
       "             'best': 132,\n",
       "             'love': 133,\n",
       "             'over': 134,\n",
       "             'acting': 135,\n",
       "             'where': 136,\n",
       "             'show': 137,\n",
       "             'know': 138,\n",
       "             'off': 139,\n",
       "             'ever': 140,\n",
       "             'man': 141,\n",
       "             'your': 142,\n",
       "             'better': 143,\n",
       "             'still': 144,\n",
       "             'end': 145,\n",
       "             'here': 146,\n",
       "             '*': 147,\n",
       "             'should': 148,\n",
       "             'these': 149,\n",
       "             'say': 150,\n",
       "             'scene': 151,\n",
       "             'why': 152,\n",
       "             'while': 153,\n",
       "             'scenes': 154,\n",
       "             'such': 155,\n",
       "             'go': 156,\n",
       "             \"'ve\": 157,\n",
       "             'something': 158,\n",
       "             'back': 159,\n",
       "             'through': 160,\n",
       "             '/': 161,\n",
       "             'those': 162,\n",
       "             'real': 163,\n",
       "             'watching': 164,\n",
       "             'thing': 165,\n",
       "             'old': 166,\n",
       "             \"'m\": 167,\n",
       "             'years': 168,\n",
       "             'actors': 169,\n",
       "             'though': 170,\n",
       "             'nothing': 171,\n",
       "             'work': 172,\n",
       "             'director': 173,\n",
       "             'new': 174,\n",
       "             'makes': 175,\n",
       "             'now': 176,\n",
       "             'actually': 177,\n",
       "             'before': 178,\n",
       "             'funny': 179,\n",
       "             'find': 180,\n",
       "             'another': 181,\n",
       "             'look': 182,\n",
       "             'going': 183,\n",
       "             'few': 184,\n",
       "             '--': 185,\n",
       "             'same': 186,\n",
       "             'part': 187,\n",
       "             'lot': 188,\n",
       "             'every': 189,\n",
       "             'again': 190,\n",
       "             'us': 191,\n",
       "             'cast': 192,\n",
       "             'world': 193,\n",
       "             'ca': 194,\n",
       "             'got': 195,\n",
       "             'quite': 196,\n",
       "             'want': 197,\n",
       "             'pretty': 198,\n",
       "             'young': 199,\n",
       "             '/>i': 200,\n",
       "             \"'re\": 201,\n",
       "             '&': 202,\n",
       "             'down': 203,\n",
       "             'horror': 204,\n",
       "             'things': 205,\n",
       "             'seems': 206,\n",
       "             'around': 207,\n",
       "             'fact': 208,\n",
       "             'take': 209,\n",
       "             'big': 210,\n",
       "             'may': 211,\n",
       "             'thought': 212,\n",
       "             'between': 213,\n",
       "             'long': 214,\n",
       "             'enough': 215,\n",
       "             'action': 216,\n",
       "             'give': 217,\n",
       "             'original': 218,\n",
       "             'both': 219,\n",
       "             'series': 220,\n",
       "             'own': 221,\n",
       "             'right': 222,\n",
       "             'however': 223,\n",
       "             'always': 224,\n",
       "             'must': 225,\n",
       "             'without': 226,\n",
       "             'gets': 227,\n",
       "             'come': 228,\n",
       "             'family': 229,\n",
       "             'interesting': 230,\n",
       "             'times': 231,\n",
       "             'comedy': 232,\n",
       "             'point': 233,\n",
       "             'almost': 234,\n",
       "             'role': 235,\n",
       "             'saw': 236,\n",
       "             'least': 237,\n",
       "             'guy': 238,\n",
       "             'whole': 239,\n",
       "             'bit': 240,\n",
       "             'done': 241,\n",
       "             'music': 242,\n",
       "             'minutes': 243,\n",
       "             'script': 244,\n",
       "             'far': 245,\n",
       "             'feel': 246,\n",
       "             'might': 247,\n",
       "             'last': 248,\n",
       "             'anything': 249,\n",
       "             'making': 250,\n",
       "             'girl': 251,\n",
       "             'performance': 252,\n",
       "             'since': 253,\n",
       "             'woman': 254,\n",
       "             'probably': 255,\n",
       "             'away': 256,\n",
       "             'am': 257,\n",
       "             'tv': 258,\n",
       "             'kind': 259,\n",
       "             'hard': 260,\n",
       "             'day': 261,\n",
       "             'worst': 262,\n",
       "             'rather': 263,\n",
       "             \"'ll\": 264,\n",
       "             'yet': 265,\n",
       "             'fun': 266,\n",
       "             'sure': 267,\n",
       "             'each': 268,\n",
       "             'anyone': 269,\n",
       "             'played': 270,\n",
       "             'trying': 271,\n",
       "             'found': 272,\n",
       "             'believe': 273,\n",
       "             'course': 274,\n",
       "             'especially': 275,\n",
       "             'looking': 276,\n",
       "             'our': 277,\n",
       "             'comes': 278,\n",
       "             'looks': 279,\n",
       "             'having': 280,\n",
       "             'set': 281,\n",
       "             'goes': 282,\n",
       "             'put': 283,\n",
       "             'although': 284,\n",
       "             'screen': 285,\n",
       "             'place': 286,\n",
       "             'different': 287,\n",
       "             'book': 288,\n",
       "             'actor': 289,\n",
       "             'money': 290,\n",
       "             'someone': 291,\n",
       "             'reason': 292,\n",
       "             'year': 293,\n",
       "             'ending': 294,\n",
       "             '/>this': 295,\n",
       "             'sense': 296,\n",
       "             'dvd': 297,\n",
       "             'once': 298,\n",
       "             'shows': 299,\n",
       "             'true': 300,\n",
       "             'let': 301,\n",
       "             'three': 302,\n",
       "             'worth': 303,\n",
       "             'everything': 304,\n",
       "             'main': 305,\n",
       "             'play': 306,\n",
       "             'watched': 307,\n",
       "             'american': 308,\n",
       "             \"'d\": 309,\n",
       "             'job': 310,\n",
       "             'maybe': 311,\n",
       "             'together': 312,\n",
       "             'takes': 313,\n",
       "             'plays': 314,\n",
       "             '10': 315,\n",
       "             'said': 316,\n",
       "             'everyone': 317,\n",
       "             'high': 318,\n",
       "             '2': 319,\n",
       "             'left': 320,\n",
       "             'john': 321,\n",
       "             'seem': 322,\n",
       "             'effects': 323,\n",
       "             'version': 324,\n",
       "             'house': 325,\n",
       "             'audience': 326,\n",
       "             'later': 327,\n",
       "             'himself': 328,\n",
       "             'beautiful': 329,\n",
       "             'during': 330,\n",
       "             'instead': 331,\n",
       "             'wife': 332,\n",
       "             'half': 333,\n",
       "             'night': 334,\n",
       "             'father': 335,\n",
       "             'special': 336,\n",
       "             'war': 337,\n",
       "             'excellent': 338,\n",
       "             'seeing': 339,\n",
       "             'star': 340,\n",
       "             'black': 341,\n",
       "             'less': 342,\n",
       "             'else': 343,\n",
       "             'idea': 344,\n",
       "             'shot': 345,\n",
       "             'nice': 346,\n",
       "             'simply': 347,\n",
       "             'read': 348,\n",
       "             'fan': 349,\n",
       "             'completely': 350,\n",
       "             'men': 351,\n",
       "             'mind': 352,\n",
       "             'second': 353,\n",
       "             'death': 354,\n",
       "             'help': 355,\n",
       "             'poor': 356,\n",
       "             'try': 357,\n",
       "             'hollywood': 358,\n",
       "             'home': 359,\n",
       "             'used': 360,\n",
       "             'dead': 361,\n",
       "             'kids': 362,\n",
       "             'classic': 363,\n",
       "             'line': 364,\n",
       "             'given': 365,\n",
       "             'need': 366,\n",
       "             'short': 367,\n",
       "             'either': 368,\n",
       "             'rest': 369,\n",
       "             'top': 370,\n",
       "             'use': 371,\n",
       "             'production': 372,\n",
       "             'enjoy': 373,\n",
       "             'budget': 374,\n",
       "             'boring': 375,\n",
       "             'camera': 376,\n",
       "             'friends': 377,\n",
       "             'full': 378,\n",
       "             'low': 379,\n",
       "             'until': 380,\n",
       "             'performances': 381,\n",
       "             'wrong': 382,\n",
       "             'women': 383,\n",
       "             'couple': 384,\n",
       "             'tell': 385,\n",
       "             'video': 386,\n",
       "             'understand': 387,\n",
       "             'along': 388,\n",
       "             'start': 389,\n",
       "             'truly': 390,\n",
       "             'recommend': 391,\n",
       "             '..': 392,\n",
       "             'sex': 393,\n",
       "             'getting': 394,\n",
       "             'mean': 395,\n",
       "             'came': 396,\n",
       "             'next': 397,\n",
       "             'stupid': 398,\n",
       "             'awful': 399,\n",
       "             'small': 400,\n",
       "             'stars': 401,\n",
       "             'episode': 402,\n",
       "             'perhaps': 403,\n",
       "             'remember': 404,\n",
       "             'school': 405,\n",
       "             'wonderful': 406,\n",
       "             'moments': 407,\n",
       "             '/>it': 408,\n",
       "             'terrible': 409,\n",
       "             'keep': 410,\n",
       "             'often': 411,\n",
       "             'early': 412,\n",
       "             'face': 413,\n",
       "             'perfect': 414,\n",
       "             'playing': 415,\n",
       "             'style': 416,\n",
       "             'human': 417,\n",
       "             'doing': 418,\n",
       "             'written': 419,\n",
       "             'person': 420,\n",
       "             'piece': 421,\n",
       "             'become': 422,\n",
       "             'others': 423,\n",
       "             'live': 424,\n",
       "             'gives': 425,\n",
       "             'name': 426,\n",
       "             'case': 427,\n",
       "             'supposed': 428,\n",
       "             'dialogue': 429,\n",
       "             'definitely': 430,\n",
       "             'head': 431,\n",
       "             'lost': 432,\n",
       "             'liked': 433,\n",
       "             'mother': 434,\n",
       "             'lines': 435,\n",
       "             'boy': 436,\n",
       "             'felt': 437,\n",
       "             'absolutely': 438,\n",
       "             'itself': 439,\n",
       "             'entire': 440,\n",
       "             'went': 441,\n",
       "             'white': 442,\n",
       "             'sort': 443,\n",
       "             'children': 444,\n",
       "             'waste': 445,\n",
       "             'picture': 446,\n",
       "             'against': 447,\n",
       "             'problem': 448,\n",
       "             'cinema': 449,\n",
       "             'finally': 450,\n",
       "             'certainly': 451,\n",
       "             'called': 452,\n",
       "             'hope': 453,\n",
       "             'several': 454,\n",
       "             'evil': 455,\n",
       "             'based': 456,\n",
       "             'fans': 457,\n",
       "             'loved': 458,\n",
       "             'title': 459,\n",
       "             'becomes': 460,\n",
       "             'friend': 461,\n",
       "             'beginning': 462,\n",
       "             'entertaining': 463,\n",
       "             'killer': 464,\n",
       "             'lives': 465,\n",
       "             'worse': 466,\n",
       "             'example': 467,\n",
       "             '3': 468,\n",
       "             'seemed': 469,\n",
       "             'already': 470,\n",
       "             'direction': 471,\n",
       "             '\\x96': 472,\n",
       "             'care': 473,\n",
       "             'drama': 474,\n",
       "             'yes': 475,\n",
       "             'dark': 476,\n",
       "             'son': 477,\n",
       "             'under': 478,\n",
       "             'turn': 479,\n",
       "             'wanted': 480,\n",
       "             'fine': 481,\n",
       "             'wo': 482,\n",
       "             'laugh': 483,\n",
       "             'throughout': 484,\n",
       "             'michael': 485,\n",
       "             'heart': 486,\n",
       "             'wants': 487,\n",
       "             'oh': 488,\n",
       "             'lead': 489,\n",
       "             'amazing': 490,\n",
       "             'final': 491,\n",
       "             'turns': 492,\n",
       "             'child': 493,\n",
       "             'sound': 494,\n",
       "             'totally': 495,\n",
       "             'town': 496,\n",
       "             'game': 497,\n",
       "             'writing': 498,\n",
       "             'close': 499,\n",
       "             'guys': 500,\n",
       "             'humor': 501,\n",
       "             'quality': 502,\n",
       "             'tries': 503,\n",
       "             'history': 504,\n",
       "             'able': 505,\n",
       "             'guess': 506,\n",
       "             'behind': 507,\n",
       "             'despite': 508,\n",
       "             'works': 509,\n",
       "             'viewer': 510,\n",
       "             '<br': 511,\n",
       "             'favorite': 512,\n",
       "             'kill': 513,\n",
       "             '1': 514,\n",
       "             'art': 515,\n",
       "             'enjoyed': 516,\n",
       "             'unfortunately': 517,\n",
       "             'side': 518,\n",
       "             'past': 519,\n",
       "             'starts': 520,\n",
       "             'days': 521,\n",
       "             'flick': 522,\n",
       "             'hand': 523,\n",
       "             'genre': 524,\n",
       "             'blood': 525,\n",
       "             'gave': 526,\n",
       "             'sometimes': 527,\n",
       "             'run': 528,\n",
       "             'act': 529,\n",
       "             'today': 530,\n",
       "             'actress': 531,\n",
       "             'expect': 532,\n",
       "             'girls': 533,\n",
       "             'god': 534,\n",
       "             'kid': 535,\n",
       "             'self': 536,\n",
       "             'brilliant': 537,\n",
       "             'voice': 538,\n",
       "             'soon': 539,\n",
       "             'thinking': 540,\n",
       "             'eyes': 541,\n",
       "             '....': 542,\n",
       "             'hour': 543,\n",
       "             'late': 544,\n",
       "             'car': 545,\n",
       "             'horrible': 546,\n",
       "             'parts': 547,\n",
       "             'themselves': 548,\n",
       "             'decent': 549,\n",
       "             'slow': 550,\n",
       "             'fight': 551,\n",
       "             'age': 552,\n",
       "             'city': 553,\n",
       "             'stories': 554,\n",
       "             'highly': 555,\n",
       "             'myself': 556,\n",
       "             'leave': 557,\n",
       "             'obviously': 558,\n",
       "             'except': 559,\n",
       "             'type': 560,\n",
       "             'directed': 561,\n",
       "             'feeling': 562,\n",
       "             'hit': 563,\n",
       "             'daughter': 564,\n",
       "             'overall': 565,\n",
       "             'happens': 566,\n",
       "             'took': 567,\n",
       "             'brother': 568,\n",
       "             'heard': 569,\n",
       "             'known': 570,\n",
       "             'writer': 571,\n",
       "             'particularly': 572,\n",
       "             'strong': 573,\n",
       "             'matter': 574,\n",
       "             'moment': 575,\n",
       "             'stop': 576,\n",
       "             '>': 577,\n",
       "             'etc': 578,\n",
       "             'killed': 579,\n",
       "             'says': 580,\n",
       "             'mr.': 581,\n",
       "             'stuff': 582,\n",
       "             'roles': 583,\n",
       "             'attempt': 584,\n",
       "             'violence': 585,\n",
       "             'complete': 586,\n",
       "             'chance': 587,\n",
       "             'happened': 588,\n",
       "             'james': 589,\n",
       "             'living': 590,\n",
       "             'police': 591,\n",
       "             'coming': 592,\n",
       "             'hero': 593,\n",
       "             'lack': 594,\n",
       "             'cut': 595,\n",
       "             'including': 596,\n",
       "             'told': 597,\n",
       "             'extremely': 598,\n",
       "             'involved': 599,\n",
       "             'murder': 600,\n",
       "             'gore': 601,\n",
       "             'obvious': 602,\n",
       "             'alone': 603,\n",
       "             'looked': 604,\n",
       "             'song': 605,\n",
       "             'happen': 606,\n",
       "             '/>in': 607,\n",
       "             'score': 608,\n",
       "             'wonder': 609,\n",
       "             'number': 610,\n",
       "             '/>there': 611,\n",
       "             'husband': 612,\n",
       "             'none': 613,\n",
       "             'shown': 614,\n",
       "             'group': 615,\n",
       "             'king': 616,\n",
       "             'david': 617,\n",
       "             'serious': 618,\n",
       "             'simple': 619,\n",
       "             'experience': 620,\n",
       "             'hell': 621,\n",
       "             'interest': 622,\n",
       "             'opening': 623,\n",
       "             'sad': 624,\n",
       "             'save': 625,\n",
       "             'musical': 626,\n",
       "             'exactly': 627,\n",
       "             'taken': 628,\n",
       "             'crap': 629,\n",
       "             'english': 630,\n",
       "             'ago': 631,\n",
       "             'career': 632,\n",
       "             'running': 633,\n",
       "             'talking': 634,\n",
       "             'whose': 635,\n",
       "             'hours': 636,\n",
       "             'cinematography': 637,\n",
       "             'jokes': 638,\n",
       "             'reality': 639,\n",
       "             'relationship': 640,\n",
       "             'somewhat': 641,\n",
       "             'please': 642,\n",
       "             'annoying': 643,\n",
       "             'happy': 644,\n",
       "             'released': 645,\n",
       "             'huge': 646,\n",
       "             'finds': 647,\n",
       "             'across': 648,\n",
       "             'change': 649,\n",
       "             'ends': 650,\n",
       "             'taking': 651,\n",
       "             'started': 652,\n",
       "             'usually': 653,\n",
       "             'level': 654,\n",
       "             'light': 655,\n",
       "             'scary': 656,\n",
       "             'mostly': 657,\n",
       "             'saying': 658,\n",
       "             'shots': 659,\n",
       "             'yourself': 660,\n",
       "             'middle': 661,\n",
       "             'wish': 662,\n",
       "             'important': 663,\n",
       "             'ok': 664,\n",
       "             'view': 665,\n",
       "             'episodes': 666,\n",
       "             'documentary': 667,\n",
       "             'body': 668,\n",
       "             'cool': 669,\n",
       "             'possible': 670,\n",
       "             'word': 671,\n",
       "             'order': 672,\n",
       "             'novel': 673,\n",
       "             'talent': 674,\n",
       "             '5': 675,\n",
       "             'due': 676,\n",
       "             'b': 677,\n",
       "             'call': 678,\n",
       "             'seriously': 679,\n",
       "             'single': 680,\n",
       "             'major': 681,\n",
       "             'opinion': 682,\n",
       "             'power': 683,\n",
       "             '/>if': 684,\n",
       "             'hilarious': 685,\n",
       "             'ridiculous': 686,\n",
       "             'songs': 687,\n",
       "             'turned': 688,\n",
       "             'robert': 689,\n",
       "             '4': 690,\n",
       "             'modern': 691,\n",
       "             'usual': 692,\n",
       "             'strange': 693,\n",
       "             'apparently': 694,\n",
       "             'five': 695,\n",
       "             'ones': 696,\n",
       "             'earth': 697,\n",
       "             'four': 698,\n",
       "             'female': 699,\n",
       "             'sequence': 700,\n",
       "             'knows': 701,\n",
       "             'clearly': 702,\n",
       "             'country': 703,\n",
       "             'tells': 704,\n",
       "             'comic': 705,\n",
       "             'supporting': 706,\n",
       "             'future': 707,\n",
       "             'anyway': 708,\n",
       "             'easily': 709,\n",
       "             'television': 710,\n",
       "             'thriller': 711,\n",
       "             'british': 712,\n",
       "             'cheap': 713,\n",
       "             'events': 714,\n",
       "             'room': 715,\n",
       "             'knew': 716,\n",
       "             'attention': 717,\n",
       "             'falls': 718,\n",
       "             'fast': 719,\n",
       "             'jack': 720,\n",
       "             'miss': 721,\n",
       "             'basically': 722,\n",
       "             'rating': 723,\n",
       "             'straight': 724,\n",
       "             'local': 725,\n",
       "             'rock': 726,\n",
       "             'romantic': 727,\n",
       "             'words': 728,\n",
       "             'problems': 729,\n",
       "             'beyond': 730,\n",
       "             'non': 731,\n",
       "             'whether': 732,\n",
       "             'bring': 733,\n",
       "             'paul': 734,\n",
       "             'sets': 735,\n",
       "             'class': 736,\n",
       "             'it.<br': 737,\n",
       "             'entertainment': 738,\n",
       "             'silly': 739,\n",
       "             '/>but': 740,\n",
       "             'stand': 741,\n",
       "             'upon': 742,\n",
       "             'moving': 743,\n",
       "             'red': 744,\n",
       "             'oscar': 745,\n",
       "             'review': 746,\n",
       "             'similar': 747,\n",
       "             'predictable': 748,\n",
       "             'talk': 749,\n",
       "             'disappointed': 750,\n",
       "             'mystery': 751,\n",
       "             'appears': 752,\n",
       "             'needs': 753,\n",
       "             'near': 754,\n",
       "             'nearly': 755,\n",
       "             'above': 756,\n",
       "             'enjoyable': 757,\n",
       "             'named': 758,\n",
       "             'giving': 759,\n",
       "             'lady': 760,\n",
       "             'george': 761,\n",
       "             'theater': 762,\n",
       "             'sister': 763,\n",
       "             'mention': 764,\n",
       "             'actual': 765,\n",
       "             'bunch': 766,\n",
       "             'eye': 767,\n",
       "             'message': 768,\n",
       "             'theme': 769,\n",
       "             'within': 770,\n",
       "             'team': 771,\n",
       "             'ten': 772,\n",
       "             'storyline': 773,\n",
       "             'feels': 774,\n",
       "             'sequel': 775,\n",
       "             'dull': 776,\n",
       "             'richard': 777,\n",
       "             'animation': 778,\n",
       "             'release': 779,\n",
       "             'herself': 780,\n",
       "             'using': 781,\n",
       "             'die': 782,\n",
       "             'easy': 783,\n",
       "             'hate': 784,\n",
       "             'lots': 785,\n",
       "             'points': 786,\n",
       "             'working': 787,\n",
       "             'minute': 788,\n",
       "             'showing': 789,\n",
       "             'ways': 790,\n",
       "             'fantastic': 791,\n",
       "             're': 792,\n",
       "             'add': 793,\n",
       "             'begins': 794,\n",
       "             'clear': 795,\n",
       "             'stay': 796,\n",
       "             'among': 797,\n",
       "             'viewers': 798,\n",
       "             'buy': 799,\n",
       "             'tale': 800,\n",
       "             'general': 801,\n",
       "             'york': 802,\n",
       "             'editing': 803,\n",
       "             'leads': 804,\n",
       "             'french': 805,\n",
       "             'figure': 806,\n",
       "             'form': 807,\n",
       "             'weak': 808,\n",
       "             'movie.<br': 809,\n",
       "             'feature': 810,\n",
       "             'follow': 811,\n",
       "             'lee': 812,\n",
       "             'surprised': 813,\n",
       "             'tried': 814,\n",
       "             'famous': 815,\n",
       "             '/>and': 816,\n",
       "             'effort': 817,\n",
       "             'parents': 818,\n",
       "             'realistic': 819,\n",
       "             'season': 820,\n",
       "             'typical': 821,\n",
       "             'peter': 822,\n",
       "             'soundtrack': 823,\n",
       "             'material': 824,\n",
       "             'means': 825,\n",
       "             'crime': 826,\n",
       "             'fall': 827,\n",
       "             'certain': 828,\n",
       "             'comments': 829,\n",
       "             'elements': 830,\n",
       "             'dialog': 831,\n",
       "             'brought': 832,\n",
       "             'space': 833,\n",
       "             'filmed': 834,\n",
       "             'hear': 835,\n",
       "             'sorry': 836,\n",
       "             'lame': 837,\n",
       "             'tom': 838,\n",
       "             'doubt': 839,\n",
       "             '/>a': 840,\n",
       "             'greatest': 841,\n",
       "             'imagine': 842,\n",
       "             'kept': 843,\n",
       "             'viewing': 844,\n",
       "             'zombie': 845,\n",
       "             'de': 846,\n",
       "             'gone': 847,\n",
       "             '$': 848,\n",
       "             'japanese': 849,\n",
       "             'sexual': 850,\n",
       "             'particular': 851,\n",
       "             'somehow': 852,\n",
       "             'eventually': 853,\n",
       "             'rent': 854,\n",
       "             'atmosphere': 855,\n",
       "             'move': 856,\n",
       "             'third': 857,\n",
       "             '/>as': 858,\n",
       "             'check': 859,\n",
       "             'possibly': 860,\n",
       "             'america': 861,\n",
       "             'difficult': 862,\n",
       "             'sequences': 863,\n",
       "             'baby': 864,\n",
       "             'period': 865,\n",
       "             'suspense': 866,\n",
       "             'dance': 867,\n",
       "             'poorly': 868,\n",
       "             'became': 869,\n",
       "             'learn': 870,\n",
       "             'reviews': 871,\n",
       "             'deal': 872,\n",
       "             'disney': 873,\n",
       "             'stage': 874,\n",
       "             'premise': 875,\n",
       "             'believable': 876,\n",
       "             'subject': 877,\n",
       "             'wait': 878,\n",
       "             'average': 879,\n",
       "             'decided': 880,\n",
       "             'leaves': 881,\n",
       "             'film.<br': 882,\n",
       "             'indeed': 883,\n",
       "             'surprise': 884,\n",
       "             'sit': 885,\n",
       "             'expected': 886,\n",
       "             'meet': 887,\n",
       "             'jane': 888,\n",
       "             'romance': 889,\n",
       "             'avoid': 890,\n",
       "             'forget': 891,\n",
       "             'killing': 892,\n",
       "             'nor': 893,\n",
       "             'whatever': 894,\n",
       "             'meets': 895,\n",
       "             'street': 896,\n",
       "             'dramatic': 897,\n",
       "             'nature': 898,\n",
       "             'reading': 899,\n",
       "             'sci': 900,\n",
       "             'earlier': 901,\n",
       "             'begin': 902,\n",
       "             'fi': 903,\n",
       "             'screenplay': 904,\n",
       "             'note': 905,\n",
       "             'older': 906,\n",
       "             'memorable': 907,\n",
       "             'needed': 908,\n",
       "             'write': 909,\n",
       "             'keeps': 910,\n",
       "             'beauty': 911,\n",
       "             'badly': 912,\n",
       "             'directors': 913,\n",
       "             'emotional': 914,\n",
       "             'truth': 915,\n",
       "             'society': 916,\n",
       "             'whom': 917,\n",
       "             'credits': 918,\n",
       "             'dog': 919,\n",
       "             'forced': 920,\n",
       "             'hot': 921,\n",
       "             'question': 922,\n",
       "             'male': 923,\n",
       "             '`': 924,\n",
       "             'deep': 925,\n",
       "             'joe': 926,\n",
       "             'realize': 927,\n",
       "             'writers': 928,\n",
       "             'forward': 929,\n",
       "             'shame': 930,\n",
       "             'cheesy': 931,\n",
       "             'okay': 932,\n",
       "             's': 933,\n",
       "             'superb': 934,\n",
       "             'comment': 935,\n",
       "             'crazy': 936,\n",
       "             'incredibly': 937,\n",
       "             'monster': 938,\n",
       "             'situation': 939,\n",
       "             'unless': 940,\n",
       "             'air': 941,\n",
       "             'dream': 942,\n",
       "             'interested': 943,\n",
       "             'development': 944,\n",
       "             'features': 945,\n",
       "             '20': 946,\n",
       "             'acted': 947,\n",
       "             'ask': 948,\n",
       "             'free': 949,\n",
       "             'imdb': 950,\n",
       "             'powerful': 951,\n",
       "             'rate': 952,\n",
       "             'weird': 953,\n",
       "             'perfectly': 954,\n",
       "             'previous': 955,\n",
       "             'hands': 956,\n",
       "             'return': 957,\n",
       "             'total': 958,\n",
       "             'otherwise': 959,\n",
       "             'box': 960,\n",
       "             'unique': 961,\n",
       "             'open': 962,\n",
       "             'casting': 963,\n",
       "             'directing': 964,\n",
       "             'girlfriend': 965,\n",
       "             'plenty': 966,\n",
       "             'quickly': 967,\n",
       "             'footage': 968,\n",
       "             'towards': 969,\n",
       "             'worked': 970,\n",
       "             'christmas': 971,\n",
       "             'laughs': 972,\n",
       "             'personal': 973,\n",
       "             'effect': 974,\n",
       "             'portrayed': 975,\n",
       "             'mark': 976,\n",
       "             'meant': 977,\n",
       "             'brings': 978,\n",
       "             'sounds': 979,\n",
       "             'leading': 980,\n",
       "             'admit': 981,\n",
       "             'appear': 982,\n",
       "             'bill': 983,\n",
       "             'creepy': 984,\n",
       "             'potential': 985,\n",
       "             'battle': 986,\n",
       "             'boys': 987,\n",
       "             'create': 988,\n",
       "             'fire': 989,\n",
       "             'present': 990,\n",
       "             'result': 991,\n",
       "             'business': 992,\n",
       "             'fantasy': 993,\n",
       "             'fails': 994,\n",
       "             'hardly': 995,\n",
       "             'pay': 996,\n",
       "             'plus': 997,\n",
       "             'cop': 998,\n",
       "             'telling': 999,\n",
       "             ...})"
      ]
     },
     "execution_count": 73,
     "metadata": {},
     "output_type": "execute_result"
    }
   ],
   "source": [
    "TEXT.vocab.stoi"
   ]
  },
  {
   "cell_type": "markdown",
   "metadata": {
    "id": "dmSDDDPMxd2S"
   },
   "source": [
    "## <b>(4) data를 불러오기 위한 iterator 생성하기</b>\n",
    "- torchtext.data.BucketIterator"
   ]
  },
  {
   "cell_type": "code",
   "execution_count": 74,
   "metadata": {
    "id": "CydKXKVXyaqG"
   },
   "outputs": [],
   "source": [
    "BATCH_SIZE = 64\n",
    "N_LAYERS = 1\n",
    "HIDDEN_DIM = 256\n",
    "N_CLASSES = 2\n",
    "DROPOUT_RATIO = 0.3\n",
    "VOCAB_SIZE = len(TEXT.vocab)\n",
    "EMBED_DIM = 128\n",
    "LR = 0.001\n",
    "EPOCHS = 10"
   ]
  },
  {
   "cell_type": "code",
   "execution_count": 75,
   "metadata": {
    "id": "gvgVapIYx1K-"
   },
   "outputs": [],
   "source": [
    "data.BucketIterator.splits?"
   ]
  },
  {
   "cell_type": "code",
   "execution_count": 76,
   "metadata": {
    "id": "PYbAmznNxN7I"
   },
   "outputs": [],
   "source": [
    "trn_iter, val_iter, tst_iter = data.BucketIterator.splits(datasets = (trn_dset, val_dset, tst_dset), \n",
    "                                                          batch_size = BATCH_SIZE, \n",
    "                                                          shuffle=True, \n",
    "                                                          repeat=False)"
   ]
  },
  {
   "cell_type": "code",
   "execution_count": 77,
   "metadata": {
    "colab": {
     "base_uri": "https://localhost:8080/"
    },
    "id": "0AO3UJnC8r_P",
    "outputId": "9a071885-5acd-4873-82bb-39fbe82f72e2"
   },
   "outputs": [
    {
     "data": {
      "text/plain": [
       "<torchtext.data.iterator.BucketIterator at 0x7f25885c74d0>"
      ]
     },
     "execution_count": 77,
     "metadata": {},
     "output_type": "execute_result"
    }
   ],
   "source": [
    "trn_iter"
   ]
  },
  {
   "cell_type": "markdown",
   "metadata": {
    "id": "WaFZcHY69lXO"
   },
   "source": [
    "- 반복자 (iter)와 반복자에서 next data를 추출하는 next()로 미니배치를 생성"
   ]
  },
  {
   "cell_type": "code",
   "execution_count": 78,
   "metadata": {
    "id": "vxEYrKgi81t8"
   },
   "outputs": [],
   "source": [
    "trn_batch = next(iter(trn_iter))\n",
    "val_batch = next(iter(val_iter))\n",
    "tst_batch = next(iter(tst_iter))"
   ]
  },
  {
   "cell_type": "code",
   "execution_count": 79,
   "metadata": {
    "colab": {
     "base_uri": "https://localhost:8080/"
    },
    "id": "xmyoCzb791IO",
    "outputId": "32dcf27d-2855-4c26-dfac-99ad78423223"
   },
   "outputs": [
    {
     "data": {
      "text/plain": [
       "tensor([[  12, 1905, 6508,  ...,    1,    1,    1],\n",
       "        [  12, 4830,   11,  ...,    1,    1,    1],\n",
       "        [  50,   78,    8,  ...,    1,    1,    1],\n",
       "        ...,\n",
       "        [ 842,   14,   27,  ...,    1,    1,    1],\n",
       "        [ 114,  450,  844,  ...,    1,    1,    1],\n",
       "        [ 664,    4,   21,  ...,    1,    1,    1]])"
      ]
     },
     "execution_count": 79,
     "metadata": {},
     "output_type": "execute_result"
    }
   ],
   "source": [
    "trn_batch.text"
   ]
  },
  {
   "cell_type": "code",
   "execution_count": 80,
   "metadata": {
    "colab": {
     "base_uri": "https://localhost:8080/"
    },
    "id": "-MnLnrYG93b6",
    "outputId": "7ce5774f-9a5f-438f-b727-928a94fe3e19"
   },
   "outputs": [
    {
     "data": {
      "text/plain": [
       "tensor([1, 0, 0, 0, 0, 0, 0, 0, 1, 1, 0, 0, 0, 1, 0, 1, 0, 0, 1, 0, 1, 1, 1, 1,\n",
       "        0, 1, 0, 0, 0, 0, 0, 1, 1, 0, 1, 1, 1, 1, 0, 0, 1, 1, 1, 1, 0, 0, 0, 1,\n",
       "        1, 1, 0, 0, 1, 0, 1, 0, 0, 1, 0, 1, 0, 0, 0, 0])"
      ]
     },
     "execution_count": 80,
     "metadata": {},
     "output_type": "execute_result"
    }
   ],
   "source": [
    "trn_batch.label"
   ]
  },
  {
   "cell_type": "markdown",
   "metadata": {
    "id": "nLvn-Eht-WlW"
   },
   "source": [
    "### <b>batch로 추출된 문장 길이는 매번 다릅니다</b>\n",
    "\n",
    "- fix_length를 정해주지 않았기 때문"
   ]
  },
  {
   "cell_type": "code",
   "execution_count": 81,
   "metadata": {
    "colab": {
     "base_uri": "https://localhost:8080/"
    },
    "id": "1mYQ83mV-D54",
    "outputId": "f80a9015-0269-44fc-a211-d3260ccd764a"
   },
   "outputs": [
    {
     "name": "stdout",
     "output_type": "stream",
     "text": [
      "torch.Size([64, 935])\n",
      "torch.Size([64, 50])\n",
      "torch.Size([64, 36])\n"
     ]
    }
   ],
   "source": [
    "print(trn_batch.text.shape)\n",
    "print(val_batch.text.shape)\n",
    "print(tst_batch.text.shape)"
   ]
  },
  {
   "cell_type": "code",
   "execution_count": 82,
   "metadata": {
    "colab": {
     "base_uri": "https://localhost:8080/"
    },
    "id": "l9mZwf4c-OFs",
    "outputId": "ad666b74-2274-4a46-b68e-2e6453179560"
   },
   "outputs": [
    {
     "name": "stdout",
     "output_type": "stream",
     "text": [
      "torch.Size([64, 1186])\n",
      "torch.Size([64, 50])\n",
      "torch.Size([64, 36])\n"
     ]
    }
   ],
   "source": [
    "trn_batch = next(iter(trn_iter))\n",
    "val_batch = next(iter(val_iter))\n",
    "tst_batch = next(iter(tst_iter))\n",
    "print(trn_batch.text.shape)\n",
    "print(val_batch.text.shape)\n",
    "print(tst_batch.text.shape)"
   ]
  },
  {
   "cell_type": "code",
   "execution_count": 83,
   "metadata": {
    "colab": {
     "base_uri": "https://localhost:8080/"
    },
    "id": "CV4s7luX-k2n",
    "outputId": "3fda39b2-5ee4-4484-a481-f222fd771220"
   },
   "outputs": [
    {
     "data": {
      "text/plain": [
       "tensor([[  13,    9,   41,  ...,    9,  837,   42],\n",
       "        [  13,    9,    2,  ...,  140,   79,    4],\n",
       "        [   6,   64, 1706,  ...,   72, 2925,    4],\n",
       "        ...,\n",
       "        [  13,    9,  226,  ...,    1,    1,    1],\n",
       "        [ 558,  419,   21,  ...,    1,    1,    1],\n",
       "        [ 214,    3,  375,  ...,    1,    1,    1]])"
      ]
     },
     "execution_count": 83,
     "metadata": {},
     "output_type": "execute_result"
    }
   ],
   "source": [
    "val_batch.text"
   ]
  },
  {
   "cell_type": "markdown",
   "metadata": {
    "id": "Yu2eq17y_QZJ"
   },
   "source": [
    "### <b>위 과정에서 소모해버린 batch를 다시 포함시키기 위해 iter를 다시 선언할게요</b>"
   ]
  },
  {
   "cell_type": "code",
   "execution_count": 84,
   "metadata": {
    "colab": {
     "base_uri": "https://localhost:8080/"
    },
    "id": "-F9OG6DC_Yrh",
    "outputId": "b36d4d36-ffaf-42ba-a09a-b4ad199c4ea7"
   },
   "outputs": [
    {
     "name": "stdout",
     "output_type": "stream",
     "text": [
      "a\n",
      "b\n",
      "c\n"
     ]
    }
   ],
   "source": [
    "my_list=['a','b','c']\n",
    "my_iter = iter(my_list)\n",
    "print(next(my_iter))\n",
    "print(next(my_iter))\n",
    "print(next(my_iter))\n",
    "# print(next(my_iter))"
   ]
  },
  {
   "cell_type": "code",
   "execution_count": 85,
   "metadata": {
    "id": "7s-KiwYx-1OD"
   },
   "outputs": [],
   "source": [
    "trn_iter, val_iter, tst_iter = data.BucketIterator.splits(datasets = (trn_dset, val_dset, tst_dset), \n",
    "                                                          batch_size = BATCH_SIZE, \n",
    "                                                          shuffle=True, \n",
    "                                                          repeat=False)"
   ]
  },
  {
   "cell_type": "markdown",
   "metadata": {
    "id": "I2c3dyXKYSgH"
   },
   "source": [
    "# <b> 3. RNN model 구현하기(GRU)</b>"
   ]
  },
  {
   "cell_type": "code",
   "execution_count": 86,
   "metadata": {
    "id": "8jPJqIlu_0VM"
   },
   "outputs": [],
   "source": [
    "class GRU(nn.Module):\n",
    "    def __init__(self, n_layers, hidden_dim, n_vocab, embed_dim, n_classes, dropout_ratio=0.2):\n",
    "        super(GRU, self).__init__()\n",
    "        self.n_layers = n_layers\n",
    "        self.hidden_dim = hidden_dim\n",
    "\n",
    "        self.embed = nn.Embedding(n_vocab, embed_dim)\n",
    "        self.dropout = nn.Dropout(dropout_ratio)\n",
    "        self.gru = nn.GRU(input_size = embed_dim, \n",
    "                          hidden_size = hidden_dim, \n",
    "                          num_layers = n_layers, \n",
    "                          batch_first=True)\n",
    "        self.out = nn.Linear(self.hidden_dim, n_classes)\n",
    "\n",
    "    def forward(self, x):\n",
    "        x = self.embed(x)\n",
    "        h0 = self._init_state(batch_size = x.shape[0])\n",
    "        gru_outputs, _ = self.gru(x, h0)\n",
    "        final_gru_output = gru_outputs[:,-1,:]\n",
    "        self.dropout(final_gru_output)\n",
    "        logit = self.out(final_gru_output)\n",
    "        return logit\n",
    "\n",
    "    def _init_state(self, batch_size=1):\n",
    "        weight = next(self.parameters()).data\n",
    "        return weight.new(self.n_layers, batch_size, self.hidden_dim).zero_()\n",
    "        "
   ]
  },
  {
   "cell_type": "code",
   "execution_count": 87,
   "metadata": {
    "id": "LcjsSRsmYosA"
   },
   "outputs": [],
   "source": [
    "model = GRU(n_layers = N_LAYERS, \n",
    "            hidden_dim=HIDDEN_DIM, \n",
    "            n_vocab = VOCAB_SIZE, \n",
    "            embed_dim = EMBED_DIM, \n",
    "            n_classes = N_CLASSES, \n",
    "            dropout_ratio = DROPOUT_RATIO).to(device)\n",
    "optimizer = torch.optim.Adam(model.parameters(), lr = LR)"
   ]
  },
  {
   "cell_type": "markdown",
   "metadata": {
    "id": "Ru7CF1ncj0Na"
   },
   "source": [
    "# <b>4. 모델 학습 및 평가 함수 생성하기</b>"
   ]
  },
  {
   "cell_type": "code",
   "execution_count": 88,
   "metadata": {
    "id": "_Czqv52okLwc"
   },
   "outputs": [],
   "source": [
    "def train(model, opt, data_iterator):\n",
    "    model.train()\n",
    "    for i, batch in enumerate(data_iterator):\n",
    "        x, y = batch.text.to(device), batch.label.to(device)\n",
    "        opt.zero_grad()\n",
    "\n",
    "        output = model(x)\n",
    "        # print(output)\n",
    "        # print(y)\n",
    "        loss = F.cross_entropy(output, y)\n",
    "        \n",
    "        \n",
    "        loss.backward()\n",
    "        opt.step()"
   ]
  },
  {
   "cell_type": "code",
   "execution_count": 89,
   "metadata": {
    "id": "ylFTZnnilV2o"
   },
   "outputs": [],
   "source": [
    "def evaluate(model, data_iterator):\n",
    "    model.eval()\n",
    "    corrects, total_loss = 0, 0\n",
    "    for _, batch in enumerate(data_iterator):\n",
    "        x, y = batch.text.to(device), batch.label.to(device)\n",
    "        output = model(x)\n",
    "        loss = F.cross_entropy(output, y, reduction='sum')\n",
    "        total_loss += loss.item()\n",
    "        corrects += (output.max(1)[1].view(y.size()).data == y.data).sum()\n",
    "    size = len(data_iterator.dataset)\n",
    "    total_loss /= size\n",
    "    accuracy = 100*corrects / size\n",
    "    return total_loss, accuracy"
   ]
  },
  {
   "cell_type": "code",
   "execution_count": 90,
   "metadata": {
    "colab": {
     "base_uri": "https://localhost:8080/"
    },
    "id": "pWe4DV01lU_a",
    "outputId": "44bce982-cb52-4bde-af4d-a0c0cf031c7f"
   },
   "outputs": [
    {
     "name": "stdout",
     "output_type": "stream",
     "text": [
      "[Epoch: 1] val loss: 0.69 | val accuracy: 49.96\n",
      "[Epoch: 2] val loss: 0.69 | val accuracy: 50.44\n",
      "[Epoch: 3] val loss: 0.69 | val accuracy: 51.26\n",
      "[Epoch: 4] val loss: 0.69 | val accuracy: 52.44\n",
      "[Epoch: 5] val loss: 0.59 | val accuracy: 71.76\n",
      "[Epoch: 6] val loss: 0.36 | val accuracy: 84.06\n",
      "[Epoch: 7] val loss: 0.28 | val accuracy: 88.02\n",
      "[Epoch: 8] val loss: 0.28 | val accuracy: 88.74\n",
      "[Epoch: 9] val loss: 0.33 | val accuracy: 88.36\n",
      "[Epoch: 10] val loss: 0.42 | val accuracy: 87.70\n"
     ]
    }
   ],
   "source": [
    "best_val_loss = None\n",
    "for epoch in range(1, EPOCHS+1):\n",
    "    train(model, optimizer, trn_iter)\n",
    "    val_loss, val_accuracy = evaluate(model, val_iter)\n",
    "\n",
    "    print(f\"[Epoch: {epoch}] val loss: {val_loss:.2f} | val accuracy: {val_accuracy:.2f}\")\n",
    "\n",
    "    # 검증 오차가 가장 적은 최적의 모델을 저장\n",
    "    if not best_val_loss or val_loss < best_val_loss:\n",
    "        if not os.path.isdir(\"snapshot\"):\n",
    "            os.makedirs(\"snapshot\")\n",
    "        torch.save(model.state_dict(), './snapshot/txtclassification.pt')\n",
    "        best_val_loss = val_loss"
   ]
  },
  {
   "cell_type": "code",
   "execution_count": null,
   "metadata": {
    "id": "W7NpaDaCms8A"
   },
   "outputs": [],
   "source": []
  }
 ],
 "metadata": {
  "accelerator": "GPU",
  "colab": {
   "provenance": []
  },
  "gpuClass": "standard",
  "kernelspec": {
   "display_name": "Python 3 (ipykernel)",
   "language": "python",
   "name": "python3"
  },
  "language_info": {
   "codemirror_mode": {
    "name": "ipython",
    "version": 3
   },
   "file_extension": ".py",
   "mimetype": "text/x-python",
   "name": "python",
   "nbconvert_exporter": "python",
   "pygments_lexer": "ipython3",
   "version": "3.8.12"
  }
 },
 "nbformat": 4,
 "nbformat_minor": 4
}
