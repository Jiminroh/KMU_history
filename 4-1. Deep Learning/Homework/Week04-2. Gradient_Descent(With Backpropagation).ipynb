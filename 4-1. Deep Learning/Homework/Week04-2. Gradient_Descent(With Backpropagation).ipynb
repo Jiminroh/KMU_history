{
 "cells": [
  {
   "cell_type": "code",
   "execution_count": 1,
   "id": "62ff4c30",
   "metadata": {},
   "outputs": [],
   "source": [
    "import numpy as np"
   ]
  },
  {
   "cell_type": "markdown",
   "id": "a93cd207",
   "metadata": {},
   "source": [
    "# Loss Function 정의"
   ]
  },
  {
   "cell_type": "code",
   "execution_count": 2,
   "id": "97d2bab1",
   "metadata": {},
   "outputs": [],
   "source": [
    "def sum_squares_error(y_pred, y_real):\n",
    "    result = np.sum((y_real-y_pred)**2)\n",
    "    return result\n",
    "\n",
    "def cross_entropy_error(y_pred, y_real, is_onehot = True):\n",
    "    if y_real.ndim==1:\n",
    "        y_real = y_real.reshape(1,y_real.size)\n",
    "        y_pred = y_pred.reshape(1,y_pred.size)\n",
    "\n",
    "    batch_size = y_pred.shape[0]\n",
    "    if is_onehot:\n",
    "        result = -np.sum(y_real * np.log(y_pred+1e-7)) / batch_size\n",
    "    else:\n",
    "        result = -np.sum(np.log(y_pred[np.arange(batch_size), y_real] + 1e-7)) / batch_size\n",
    "\n",
    "    return result"
   ]
  },
  {
   "cell_type": "markdown",
   "id": "d2692543",
   "metadata": {},
   "source": [
    "# (사실 필요는 없지만)numerical_grad_정의"
   ]
  },
  {
   "cell_type": "code",
   "execution_count": 3,
   "id": "61aba97c",
   "metadata": {},
   "outputs": [],
   "source": [
    "def numerical_grad_1d(f, x):\n",
    "    h = 1e-4\n",
    "    grad = np.zeros_like(x)\n",
    "    \n",
    "    for idx in range(x.size):\n",
    "        x_i = x[idx]\n",
    "        \n",
    "        x[idx] = x_i + h\n",
    "        f_x_plus_h = f(x)\n",
    "        \n",
    "        x[idx] = x_i-h\n",
    "        f_x_minus_h = f(x)\n",
    "        \n",
    "        x[idx] = x_i\n",
    "        grad[idx] = (f_x_plus_h - f_x_minus_h)/(2*h)\n",
    "    \n",
    "    return grad\n",
    "\n",
    "def numerical_grad_2d(f,x):\n",
    "    if x.ndim == 1:\n",
    "        grad = numerical_grad_1d(f,x)\n",
    "    else:\n",
    "        grad = np.zeros_like(x)\n",
    "        for idx in range(x.shape[0]):\n",
    "            grad[idx] = numerical_grad_1d(f,x[idx])\n",
    "    return grad"
   ]
  },
  {
   "cell_type": "markdown",
   "id": "fad7f9d9",
   "metadata": {},
   "source": [
    "## Scalar data에 대한 Computational Graph의 forward, backward"
   ]
  },
  {
   "cell_type": "code",
   "execution_count": 2,
   "id": "b6095564-6498-431e-92bc-51ba2b7e422c",
   "metadata": {},
   "outputs": [],
   "source": [
    "class Mullayer:\n",
    "    def __init__(self):\n",
    "        self.x = None\n",
    "        self.y = None \n",
    "    \n",
    "    def forward(self, x, y):\n",
    "        self.x = x\n",
    "        self.y = y\n",
    "        result = x * y\n",
    "        return result\n",
    "    \n",
    "    def backward(self, d_result):\n",
    "        dx = d_result * self.y\n",
    "        dy = d_result * self.x \n",
    "        return dx, dy\n",
    "    \n",
    "class Addlayer:\n",
    "    def __init__(self):\n",
    "        self.x = None \n",
    "        self.y = None \n",
    "        \n",
    "    def forward(self, x, y):\n",
    "        self.x = x\n",
    "        self.y = y\n",
    "        return x + y\n",
    "    \n",
    "    def backward(self, d_result):\n",
    "        dx = d_result * 1\n",
    "        dy = d_result * 1\n",
    "        return dx, dy"
   ]
  },
  {
   "cell_type": "code",
   "execution_count": 4,
   "id": "50077ab1",
   "metadata": {},
   "outputs": [],
   "source": [
    "class MulLayer:\n",
    "    def __init__(self):\n",
    "        self.x = None\n",
    "        self.y = None\n",
    "    \n",
    "    def forward(self, x, y):\n",
    "        self.x = x\n",
    "        self.y = y\n",
    "        result = x * y\n",
    "        return result\n",
    "    \n",
    "    def backward(self, d_result):\n",
    "        d_x = d_result * self.y\n",
    "        d_y = d_result * self.x\n",
    "        return d_x, d_y"
   ]
  },
  {
   "cell_type": "code",
   "execution_count": 5,
   "id": "b2856a96",
   "metadata": {},
   "outputs": [],
   "source": [
    "class AddLayer:\n",
    "    def __init__(self):\n",
    "        self.x = None\n",
    "        self.y = None\n",
    "    \n",
    "    def forward(self, x, y):\n",
    "        self.x = x\n",
    "        self.y = y\n",
    "        result = x + y\n",
    "        return x + y\n",
    "    \n",
    "    def backward(self, d_result):\n",
    "        d_x = d_result * 1\n",
    "        d_y = d_result * 1\n",
    "        return d_x, d_y"
   ]
  },
  {
   "cell_type": "markdown",
   "id": "ad44d8a2",
   "metadata": {},
   "source": [
    "## Activation Function에 대한 forward, backward"
   ]
  },
  {
   "cell_type": "code",
   "execution_count": 6,
   "id": "4f7d0daa",
   "metadata": {},
   "outputs": [],
   "source": [
    "class ReLU:\n",
    "    def __init__(self):\n",
    "        self.x = None\n",
    "    \n",
    "    def forward(self, x):\n",
    "        self.mask = (x<=0)\n",
    "        result = x.copy()\n",
    "        result[self.mask] = 0\n",
    "        return result\n",
    "    \n",
    "    def backward(self, d_result):\n",
    "        d_result[self.mask] = 0\n",
    "        d_x = d_result\n",
    "        return d_x\n",
    "    "
   ]
  },
  {
   "cell_type": "code",
   "execution_count": 7,
   "id": "2309d289",
   "metadata": {},
   "outputs": [],
   "source": [
    "class Sigmoid:\n",
    "    def __init__(self):\n",
    "        self.x = None\n",
    "        \n",
    "    def forward(self, x):\n",
    "        result = 1 / (1+np.exp(-x))\n",
    "        self.result = result\n",
    "        return result\n",
    "    \n",
    "    def backward(self, d_result):\n",
    "        d_x = d_result * (1.0-self.result) * self.result\n",
    "        return d_x"
   ]
  },
  {
   "cell_type": "markdown",
   "id": "6f55f80f",
   "metadata": {},
   "source": [
    "## Matrix 연산에 대한 forward, backward"
   ]
  },
  {
   "cell_type": "code",
   "execution_count": 8,
   "id": "9c9d2c76",
   "metadata": {},
   "outputs": [],
   "source": [
    "class Affine:\n",
    "    def __init__(self, W, b):\n",
    "        self.W = W\n",
    "        self.b = b\n",
    "        self.X = None\n",
    "        self.d_W = None\n",
    "        self.d_b = None\n",
    "        \n",
    "    def forward(self, X):\n",
    "        self.X = X\n",
    "        result = np.dot(X, self.W) + self.b\n",
    "        return result\n",
    "    \n",
    "    def backward(self, d_result):\n",
    "        d_x = np.dot(d_result, self.W.T)\n",
    "        self.d_W = np.dot(self.X.T, d_result)\n",
    "        self.d_b = np.sum(d_result, axis=0)\n",
    "        return d_x"
   ]
  },
  {
   "cell_type": "code",
   "execution_count": 9,
   "id": "60100883",
   "metadata": {},
   "outputs": [],
   "source": [
    "class SoftmaxWithLoss:\n",
    "    def __init__(self):\n",
    "        self.loss = None\n",
    "        self.y_pred = None\n",
    "        self.y_real = None\n",
    "        \n",
    "    def forward(self, a, y_real): \n",
    "        # a: softmax를 통과하기 전, 최종 출력층의 뉴런에 모이는 값\n",
    "        self.y_real = y_real\n",
    "#         self.y_pred = softmax_prev(a)\n",
    "        self.y_pred = softmax(a)\n",
    "        self.loss = cross_entropy_error(self.y_pred, self.y_real)\n",
    "        return self.loss\n",
    "    \n",
    "    def backward(self, d_result):\n",
    "        batch_size = self.y_real.shape[0]\n",
    "        d_x = (self.y_pred - self.y_real) / batch_size\n",
    "        return d_x\n",
    "        \n",
    "        "
   ]
  },
  {
   "cell_type": "markdown",
   "id": "b0a182dc",
   "metadata": {},
   "source": [
    "# 이제 MNIST를 분류하는 FFNN을 직접 학습해봅시다\n",
    "\n",
    "## 이전과 다른점은 이제 backprop이 정의되어 있는 operation을 사용해야 한다는 것 뿐입니다.\n",
    "### 예를 들면, np.dot함수 대신에 Affine()클래스의 객체를 사용하여 operation을 하는게 있겠네요"
   ]
  },
  {
   "cell_type": "markdown",
   "id": "6a8729ad",
   "metadata": {},
   "source": [
    "<span style = 'font-size:1.2em;line-height:1.5em'>다음과 같은 과정을 수행해야 합니다.</span>\n",
    "- <span style = 'font-size:1.2em;line-height:1.5em'>1. neural network class 정의하기: 여기선, Two-layer FFNN을 정의하겠습니다.이 클래스에는 다음과 같은 속성과 메소드가 필요합니다.</span>\n",
    "    - <span style = 'font-size:1.1em;line-height:1.5em'><b>(1)params 속성: </b>Network의 weight들이 들어있는 dictionary.</span>\n",
    "    - <span style = 'font-size:1.1em;line-height:1.5em'><b>(2)predict() 메소드: </b>Forward Propagation을 진행하는 메소드</span>\n",
    "    - <span style = 'font-size:1.1em;line-height:1.5em'><b>(3)get_loss() 메소드: </b>predict()의 결과와 실제 레이블을 비교하여 cross entropy loss를 계산하는 메소드</span>\n",
    "    - <span style = 'font-size:1.1em;line-height:1.5em'><b>(4)get_grad() 메소드: </b>현재 W상태에서 gradient를 산출하는 메소드</span>\n",
    "    - <span style = 'font-size:1.1em;line-height:1.5em'><b>(5)get_accuracy() 메소드: </b>(Optional) 현재 상태에서 네트워크가 inference하는 결과의 정확도를 산출하는 메소드</span>\n",
    "- <span style = 'font-size:1.2em;line-height:1.5em'>2. Mini-batch 데이터를 데이터에 입력</span>\n",
    "- <span style = 'font-size:1.2em;line-height:1.5em'>3. 현재 W상태에서 gradient를 계산</span>\n",
    "- <span style = 'font-size:1.2em;line-height:1.5em'>4. gradient descent로 learning_rate만큼 이동</span>"
   ]
  },
  {
   "cell_type": "code",
   "execution_count": 10,
   "id": "a8c4df40",
   "metadata": {},
   "outputs": [],
   "source": [
    "from act_fn import *\n",
    "from mnist import load_mnist\n",
    "from collections import OrderedDict"
   ]
  },
  {
   "cell_type": "code",
   "execution_count": 11,
   "id": "ad12fe74",
   "metadata": {},
   "outputs": [],
   "source": [
    "class MyNet:\n",
    "    def __init__(self, input_size, hidden_size, output_size, weight_init_std=0.01):\n",
    "        # parameter 생성\n",
    "        self.params = dict()\n",
    "        self.params['W1'] = np.random.randn(input_size, hidden_size) * weight_init_std\n",
    "        self.params['b1'] = np.zeros(hidden_size)\n",
    "        self.params['W2'] = np.random.randn(hidden_size, output_size) * weight_init_std\n",
    "        self.params['b2'] = np.zeros(output_size)\n",
    "        \n",
    "        # Operation들을 np.dot, relu 등의 함수 대신 Affine, ReLU등의 클래스에서 생성한 인스턴스 사용\n",
    "        # OrderedDict를 써서 순서대로 연산하라는 명시를 하지만, 이제는 그냥 Dict를 써도 되긴 합니다.\n",
    "        self.layers = OrderedDict()\n",
    "        self.layers['affine1'] = Affine(self.params['W1'], self.params['b1'])\n",
    "        self.layers['relu1'] = ReLU()\n",
    "        self.layers['affine2'] = Affine(self.params['W2'], self.params['b2'])\n",
    "        \n",
    "        self.last_layer = SoftmaxWithLoss()\n",
    "        \n",
    "        \n",
    "    def predict(self, X):\n",
    "        for layer in self.layers.values():\n",
    "            X = layer.forward(X)\n",
    "            \n",
    "        return X\n",
    "    \n",
    "    def get_loss(self, X, y_real):\n",
    "        y_pred = self.predict(X)\n",
    "        loss   = self.last_layer.forward(y_pred, y_real)\n",
    "        \n",
    "        return loss\n",
    "    \n",
    "    def get_accuracy(self, X, y_real):\n",
    "        y_pred = self.predict(X)\n",
    "        y_pred = np.argmax(y_pred, axis=1)\n",
    "        if y_real.ndim!=1:\n",
    "            y_real = np.argmax(y_real, axis=1)\n",
    "        \n",
    "        accuracy = np.sum(y_pred == y_real) / X.shape[0]\n",
    "        return accuracy\n",
    "    \n",
    "    def get_numerical_grad(self, X, y_real):\n",
    "        loss = lambda W: self.get_loss(X, y_real)\n",
    "        grads = dict()\n",
    "        grads['W1'] = numerical_grad_2d(loss, self.params['W1'])\n",
    "        grads['b1'] = numerical_grad_2d(loss, self.params['b1'])\n",
    "        grads['W2'] = numerical_grad_2d(loss, self.params['W2'])\n",
    "        grads['b2'] = numerical_grad_2d(loss, self.params['b2'])\n",
    "        return grads\n",
    "    \n",
    "    def get_grad(self, X, y_real):\n",
    "        # Forward Prop으로 loss 산출\n",
    "        self.get_loss(X, y_real)\n",
    "        \n",
    "        # Backward Prop\n",
    "        d_out = 1\n",
    "        d_out = self.last_layer.backward(d_out)\n",
    "        \n",
    "        # Backward prop은 원래 방향과 반대 방향으로 진행됨\n",
    "        layers = list(self.layers.values())\n",
    "        layers.reverse()\n",
    "        for layer in layers:\n",
    "            d_out = layer.backward(d_out)\n",
    "            \n",
    "        grads = dict()\n",
    "        grads['W1'] = self.layers['affine1'].d_W\n",
    "        grads['b1'] = self.layers['affine1'].d_b\n",
    "        grads['W2'] = self.layers['affine2'].d_W\n",
    "        grads['b2'] = self.layers['affine2'].d_b\n",
    "        \n",
    "        return grads\n",
    "        "
   ]
  },
  {
   "cell_type": "code",
   "execution_count": 12,
   "id": "76cd507d",
   "metadata": {},
   "outputs": [],
   "source": [
    "is_onehot = True\n",
    "(x_trn, y_trn), (x_tst, y_tst) = load_mnist(normalize=True, \n",
    "                                            flatten=True, \n",
    "                                            one_hot_label=is_onehot)"
   ]
  },
  {
   "cell_type": "code",
   "execution_count": 13,
   "id": "83cf4c4a",
   "metadata": {},
   "outputs": [
    {
     "name": "stdout",
     "output_type": "stream",
     "text": [
      "train acc, test acc | 0.07481666666666667, 0.0777\n",
      "train acc, test acc | 0.9029666666666667, 0.9046\n",
      "train acc, test acc | 0.9254, 0.9285\n",
      "train acc, test acc | 0.93735, 0.9394\n",
      "train acc, test acc | 0.9468666666666666, 0.9464\n",
      "train acc, test acc | 0.9521833333333334, 0.9514\n",
      "train acc, test acc | 0.9573, 0.9557\n",
      "train acc, test acc | 0.9614333333333334, 0.9576\n",
      "train acc, test acc | 0.9650333333333333, 0.9609\n",
      "train acc, test acc | 0.9677, 0.9616\n",
      "train acc, test acc | 0.9707833333333333, 0.9644\n",
      "train acc, test acc | 0.9728166666666667, 0.9658\n",
      "train acc, test acc | 0.9742333333333333, 0.9663\n",
      "train acc, test acc | 0.9755833333333334, 0.9667\n",
      "train acc, test acc | 0.97765, 0.9698\n",
      "train acc, test acc | 0.9785833333333334, 0.9695\n",
      "train acc, test acc | 0.9791333333333333, 0.9701\n"
     ]
    }
   ],
   "source": [
    "network = MyNet(input_size=784, hidden_size=50, output_size=10)\n",
    "\n",
    "iters_num = 10000  # 반복횟수\n",
    "train_size = x_trn.shape[0]\n",
    "batch_size = 100  # 미니배치 크기\n",
    "learning_rate = 0.1\n",
    "\n",
    "train_loss_list = []\n",
    "train_acc_list = []\n",
    "test_acc_list = []\n",
    "\n",
    "# 1에폭당 반복 수\n",
    "iter_per_epoch = max(train_size / batch_size, 1)\n",
    "\n",
    "for i in range(iters_num):\n",
    "    # print(i)\n",
    "    # 미니배치 획득\n",
    "    batch_mask = np.random.choice(train_size, batch_size)\n",
    "    x_batch = x_trn[batch_mask]\n",
    "    t_batch = y_trn[batch_mask]\n",
    "\n",
    "    # 오차역전파법으로 기울기 계산\n",
    "    grad = network.get_grad(x_batch, t_batch)\n",
    "\n",
    "    # 매개변수 갱신\n",
    "    for key in ('W1', 'b1', 'W2', 'b2'):\n",
    "        network.params[key] -= learning_rate * grad[key]\n",
    "\n",
    "    # 학습 경과 기록\n",
    "    loss = network.get_loss(x_batch, t_batch)\n",
    "    train_loss_list.append(loss)\n",
    "\n",
    "    # 1에폭 당 정확도 계산\n",
    "    if i % iter_per_epoch == 0:\n",
    "        train_acc = network.get_accuracy(x_trn, y_trn)\n",
    "        test_acc = network.get_accuracy(x_tst, y_tst)\n",
    "        train_acc_list.append(train_acc)\n",
    "        test_acc_list.append(test_acc)\n",
    "        print(\"train acc, test acc | \" + str(train_acc) + \", \" + str(test_acc))\n"
   ]
  },
  {
   "cell_type": "code",
   "execution_count": null,
   "id": "7bf88020",
   "metadata": {},
   "outputs": [],
   "source": []
  },
  {
   "cell_type": "code",
   "execution_count": 14,
   "id": "e0f318f1",
   "metadata": {},
   "outputs": [],
   "source": [
    "import matplotlib.pyplot as plt\n",
    "%matplotlib inline"
   ]
  },
  {
   "cell_type": "code",
   "execution_count": 15,
   "id": "d24667cf",
   "metadata": {},
   "outputs": [
    {
     "data": {
      "text/plain": [
       "[<matplotlib.lines.Line2D at 0x10eb30d30>]"
      ]
     },
     "execution_count": 15,
     "metadata": {},
     "output_type": "execute_result"
    },
    {
     "data": {
      "image/png": "[encoded data removed]",
      "text/plain": [
       "<Figure size 640x480 with 1 Axes>"
      ]
     },
     "metadata": {},
     "output_type": "display_data"
    }
   ],
   "source": [
    "plt.plot(train_loss_list)"
   ]
  },
  {
   "cell_type": "code",
   "execution_count": 16,
   "id": "04f98737",
   "metadata": {},
   "outputs": [
    {
     "data": {
      "text/plain": [
       "[<matplotlib.lines.Line2D at 0x10ec2aca0>]"
      ]
     },
     "execution_count": 16,
     "metadata": {},
     "output_type": "execute_result"
    },
    {
     "data": {
      "image/png": "[encoded data removed]",
      "text/plain": [
       "<Figure size 640x480 with 1 Axes>"
      ]
     },
     "metadata": {},
     "output_type": "display_data"
    }
   ],
   "source": [
    "plt.plot(train_acc_list)\n",
    "plt.plot(test_acc_list)"
   ]
  },
  {
   "cell_type": "code",
   "execution_count": null,
   "id": "9f794a41",
   "metadata": {},
   "outputs": [],
   "source": []
  }
 ],
 "metadata": {
  "kernelspec": {
   "display_name": "Python 3 (ipykernel)",
   "language": "python",
   "name": "python3"
  },
  "language_info": {
   "codemirror_mode": {
    "name": "ipython",
    "version": 3
   },
   "file_extension": ".py",
   "mimetype": "text/x-python",
   "name": "python",
   "nbconvert_exporter": "python",
   "pygments_lexer": "ipython3",
   "version": "3.8.12"
  }
 },
 "nbformat": 4,
 "nbformat_minor": 5
}
