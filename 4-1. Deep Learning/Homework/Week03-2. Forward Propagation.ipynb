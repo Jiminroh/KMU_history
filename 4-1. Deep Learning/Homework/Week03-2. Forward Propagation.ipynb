{
 "cells": [
  {
   "cell_type": "markdown",
   "id": "81b6c4b3",
   "metadata": {},
   "source": [
    "# 자, Neural Network를 만들어봅시다.\n",
    "## 우리가 만들 network는 3-layer Feed forward Fully Connected Neural Network입니다.\n",
    "\n",
    "- <span style = 'font-size:1.2em;line-height:1.5em'><b>input layer:</b> 784 neurons(MNIST 데이터는 28*28 pixel로 되어있고, 이를 쭉 펼치면 784차원이 됩니다.)</span>\n",
    "- <span style = 'font-size:1.2em;line-height:1.5em'><b>1st hidden layer:</b> 50 neurons</span>\n",
    "- <span style = 'font-size:1.2em;line-height:1.5em'><b>2nd hidden layer:</b> 100 neurons</span>\n",
    "- <span style = 'font-size:1.2em;line-height:1.5em'><b>output layer:</b> 10 neurons (0~9까지의 숫자가 있기 때문에, 총 10개의 클래스)</span>"
   ]
  },
  {
   "cell_type": "markdown",
   "id": "e7f8af53",
   "metadata": {},
   "source": [
    "## 미리 학습해둔 weight를 불러오겠습니다.\n",
    "- <span style = 'font-size:1.2em;line-height:1.5em'>미리 학습한 weight파일은 sample_weights 폴더안에 sample_weight.pkl이라는 파일로 저장되어 있습니다.</span>\n",
    "- <span style = 'font-size:1.1em;line-height:1.3em'>(출처: https://github.com/WegraLee/deep-learning-from-scratch)</span>\n"
   ]
  },
  {
   "cell_type": "code",
   "execution_count": 2,
   "id": "a62500ab",
   "metadata": {},
   "outputs": [],
   "source": [
    "import numpy as np\n",
    "import pickle"
   ]
  },
  {
   "cell_type": "code",
   "execution_count": 3,
   "id": "ca8a9045",
   "metadata": {},
   "outputs": [],
   "source": [
    "import pickle\n",
    "# pkl확장자의 파일은 다음과 같은 방식으로 열 수 있습니다!\n",
    "with open(\"sample_weights/sample_weight.pkl\",\"rb\") as f:\n",
    "    network = pickle.load(f)"
   ]
  },
  {
   "cell_type": "code",
   "execution_count": 4,
   "id": "6d6a5cfb",
   "metadata": {},
   "outputs": [
    {
     "data": {
      "text/plain": [
       "dict"
      ]
     },
     "execution_count": 4,
     "metadata": {},
     "output_type": "execute_result"
    }
   ],
   "source": [
    "# sample_weight라는 파일에는 dictionary가 저장되어 있네요!\n",
    "type(network)"
   ]
  },
  {
   "cell_type": "code",
   "execution_count": 5,
   "id": "1b19d546",
   "metadata": {},
   "outputs": [
    {
     "name": "stdout",
     "output_type": "stream",
     "text": [
      "b2's shape: (100,), type: <class 'numpy.ndarray'>\n",
      "W1's shape: (784, 50), type: <class 'numpy.ndarray'>\n",
      "b1's shape: (50,), type: <class 'numpy.ndarray'>\n",
      "W2's shape: (50, 100), type: <class 'numpy.ndarray'>\n",
      "W3's shape: (100, 10), type: <class 'numpy.ndarray'>\n",
      "b3's shape: (10,), type: <class 'numpy.ndarray'>\n"
     ]
    }
   ],
   "source": [
    "# dictionary에 뭐가 들어있는지 볼까요?\n",
    "for key, value in network.items():\n",
    "    print(f\"{key}'s shape: {value.shape}, type: {type(value)}\")"
   ]
  },
  {
   "cell_type": "markdown",
   "id": "43ce9556",
   "metadata": {},
   "source": [
    "## 이제 하나의 MNIST 데이터에 대해서 forward propagation해보겠습니다."
   ]
  },
  {
   "cell_type": "code",
   "execution_count": 6,
   "id": "bdcba4ea",
   "metadata": {},
   "outputs": [],
   "source": [
    "# mnist.py에서 우리가 실제로 사용할 load_mnist함수만 불러올게요\n",
    "from mnist import load_mnist"
   ]
  },
  {
   "cell_type": "code",
   "execution_count": 7,
   "id": "e9814c29",
   "metadata": {},
   "outputs": [],
   "source": [
    "(x_trn, y_trn), (x_tst, y_tst) = load_mnist(flatten=True, normalize=False)"
   ]
  },
  {
   "cell_type": "code",
   "execution_count": 9,
   "id": "58fca5c0-670e-4e1a-a1ce-6c7950d34976",
   "metadata": {},
   "outputs": [
    {
     "data": {
      "text/plain": [
       "(784,)"
      ]
     },
     "execution_count": 9,
     "metadata": {},
     "output_type": "execute_result"
    }
   ],
   "source": [
    "x_trn[0].shape"
   ]
  },
  {
   "cell_type": "code",
   "execution_count": 11,
   "id": "ac76b66d",
   "metadata": {},
   "outputs": [],
   "source": [
    "idx = 0\n",
    "x_sample = x_trn[idx].reshape(1,-1)\n",
    "y_sample = y_trn[idx].reshape(1,-1)"
   ]
  },
  {
   "cell_type": "code",
   "execution_count": 12,
   "id": "585c15a6-6cf0-4337-b508-cef45dbc4961",
   "metadata": {},
   "outputs": [
    {
     "data": {
      "text/plain": [
       "(1, 784)"
      ]
     },
     "execution_count": 12,
     "metadata": {},
     "output_type": "execute_result"
    }
   ],
   "source": [
    "x_sample.shape"
   ]
  },
  {
   "cell_type": "code",
   "execution_count": 8,
   "id": "58602942",
   "metadata": {},
   "outputs": [],
   "source": [
    "from act_func import *"
   ]
  },
  {
   "cell_type": "code",
   "execution_count": 9,
   "id": "2606e834",
   "metadata": {},
   "outputs": [
    {
     "name": "stderr",
     "output_type": "stream",
     "text": [
      "/Users/jimin/Library/CloudStorage/GoogleDrive-shwlals96@gmail.com/내 드라이브/KMU/4학년 1학기/딥러닝/과제/deeplearning/[Lab]Week03/act_func.py:27: RuntimeWarning: overflow encountered in exp\n",
      "  result = 1/(1+np.exp(-x))\n"
     ]
    }
   ],
   "source": [
    "W1, W2, W3 = network['W1'], network['W2'], network['W3']\n",
    "b1, b2, b3 = network['b1'], network['b2'], network['b3']\n",
    "\n",
    "a1 = np.dot(x_sample, W1)+b1\n",
    "z1 = sigmoid(a1)\n",
    "a2 = np.dot(z1, W2)+b2\n",
    "z2 = sigmoid(a2)\n",
    "a3 = np.dot(z2,W3)+b3\n",
    "a3 = softmax(a3)"
   ]
  },
  {
   "cell_type": "markdown",
   "id": "c25d31fb",
   "metadata": {},
   "source": [
    "## 0번째 데이터에 대해서 NN의 output값은 다음과 같습니다."
   ]
  },
  {
   "cell_type": "code",
   "execution_count": 10,
   "id": "55ff4257",
   "metadata": {
    "scrolled": true
   },
   "outputs": [
    {
     "data": {
      "text/plain": [
       "array([[1.1443588e-03, 2.0609930e-05, 1.0901098e-05, 5.6976795e-02,\n",
       "        4.4489605e-07, 9.4075352e-01, 7.9904919e-07, 2.3371121e-04,\n",
       "        6.7104248e-04, 1.8777004e-04]], dtype=float32)"
      ]
     },
     "execution_count": 10,
     "metadata": {},
     "output_type": "execute_result"
    }
   ],
   "source": [
    "a3"
   ]
  },
  {
   "cell_type": "markdown",
   "id": "e3a2b637",
   "metadata": {},
   "source": [
    "## softmax값이 최대인 class로 분류합니다. NN은 어느 class로 분류했을까요?"
   ]
  },
  {
   "cell_type": "code",
   "execution_count": 11,
   "id": "64981baf",
   "metadata": {},
   "outputs": [
    {
     "data": {
      "text/plain": [
       "5"
      ]
     },
     "execution_count": 11,
     "metadata": {},
     "output_type": "execute_result"
    }
   ],
   "source": [
    "np.argmax(a3)"
   ]
  },
  {
   "cell_type": "markdown",
   "id": "2da6faa8",
   "metadata": {},
   "source": [
    "## 실제값과 비교하면 어떨까요?"
   ]
  },
  {
   "cell_type": "code",
   "execution_count": 12,
   "id": "d9f6f7c8",
   "metadata": {},
   "outputs": [
    {
     "name": "stdout",
     "output_type": "stream",
     "text": [
      "[[5]]\n"
     ]
    }
   ],
   "source": [
    "print(y_sample)"
   ]
  },
  {
   "cell_type": "markdown",
   "id": "d9ba884b",
   "metadata": {},
   "source": [
    "## 자, 그럼 이제 60000개의 데이터에 대해서 NN의 모든 output을 계산해보죠"
   ]
  },
  {
   "cell_type": "code",
   "execution_count": 13,
   "id": "ea8f1caa",
   "metadata": {},
   "outputs": [],
   "source": [
    "result = []\n",
    "for i in range(x_trn.shape[0]):\n",
    "    x_sample = x_trn[i]\n",
    "    a1 = np.dot(x_sample, W1)+b1\n",
    "    z1 = sigmoid(a1)\n",
    "    a2 = np.dot(z1, W2)+b2\n",
    "    z2 = sigmoid(a2)\n",
    "    a3 = np.dot(z2,W3)+b3\n",
    "    a3 = softmax(a3)\n",
    "    \n",
    "    result.append(np.argmax(a3))\n",
    "result = np.array(result)"
   ]
  },
  {
   "cell_type": "code",
   "execution_count": 14,
   "id": "aac73ac0",
   "metadata": {},
   "outputs": [
    {
     "data": {
      "text/plain": [
       "array([5, 0, 4, ..., 5, 6, 8])"
      ]
     },
     "execution_count": 14,
     "metadata": {},
     "output_type": "execute_result"
    }
   ],
   "source": [
    "result"
   ]
  },
  {
   "cell_type": "markdown",
   "id": "449b435f",
   "metadata": {},
   "source": [
    "## 정확도는 얼마나 될까요?"
   ]
  },
  {
   "cell_type": "code",
   "execution_count": 15,
   "id": "8e860bae",
   "metadata": {},
   "outputs": [
    {
     "data": {
      "text/plain": [
       "55511"
      ]
     },
     "execution_count": 15,
     "metadata": {},
     "output_type": "execute_result"
    }
   ],
   "source": [
    "np.sum(result == y_trn)"
   ]
  },
  {
   "cell_type": "code",
   "execution_count": 16,
   "id": "9130114a",
   "metadata": {},
   "outputs": [
    {
     "name": "stdout",
     "output_type": "stream",
     "text": [
      "미리 학습한 모델의 정확도는 92.52%입니다.\n"
     ]
    }
   ],
   "source": [
    "print(f'미리 학습한 모델의 정확도는 {100*np.sum(result==y_trn) / len(y_trn):.2f}%입니다.')"
   ]
  },
  {
   "cell_type": "markdown",
   "id": "1e6fbe73",
   "metadata": {},
   "source": [
    "## 몇번째 데이터에서 틀렸으며, 그 데이터의 실제값과 예측값은 뭘까요?"
   ]
  },
  {
   "cell_type": "code",
   "execution_count": 17,
   "id": "6a0c5085",
   "metadata": {},
   "outputs": [
    {
     "name": "stdout",
     "output_type": "stream",
     "text": [
      "[[   24]\n",
      " [   48]\n",
      " [   70]\n",
      " ...\n",
      " [59915]\n",
      " [59919]\n",
      " [59934]]\n",
      "[3 3 2 ... 7 8 7]\n",
      "[1 9 1 ... 4 1 0]\n"
     ]
    }
   ],
   "source": [
    "print(np.argwhere(result!=y_trn))\n",
    "print(result[result != y_trn])\n",
    "print(y_trn[result!=y_trn])"
   ]
  },
  {
   "cell_type": "code",
   "execution_count": 18,
   "id": "b9107d67",
   "metadata": {},
   "outputs": [
    {
     "name": "stdout",
     "output_type": "stream",
     "text": [
      "4489\n"
     ]
    }
   ],
   "source": [
    "print(len(np.argwhere(result!=y_trn)))"
   ]
  },
  {
   "cell_type": "markdown",
   "id": "97f918ca",
   "metadata": {},
   "source": [
    "## 틀린 녀석들은 어떻게 생겼길래 틀렸을까요? 한번 그려봅시다"
   ]
  },
  {
   "cell_type": "code",
   "execution_count": 19,
   "id": "f8d77af8",
   "metadata": {},
   "outputs": [],
   "source": [
    "import matplotlib.pyplot as plt\n",
    "%matplotlib inline"
   ]
  },
  {
   "cell_type": "code",
   "execution_count": 20,
   "id": "d8c35139",
   "metadata": {},
   "outputs": [
    {
     "data": {
      "text/plain": [
       "<matplotlib.image.AxesImage at 0x117fd9fd0>"
      ]
     },
     "execution_count": 20,
     "metadata": {},
     "output_type": "execute_result"
    },
    {
     "data": {
      "image/png": "[encoded data removed]",
      "text/plain": [
       "<Figure size 640x480 with 1 Axes>"
      ]
     },
     "metadata": {},
     "output_type": "display_data"
    }
   ],
   "source": [
    "plt.imshow(x_trn[70].reshape(28,28))"
   ]
  },
  {
   "cell_type": "code",
   "execution_count": null,
   "id": "9eff43ef-58bd-4fa8-979e-0ce8b83799b6",
   "metadata": {},
   "outputs": [],
   "source": []
  }
 ],
 "metadata": {
  "kernelspec": {
   "display_name": "Python 3 (ipykernel)",
   "language": "python",
   "name": "python3"
  },
  "language_info": {
   "codemirror_mode": {
    "name": "ipython",
    "version": 3
   },
   "file_extension": ".py",
   "mimetype": "text/x-python",
   "name": "python",
   "nbconvert_exporter": "python",
   "pygments_lexer": "ipython3",
   "version": "3.8.12"
  }
 },
 "nbformat": 4,
 "nbformat_minor": 5
}
