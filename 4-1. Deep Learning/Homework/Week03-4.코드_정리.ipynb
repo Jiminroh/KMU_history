{
 "cells": [
  {
   "cell_type": "markdown",
   "id": "88914a7c",
   "metadata": {},
   "source": [
    "# 이번주에 우리는 다음 역할들을 하는 코드를 작성했습니다."
   ]
  },
  {
   "cell_type": "markdown",
   "id": "fd672536",
   "metadata": {},
   "source": [
    "- <span style = 'font-size:1.2em;line-height:1.5em'>1. Activation Function</span>\n",
    "- <span style = 'font-size:1.2em;line-height:1.5em'>2. 미리 학습한 weight들 불러와서 network 구성하기</span>\n",
    "- <span style = 'font-size:1.2em;line-height:1.5em'>3. NN에 입력할 데이터 추출하기 (single data / minibatch data)</span>\n",
    "- <span style = 'font-size:1.2em;line-height:1.5em'>4. 추출한 데이터로 Forward Propagation진행하기</span>\n",
    "- <span style = 'font-size:1.2em;line-height:1.5em'>5. 분류 성능 결과 산출 및 오분류한 데이터 파악하기</span>"
   ]
  },
  {
   "cell_type": "markdown",
   "id": "25fea036",
   "metadata": {},
   "source": [
    "## 이런식의 코드를 막 그냥 작성해버리면 나중에 알아보기 어렵습니다."
   ]
  },
  {
   "cell_type": "markdown",
   "id": "71a8ba01",
   "metadata": {},
   "source": [
    "- <span style = 'font-size:1.2em;line-height:1.5em'>게다가, Jupyter Notebook형식의 .ipynb로 작성하면 나중에 이 코드를 다시 써먹기가 어렵습니다.</span>\n",
    "\n",
    "- <span style = 'font-size:1.2em;line-height:1.5em'>좀 헷갈려도 코드를 모듈화하고 스크립트 파일인 .py파일로 변환해줄 필요가 있습니다.</span>"
   ]
  },
  {
   "cell_type": "markdown",
   "id": "1233b43c",
   "metadata": {},
   "source": [
    "## 먼저 코드를 모듈화 해보겠습니다."
   ]
  },
  {
   "cell_type": "markdown",
   "id": "0605b09d",
   "metadata": {},
   "source": [
    "- <span style = 'font-size:1.2em;line-height:1.5em'>1. Activation Function: 이미 첫번째 jupyter notebook에서 모듈화 완료하여 .py파일로 분리하였습니다.</span>"
   ]
  },
  {
   "cell_type": "markdown",
   "id": "5fa308d3",
   "metadata": {},
   "source": [
    "- <span style = 'font-size:1.2em;line-height:1.5em'>2. 미리 학습한 weight들 불러와서 network 구성하기</span>"
   ]
  },
  {
   "cell_type": "code",
   "execution_count": 1,
   "id": "0d94c930",
   "metadata": {},
   "outputs": [],
   "source": [
    "import numpy as np\n",
    "import pickle\n",
    "from mnist import load_mnist\n",
    "from act_func import sigmoid, softmax"
   ]
  },
  {
   "cell_type": "code",
   "execution_count": 2,
   "id": "0db01509",
   "metadata": {},
   "outputs": [],
   "source": [
    "def init_network():\n",
    "    fpath = 'sample_weights/sample_weight.pkl'\n",
    "    with open(fpath, 'rb') as f:\n",
    "        network = pickle.load(f)\n",
    "    return network"
   ]
  },
  {
   "cell_type": "markdown",
   "id": "67625e26",
   "metadata": {},
   "source": [
    "- <span style = 'font-size:1.2em;line-height:1.5em'>3. NN에 입력할 데이터 추출하기 (single data / minibatch data)</span>"
   ]
  },
  {
   "cell_type": "code",
   "execution_count": 3,
   "id": "f1586bc1",
   "metadata": {},
   "outputs": [],
   "source": [
    "\n",
    "def get_batch_data(X, y, start_idx, end_idx):\n",
    "    x_batch = X[start_idx:end_idx]\n",
    "    y_batch = y[start_idx:end_idx]\n",
    "    return x_batch, y_batch"
   ]
  },
  {
   "cell_type": "markdown",
   "id": "503546e1",
   "metadata": {},
   "source": [
    "- <span style = 'font-size:1.2em;line-height:1.5em'>4. 추출한 데이터로 Forward Propagation진행하기</span>"
   ]
  },
  {
   "cell_type": "code",
   "execution_count": 4,
   "id": "ec7ff0d5",
   "metadata": {},
   "outputs": [],
   "source": [
    "def forward_propagation(network, x):\n",
    "    w1, w2, w3 = network['W1'], network['W2'], network['W3']\n",
    "    b1, b2, b3 = network['b1'], network['b2'], network['b3']\n",
    "    \n",
    "    a1 = np.dot(x,w1)+b1\n",
    "    z1 = sigmoid(a1)\n",
    "    a2 = np.dot(z1,w2)+b2\n",
    "    z2 = sigmoid(a2)\n",
    "    a3 = np.dot(z2,w3)+b3\n",
    "    output = softmax(a3)\n",
    "    \n",
    "    return output"
   ]
  },
  {
   "cell_type": "markdown",
   "id": "13442653",
   "metadata": {},
   "source": [
    "- <span style = 'font-size:1.2em;line-height:1.5em'>이제 다음과 같이 코드가 정리됩니다.</span>"
   ]
  },
  {
   "cell_type": "code",
   "execution_count": 5,
   "id": "4ad48ed9",
   "metadata": {},
   "outputs": [
    {
     "name": "stderr",
     "output_type": "stream",
     "text": [
      "/Users/jimin/Library/CloudStorage/GoogleDrive-shwlals96@gmail.com/내 드라이브/KMU/4학년 1학기/딥러닝/과제/deeplearning/[Lab]Week03/act_func.py:27: RuntimeWarning: overflow encountered in exp\n",
      "  result = 1/(1+np.exp(-x))\n"
     ]
    },
    {
     "name": "stdout",
     "output_type": "stream",
     "text": [
      "미리 학습한 모델의 정확도는 92.52%입니다.\n"
     ]
    }
   ],
   "source": [
    "(x_trn, y_trn), (x_tst, y_tst) = load_mnist(flatten=True, normalize=False)\n",
    "network = init_network()\n",
    "batch_size = 100\n",
    "\n",
    "results = []\n",
    "for i in range(0,x_trn.shape[0],batch_size):\n",
    "    x_batch, _ = get_batch_data(x_trn, y_trn, i, i+batch_size)\n",
    "    pred_score_batch = forward_propagation(network, x_batch)\n",
    "    pred_label_batch = np.argmax(pred_score_batch, axis=1)\n",
    "    results.extend(pred_label_batch)\n",
    "    \n",
    "print(f'미리 학습한 모델의 정확도는 {100*np.sum(results==y_trn) / len(y_trn):.2f}%입니다.')"
   ]
  },
  {
   "cell_type": "markdown",
   "id": "db580c5d",
   "metadata": {},
   "source": [
    "# 과제"
   ]
  },
  {
   "cell_type": "markdown",
   "id": "2a7f07ee",
   "metadata": {},
   "source": [
    "<span style = 'font-size:1.2em;line-height:1.5em'>1. 위의 함수들은 numpy 형식으로 되어있었습니다. 이를 Pytorch기반의 코드로 바꿔보세요. nn등의 High-level API를 사용하지 마시고, tensor 연산 기반의 코드로 작성해보세요.</span>\n",
    "\n",
    "- <span style = 'font-size:1.1em;line-height:1.3em'>Hint 1. Activation function들을 Pytorch코드로 변환하셔야 됩니다.</span>\n",
    "- <span style = 'font-size:1.1em;line-height:1.3em'>Hint 2. network에 있는 numpy array를 Pytorch tensor 형태로 변환하세요.</span>\n",
    "- <span style = 'font-size:1.1em;line-height:1.3em'>Hint 3. MNIST mini-batch data는 현재 numpy array인데 Pytorch tensor 형태로 변환하세요.</span>\n",
    "- <span style = 'font-size:1.1em;line-height:1.3em'>Hint 4. Pytorch에서 텐서곱은 torch.matmul()입니다.</span>"
   ]
  },
  {
   "cell_type": "code",
   "execution_count": null,
   "id": "717a2099",
   "metadata": {},
   "outputs": [],
   "source": []
  }
 ],
 "metadata": {
  "kernelspec": {
   "display_name": "Python 3 (ipykernel)",
   "language": "python",
   "name": "python3"
  },
  "language_info": {
   "codemirror_mode": {
    "name": "ipython",
    "version": 3
   },
   "file_extension": ".py",
   "mimetype": "text/x-python",
   "name": "python",
   "nbconvert_exporter": "python",
   "pygments_lexer": "ipython3",
   "version": "3.8.12"
  }
 },
 "nbformat": 4,
 "nbformat_minor": 5
}
